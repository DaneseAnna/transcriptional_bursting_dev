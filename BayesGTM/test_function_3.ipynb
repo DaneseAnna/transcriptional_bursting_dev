{
 "cells": [
  {
   "cell_type": "code",
   "execution_count": 1,
   "id": "6fbb8763",
   "metadata": {},
   "outputs": [],
   "source": [
    "import statisUtils as utils\n",
    "import pandas as pd\n",
    "import numpy as np\n",
    "import random\n",
    "from scipy.stats import loguniform, lognorm\n",
    "from scipy import stats\n",
    "import time\n",
    "import math\n",
    "\n",
    "import ABCSampler as abcSampler\n"
   ]
  },
  {
   "cell_type": "code",
   "execution_count": 2,
   "id": "12ee36a6",
   "metadata": {},
   "outputs": [
    {
     "data": {
      "text/plain": [
       "array([[ 66,  95,  50, ...,  32,  39,  49],\n",
       "       [ 38,  94,  75, ...,  75,  40,  52],\n",
       "       [  7,   9,  13, ...,   3,   0,   6],\n",
       "       ...,\n",
       "       [  4,   7,   3, ...,   0,   0,   4],\n",
       "       [  0,   0,   0, ...,  24,   0,   5],\n",
       "       [ 85,  65, 136, ...,  84,  43,  51]])"
      ]
     },
     "execution_count": 2,
     "metadata": {},
     "output_type": "execute_result"
    }
   ],
   "source": [
    "# df = pd.read_csv('data/MEF_QC_all.csv', header=None) # gene x cells\n",
    "df = pd.read_csv('data/outlier_genes_3.csv', header=None) # gene x cells\n",
    "\n",
    "data_all = np.array(df, dtype=int)\n",
    "data_all"
   ]
  },
  {
   "cell_type": "code",
   "execution_count": 3,
   "id": "25318bb0",
   "metadata": {},
   "outputs": [],
   "source": [
    "def lognpdf(x, mu, sigma):\n",
    "    shape  = sigma\n",
    "    loc    = 0\n",
    "    scale  = np.exp(mu)\n",
    "    return lognorm.pdf(x, shape, loc, scale)"
   ]
  },
  {
   "cell_type": "code",
   "execution_count": null,
   "id": "59a6e18c",
   "metadata": {
    "scrolled": true
   },
   "outputs": [
    {
     "name": "stdout",
     "output_type": "stream",
     "text": [
      "Processing Prior: Gene = 3\n",
      "Processing Posterior: Gene = 3, T = 2\n",
      "Processing Posterior: Gene = 3, T = 3\n",
      "Processing Posterior: Gene = 3, T = 4\n",
      "Processing Posterior: Gene = 3, T = 5\n",
      "Processing Prior: Gene = 4\n",
      "Processing Posterior: Gene = 4, T = 2\n",
      "Processing Posterior: Gene = 4, T = 3\n",
      "Processing Posterior: Gene = 4, T = 4\n",
      "Processing Posterior: Gene = 4, T = 5\n",
      "Processing Prior: Gene = 5\n",
      "Processing Posterior: Gene = 5, T = 2\n",
      "Processing Posterior: Gene = 5, T = 3\n",
      "Processing Posterior: Gene = 5, T = 4\n",
      "Processing Posterior: Gene = 5, T = 5\n",
      "Processing Prior: Gene = 6\n",
      "Processing Posterior: Gene = 6, T = 2\n",
      "Processing Posterior: Gene = 6, T = 3\n",
      "Processing Posterior: Gene = 6, T = 4\n",
      "Processing Posterior: Gene = 6, T = 5\n",
      "Processing Prior: Gene = 7\n",
      "Processing Posterior: Gene = 7, T = 2\n",
      "Processing Posterior: Gene = 7, T = 3\n",
      "Processing Posterior: Gene = 7, T = 4\n",
      "Processing Posterior: Gene = 7, T = 5\n",
      "Processing Prior: Gene = 8\n",
      "Processing Posterior: Gene = 8, T = 2\n",
      "Processing Posterior: Gene = 8, T = 3\n",
      "Processing Posterior: Gene = 8, T = 4\n",
      "Processing Posterior: Gene = 8, T = 5\n",
      "Processing Prior: Gene = 9\n",
      "Processing Posterior: Gene = 9, T = 2\n",
      "Processing Posterior: Gene = 9, T = 3\n"
     ]
    }
   ],
   "source": [
    "count = 1\n",
    "for data in data_all:\n",
    "#     print(data)\n",
    "    if count < 3:\n",
    "        count += 1\n",
    "        continue\n",
    "    \n",
    "    gene = data[data>=0]\n",
    "    k = int(0.95*len(gene))\n",
    "    gene = gene[np.argpartition(gene, k)[:k]]\n",
    "    gene = np.sort(gene)\n",
    "    \n",
    "    data_mean = np.mean(gene);\n",
    "    data_var = np.var(gene);\n",
    "    data_noise = data_var/(data_mean**2);\n",
    "    \n",
    "    statis_data = utils.statisData(gene);\n",
    "    \n",
    "    rho = lambda s: np.sqrt(\n",
    "                np.sum(\n",
    "                    np.log(statis_data/(s))**2\n",
    "                )\n",
    "    )\n",
    "    \n",
    "    \n",
    "    f = lambda k: utils.statisGTM(k,4)\n",
    "    N = 1000 # the number of particles\n",
    "    T = 5 # number of rounds\n",
    "    epsilon = 1# a sequence of discrepancy acceptance thresholds\n",
    "    \n",
    "#     prior = lambda: np.array([\n",
    "#                 random.uniform(0,5), # kon ~ U[0,5]\n",
    "#                 loguniform(10**-1, 10**1).rvs(), # ron ~ logU[-1,1] base 10\n",
    "#                 random.uniform(0,5), # koff ~ U[0,5]\n",
    "#                 loguniform(10**-1, 10**1).rvs(), # roff ~ logU[-1,1] base 10 \n",
    "#                 random.uniform(0,50), # rsyn ~ U[0,50] ?? in paper assumes upper bound 50, but in code is 100\n",
    "#                 1]) # rdeg=1\n",
    "    prior = lambda: np.array([\n",
    "                5 * np.random.uniform(), # kon ~ U[0,5]\n",
    "                10**random.uniform(-1,1), # ron ~ logU[-1,1] base 10\n",
    "                5 * np.random.uniform(), # koff ~ U[0,5]\n",
    "                10**random.uniform(-1,1), # roff ~ logU[-1,1] base 10 \n",
    "                100 * np.random.uniform(), # rsyn ~ U[0,50] ?? in paper assumes upper bound 50, but in code is 100\n",
    "                1]) # rdeg=1\n",
    "    \n",
    "    proposal_sigma = 0.2\n",
    "    \n",
    "    proposal = lambda x: np.random.lognormal(x,proposal_sigma)\n",
    "    \n",
    "    proposal_pdf = lambda kon_post,kon_prior,ron_post,ron_prior,koff_post,koff_prior,roff_post,roff_prior,mu_post,mu_prior: \\\n",
    "    lognpdf(mu_post,np.log(mu_prior),proposal_sigma) * lognpdf(kon_post,np.log(kon_prior),proposal_sigma) \\\n",
    "    * lognpdf(ron_post,np.log(ron_prior),proposal_sigma) * lognpdf(koff_post,np.log(koff_prior),proposal_sigma) \\\n",
    "    * lognpdf(roff_post,np.log(roff_prior),proposal_sigma) \n",
    "    \n",
    "    \n",
    "#     result, flag = abcSampler.ABCRejectionSampler(N,prior,f,rho,epsilon,T,count)\n",
    "#     result = np.load('data/gene_1_prior.npy', allow_pickle='True')\n",
    "    \n",
    "#     result_true = np.load('data/gene_1_prior.npy', allow_pickle='True')\n",
    "    \n",
    "#     print(result_true)\n",
    "\n",
    "    result, flag = abcSampler.ABCSMCSampler(N,prior,f,rho,epsilon,T,proposal,proposal_pdf,count)\n",
    "    \n",
    "\n",
    "    # Save posterior\n",
    "    np.save(f'data/posterior/gene_{count}.npy', np.array([count, gene, result], dtype=object))\n",
    "    \n",
    "#     if count > 1: break\n",
    "    count+=1"
   ]
  },
  {
   "cell_type": "code",
   "execution_count": null,
   "id": "6dbe521e",
   "metadata": {},
   "outputs": [],
   "source": [
    "data_mean"
   ]
  },
  {
   "cell_type": "code",
   "execution_count": null,
   "id": "b459a9a7",
   "metadata": {},
   "outputs": [],
   "source": [
    "data_var"
   ]
  },
  {
   "cell_type": "code",
   "execution_count": null,
   "id": "791fc8bb",
   "metadata": {},
   "outputs": [],
   "source": [
    "data_noise"
   ]
  },
  {
   "cell_type": "code",
   "execution_count": null,
   "id": "5314d6e3",
   "metadata": {},
   "outputs": [],
   "source": [
    "result[0,0]"
   ]
  },
  {
   "cell_type": "code",
   "execution_count": null,
   "id": "7c52db90",
   "metadata": {},
   "outputs": [],
   "source": [
    "\n"
   ]
  },
  {
   "cell_type": "code",
   "execution_count": null,
   "id": "b99d4903",
   "metadata": {},
   "outputs": [],
   "source": []
  },
  {
   "cell_type": "code",
   "execution_count": null,
   "id": "d9e13fa3",
   "metadata": {},
   "outputs": [],
   "source": [
    "kon_post = 5.30753304760157;\n",
    "kon_prior = 3.152078539638027;\n",
    "ron_post = 8.70731191726281;\n",
    "ron_prior = 9.601789150560395;\n",
    "koff_post = 3.5623878531212596;\n",
    "koff_prior = 1.1835791487917824;\n",
    "roff_post = 4.520511228784241;\n",
    "roff_prior = 2.138386913508971;\n",
    "mu_post = 101.10914066538857;\n",
    "mu_prior = 95.27428156492888;\n",
    "\n",
    "proposal_pdf(kon_post,kon_prior,ron_post,ron_prior,koff_post,koff_prior,roff_post,roff_prior,mu_post,mu_prior) "
   ]
  },
  {
   "cell_type": "code",
   "execution_count": null,
   "id": "f3c413de",
   "metadata": {},
   "outputs": [],
   "source": [
    "5 * np.random.uniform()"
   ]
  },
  {
   "cell_type": "code",
   "execution_count": null,
   "id": "6070e338",
   "metadata": {},
   "outputs": [],
   "source": []
  }
 ],
 "metadata": {
  "kernelspec": {
   "display_name": "Python 3 (ipykernel)",
   "language": "python",
   "name": "python3"
  },
  "language_info": {
   "codemirror_mode": {
    "name": "ipython",
    "version": 3
   },
   "file_extension": ".py",
   "mimetype": "text/x-python",
   "name": "python",
   "nbconvert_exporter": "python",
   "pygments_lexer": "ipython3",
   "version": "3.8.13"
  }
 },
 "nbformat": 4,
 "nbformat_minor": 5
}
