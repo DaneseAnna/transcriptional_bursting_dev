{
 "cells": [
  {
   "cell_type": "code",
   "execution_count": 1,
   "id": "c91bd89a",
   "metadata": {},
   "outputs": [],
   "source": [
    "import statisUtils as utils\n",
    "import pandas as pd\n",
    "import numpy as np\n",
    "import random\n",
    "from scipy.stats import loguniform, lognorm"
   ]
  },
  {
   "cell_type": "code",
   "execution_count": 2,
   "id": "97ad0e41",
   "metadata": {},
   "outputs": [
    {
     "data": {
      "text/html": [
       "<div>\n",
       "<style scoped>\n",
       "    .dataframe tbody tr th:only-of-type {\n",
       "        vertical-align: middle;\n",
       "    }\n",
       "\n",
       "    .dataframe tbody tr th {\n",
       "        vertical-align: top;\n",
       "    }\n",
       "\n",
       "    .dataframe thead th {\n",
       "        text-align: right;\n",
       "    }\n",
       "</style>\n",
       "<table border=\"1\" class=\"dataframe\">\n",
       "  <thead>\n",
       "    <tr style=\"text-align: right;\">\n",
       "      <th></th>\n",
       "      <th>0</th>\n",
       "      <th>2</th>\n",
       "      <th>2.1</th>\n",
       "      <th>2.2</th>\n",
       "      <th>1</th>\n",
       "      <th>4</th>\n",
       "      <th>4.1</th>\n",
       "      <th>4.2</th>\n",
       "      <th>7</th>\n",
       "      <th>2.3</th>\n",
       "      <th>...</th>\n",
       "      <th>0.108</th>\n",
       "      <th>3.54</th>\n",
       "      <th>1.79</th>\n",
       "      <th>2.63</th>\n",
       "      <th>2.64</th>\n",
       "      <th>5.21</th>\n",
       "      <th>1.80</th>\n",
       "      <th>5.22</th>\n",
       "      <th>1.81</th>\n",
       "      <th>4.35</th>\n",
       "    </tr>\n",
       "  </thead>\n",
       "  <tbody>\n",
       "    <tr>\n",
       "      <th>0</th>\n",
       "      <td>10</td>\n",
       "      <td>4</td>\n",
       "      <td>-1</td>\n",
       "      <td>-1</td>\n",
       "      <td>0</td>\n",
       "      <td>14</td>\n",
       "      <td>26</td>\n",
       "      <td>6</td>\n",
       "      <td>1</td>\n",
       "      <td>2</td>\n",
       "      <td>...</td>\n",
       "      <td>0</td>\n",
       "      <td>6</td>\n",
       "      <td>0</td>\n",
       "      <td>0</td>\n",
       "      <td>7</td>\n",
       "      <td>2</td>\n",
       "      <td>0</td>\n",
       "      <td>0</td>\n",
       "      <td>0</td>\n",
       "      <td>6</td>\n",
       "    </tr>\n",
       "    <tr>\n",
       "      <th>1</th>\n",
       "      <td>17</td>\n",
       "      <td>18</td>\n",
       "      <td>9</td>\n",
       "      <td>14</td>\n",
       "      <td>0</td>\n",
       "      <td>9</td>\n",
       "      <td>6</td>\n",
       "      <td>22</td>\n",
       "      <td>1</td>\n",
       "      <td>10</td>\n",
       "      <td>...</td>\n",
       "      <td>8</td>\n",
       "      <td>24</td>\n",
       "      <td>22</td>\n",
       "      <td>12</td>\n",
       "      <td>14</td>\n",
       "      <td>27</td>\n",
       "      <td>16</td>\n",
       "      <td>22</td>\n",
       "      <td>2</td>\n",
       "      <td>12</td>\n",
       "    </tr>\n",
       "    <tr>\n",
       "      <th>2</th>\n",
       "      <td>1</td>\n",
       "      <td>0</td>\n",
       "      <td>4</td>\n",
       "      <td>9</td>\n",
       "      <td>0</td>\n",
       "      <td>0</td>\n",
       "      <td>-1</td>\n",
       "      <td>0</td>\n",
       "      <td>-1</td>\n",
       "      <td>0</td>\n",
       "      <td>...</td>\n",
       "      <td>6</td>\n",
       "      <td>4</td>\n",
       "      <td>1</td>\n",
       "      <td>-1</td>\n",
       "      <td>2</td>\n",
       "      <td>5</td>\n",
       "      <td>11</td>\n",
       "      <td>3</td>\n",
       "      <td>0</td>\n",
       "      <td>3</td>\n",
       "    </tr>\n",
       "    <tr>\n",
       "      <th>3</th>\n",
       "      <td>0</td>\n",
       "      <td>0</td>\n",
       "      <td>4</td>\n",
       "      <td>0</td>\n",
       "      <td>2</td>\n",
       "      <td>10</td>\n",
       "      <td>0</td>\n",
       "      <td>2</td>\n",
       "      <td>8</td>\n",
       "      <td>0</td>\n",
       "      <td>...</td>\n",
       "      <td>2</td>\n",
       "      <td>3</td>\n",
       "      <td>5</td>\n",
       "      <td>3</td>\n",
       "      <td>0</td>\n",
       "      <td>3</td>\n",
       "      <td>0</td>\n",
       "      <td>5</td>\n",
       "      <td>3</td>\n",
       "      <td>0</td>\n",
       "    </tr>\n",
       "    <tr>\n",
       "      <th>4</th>\n",
       "      <td>1</td>\n",
       "      <td>8</td>\n",
       "      <td>2</td>\n",
       "      <td>5</td>\n",
       "      <td>10</td>\n",
       "      <td>11</td>\n",
       "      <td>17</td>\n",
       "      <td>3</td>\n",
       "      <td>1</td>\n",
       "      <td>10</td>\n",
       "      <td>...</td>\n",
       "      <td>6</td>\n",
       "      <td>3</td>\n",
       "      <td>3</td>\n",
       "      <td>1</td>\n",
       "      <td>4</td>\n",
       "      <td>5</td>\n",
       "      <td>1</td>\n",
       "      <td>0</td>\n",
       "      <td>4</td>\n",
       "      <td>6</td>\n",
       "    </tr>\n",
       "  </tbody>\n",
       "</table>\n",
       "<p>5 rows × 413 columns</p>\n",
       "</div>"
      ],
      "text/plain": [
       "    0   2  2.1  2.2   1   4  4.1  4.2  7  2.3  ...  0.108  3.54  1.79  2.63  \\\n",
       "0  10   4   -1   -1   0  14   26    6  1    2  ...      0     6     0     0   \n",
       "1  17  18    9   14   0   9    6   22  1   10  ...      8    24    22    12   \n",
       "2   1   0    4    9   0   0   -1    0 -1    0  ...      6     4     1    -1   \n",
       "3   0   0    4    0   2  10    0    2  8    0  ...      2     3     5     3   \n",
       "4   1   8    2    5  10  11   17    3  1   10  ...      6     3     3     1   \n",
       "\n",
       "   2.64  5.21  1.80  5.22  1.81  4.35  \n",
       "0     7     2     0     0     0     6  \n",
       "1    14    27    16    22     2    12  \n",
       "2     2     5    11     3     0     3  \n",
       "3     0     3     0     5     3     0  \n",
       "4     4     5     1     0     4     6  \n",
       "\n",
       "[5 rows x 413 columns]"
      ]
     },
     "execution_count": 2,
     "metadata": {},
     "output_type": "execute_result"
    }
   ],
   "source": [
    "df = pd.read_csv('data/MEF_QC_all.csv')\n",
    "df.head()"
   ]
  },
  {
   "cell_type": "code",
   "execution_count": 3,
   "id": "e53607ba",
   "metadata": {},
   "outputs": [
    {
     "data": {
      "text/plain": [
       "array([[10,  4, -1, ...,  0,  0,  6],\n",
       "       [17, 18,  9, ..., 22,  2, 12],\n",
       "       [ 1,  0,  4, ...,  3,  0,  3],\n",
       "       ...,\n",
       "       [ 1,  2,  4, ...,  0,  4,  9],\n",
       "       [ 6, 24, 21, ..., 13,  7,  1],\n",
       "       [ 0, 12,  2, ...,  2,  2,  0]], dtype=int64)"
      ]
     },
     "execution_count": 3,
     "metadata": {},
     "output_type": "execute_result"
    }
   ],
   "source": [
    "data = np.array(df)\n",
    "data"
   ]
  },
  {
   "cell_type": "markdown",
   "id": "0002f2dc",
   "metadata": {},
   "source": [
    "# using code from test_MEFs.m file#"
   ]
  },
  {
   "cell_type": "code",
   "execution_count": 4,
   "id": "34b6912a",
   "metadata": {},
   "outputs": [],
   "source": [
    "# global statistics \n",
    "data_mean = np.mean(data)\n",
    "data_var = np.var(data)\n",
    "data_noise = data_var/(data_mean**2)\n",
    "\n",
    "# vals 7.4, 259.0, 4.7"
   ]
  },
  {
   "cell_type": "code",
   "execution_count": 5,
   "id": "e45c189f",
   "metadata": {},
   "outputs": [],
   "source": [
    "# get 6 observerd moments for all genes\n",
    "statis_data = utils.statisData(data)"
   ]
  },
  {
   "cell_type": "code",
   "execution_count": 6,
   "id": "43c17991",
   "metadata": {},
   "outputs": [],
   "source": [
    "# define Discrepancy metrics (rho) as placeholder(lambda) function\n",
    "rho = lambda s: sqrt(np.sum(log(statis_data/s)**2))"
   ]
  },
  {
   "cell_type": "code",
   "execution_count": 7,
   "id": "87921ec2",
   "metadata": {},
   "outputs": [],
   "source": [
    "# define f as model statistics function\n",
    "f = lambda k: statisGTM(k,4)"
   ]
  },
  {
   "cell_type": "code",
   "execution_count": 8,
   "id": "d6354355",
   "metadata": {},
   "outputs": [],
   "source": [
    "N = 1000 # the number of particles\n",
    "T = 5 # number of rounds\n",
    "epsilon = 1# a sequence of discrepancy acceptance thresholds"
   ]
  },
  {
   "cell_type": "code",
   "execution_count": 9,
   "id": "59977bc7",
   "metadata": {},
   "outputs": [],
   "source": [
    "# define prior as anonymous lambda function\n",
    "# [kon ron koff roff mu delta]\n",
    "# OFF dwell time distribution f_off(t) = ron^(kon) * t^(kon-1) * e^(-ron * t) / gamma(kon)\n",
    "# ON dwell time distribution f_on(t) = roff^(koff) * t^(koff-1) * e^(-roff * t) / gamma(koff)\n",
    "\n",
    "prior = np.array([\n",
    "                random.uniform(0,5), # kon ~ U[0,5]\n",
    "                loguniform(10**-1, 10**1).rvs(), # ron ~ logU[-1,1] base 10\n",
    "                random.uniform(0,5), # koff ~ U[0,5]\n",
    "                loguniform(10**-1, 10**1).rvs(), # roff ~ logU[-1,1] base 10 \n",
    "                random.uniform(0,50), # rsyn ~ U[0,50] ?? in paper assumes upper bound 50, but in code is 100\n",
    "                1]) # rdeg=1"
   ]
  },
  {
   "cell_type": "code",
   "execution_count": 10,
   "id": "c1aef715",
   "metadata": {},
   "outputs": [],
   "source": [
    "proposal_sigma = 0.2"
   ]
  },
  {
   "cell_type": "code",
   "execution_count": 11,
   "id": "ec868e12",
   "metadata": {},
   "outputs": [],
   "source": [
    "# define proposal as lambda function\n",
    "# proposal kernel process, generates new trials\n",
    "proposal = lambda x: np.random.lognormal(x,proposal_sigma)"
   ]
  },
  {
   "cell_type": "code",
   "execution_count": 12,
   "id": "04680578",
   "metadata": {},
   "outputs": [],
   "source": [
    "def lognpdf(x, mu, sigma):\n",
    "    shape  = sigma\n",
    "    loc    = 0\n",
    "    scale  = np.exp(mu)\n",
    "    return lognorm.pdf(x, shape, loc, scale)"
   ]
  },
  {
   "cell_type": "code",
   "execution_count": 13,
   "id": "f5072e85",
   "metadata": {},
   "outputs": [],
   "source": [
    "# define lamda function for proposal_pdf\n",
    "# the PDF of the proposal kernel\n",
    "proposal_pdf = lambda kon_post,kon_prior,ron_post,ron_prior,koff_post,koff_prior,roff_post,roff_prior,mu_post,mu_prior: \\\n",
    "    lognpdf(mu_post,np.log(mu_prior),proposal_sigma) * lognpdf(kon_post,np.log(kon_prior),proposal_sigma) \\\n",
    "    * lognpdf(ron_post,np.log(ron_prior),proposal_sigma) * lognpdf(koff_post,np.log(koff_prior),proposal_sigma) \\\n",
    "    * lognpdf(roff_post,np.log(roff_prior),proposal_sigma) "
   ]
  },
  {
   "cell_type": "code",
   "execution_count": 14,
   "id": "b55f82b2",
   "metadata": {},
   "outputs": [
    {
     "data": {
      "text/plain": [
       "3"
      ]
     },
     "execution_count": 14,
     "metadata": {},
     "output_type": "execute_result"
    }
   ],
   "source": [
    "test = np.array([[1, 2, 3], [4, 5, 6]], np.int32)\n",
    "test.shape[1]"
   ]
  },
  {
   "cell_type": "code",
   "execution_count": 15,
   "id": "34e85dea",
   "metadata": {},
   "outputs": [
    {
     "data": {
      "text/plain": [
       "array([[0.25, 0.25, 0.25],\n",
       "       [0.25, 0.25, 0.25],\n",
       "       [0.25, 0.25, 0.25],\n",
       "       [0.25, 0.25, 0.25]])"
      ]
     },
     "execution_count": 15,
     "metadata": {},
     "output_type": "execute_result"
    }
   ],
   "source": [
    "np.ones((4,3)) / 4"
   ]
  },
  {
   "cell_type": "code",
   "execution_count": null,
   "id": "b7bfc691",
   "metadata": {},
   "outputs": [],
   "source": []
  }
 ],
 "metadata": {
  "kernelspec": {
   "display_name": "Python 3 (ipykernel)",
   "language": "python",
   "name": "python3"
  },
  "language_info": {
   "codemirror_mode": {
    "name": "ipython",
    "version": 3
   },
   "file_extension": ".py",
   "mimetype": "text/x-python",
   "name": "python",
   "nbconvert_exporter": "python",
   "pygments_lexer": "ipython3",
   "version": "3.8.13"
  }
 },
 "nbformat": 4,
 "nbformat_minor": 5
}
