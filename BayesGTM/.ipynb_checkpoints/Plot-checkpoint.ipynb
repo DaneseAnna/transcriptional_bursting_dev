{
 "cells": [
  {
   "cell_type": "code",
   "execution_count": 39,
   "id": "8658d7ae",
   "metadata": {},
   "outputs": [],
   "source": [
    "import statisUtils as utils\n",
    "import pandas as pd\n",
    "import numpy as np\n",
    "import random\n",
    "from scipy.stats import loguniform, lognorm\n",
    "from scipy import stats\n",
    "import time\n",
    "import math\n",
    "\n",
    "from matplotlib import pyplot as plt"
   ]
  },
  {
   "cell_type": "code",
   "execution_count": 46,
   "id": "6ebc7084",
   "metadata": {},
   "outputs": [],
   "source": [
    "gene_no, gene, result = np.load('data/posterior/gene_9.npy', allow_pickle='True')"
   ]
  },
  {
   "cell_type": "code",
   "execution_count": 47,
   "id": "3668d5f2",
   "metadata": {},
   "outputs": [
    {
     "data": {
      "text/plain": [
       "array([[[{'kon': 3.075513108227836, 'ron': 0.14437140078239738, 'koff': 4.478712024613988, 'roff': 2.0361889618906086, 'mu': 36.1855958637597, 'delta': 1.0, 'dist': 0.04699122017600574}],\n",
       "        [{'kon': 4.634744692733644, 'ron': 0.18320171432679572, 'koff': 8.049309607981439, 'roff': 2.5816156666884233, 'mu': 31.712778426861682, 'delta': 1, 'dist': 0.17943486711005463}],\n",
       "        [{'kon': 5.313314923023125, 'ron': 0.2067610224692957, 'koff': 3.097471485768109, 'roff': 1.0915374770205963, 'mu': 35.070283088857394, 'delta': 1, 'dist': 0.07449594848069788}]],\n",
       "\n",
       "       [[{'kon': 4.349369012020341, 'ron': 0.18752115829920313, 'koff': 4.355665491161174, 'roff': 1.7782812121809979, 'mu': 38.27733528525218, 'delta': 1.0, 'dist': 0.08705815460666133}],\n",
       "        [{'kon': 4.908963464973735, 'ron': 0.21389716181503485, 'koff': 3.256842142149319, 'roff': 1.2153144257233444, 'mu': 38.966832273986775, 'delta': 1, 'dist': 0.23058848574890015}],\n",
       "        [{'kon': 3.99034931997123, 'ron': 0.18191185483337943, 'koff': 6.371197178716269, 'roff': 2.77751599609926, 'mu': 32.07491342534431, 'delta': 1, 'dist': 0.19777243759997273}]]],\n",
       "      dtype=object)"
      ]
     },
     "execution_count": 47,
     "metadata": {},
     "output_type": "execute_result"
    }
   ],
   "source": [
    "result[:2]"
   ]
  },
  {
   "cell_type": "code",
   "execution_count": 48,
   "id": "ecd9b836",
   "metadata": {},
   "outputs": [],
   "source": [
    "result_flatten = result.flatten()\n",
    "kon = np.array([d['kon'] for d in result_flatten])\n",
    "ron = np.array([d['ron'] for d in result_flatten])\n",
    "koff = np.array([d['koff'] for d in result_flatten])\n",
    "roff = np.array([d['roff'] for d in result_flatten])\n",
    "mu = np.array([d['mu'] for d in result_flatten])\n",
    "dist = np.array([d['dist'] for d in result_flatten])"
   ]
  },
  {
   "cell_type": "code",
   "execution_count": 49,
   "id": "32931148",
   "metadata": {},
   "outputs": [],
   "source": [
    "tau_off = kon/ron\n",
    "tau_on = koff/roff\n",
    "bf = 1./(tau_on + tau_off)\n",
    "bs = mu * tau_on"
   ]
  },
  {
   "cell_type": "code",
   "execution_count": 51,
   "id": "13dd6da5",
   "metadata": {},
   "outputs": [
    {
     "data": {
      "text/plain": [
       "<matplotlib.legend.Legend at 0x1dd93285df0>"
      ]
     },
     "execution_count": 51,
     "metadata": {},
     "output_type": "execute_result"
    },
    {
     "data": {
      "image/png": "[encoded data removed]",
      "text/plain": [
       "<Figure size 432x288 with 1 Axes>"
      ]
     },
     "metadata": {
      "needs_background": "light"
     },
     "output_type": "display_data"
    }
   ],
   "source": [
    "import seaborn as sns\n",
    "sns.histplot(mu, stat='density', bins=82, kde=True);\n",
    "x0, x1 = (20,80)  # extract the endpoints for the x-axis\n",
    "x_pdf = np.linspace(x0, x1, 100)\n",
    "y_pdf = stats.norm.pdf(x_pdf)\n",
    "\n",
    "plt.plot(x_pdf, y_pdf, 'r', lw=2, label='pdf')                                                   \n",
    "plt.legend()"
   ]
  },
  {
   "cell_type": "code",
   "execution_count": null,
   "id": "0a5efb7c",
   "metadata": {},
   "outputs": [],
   "source": []
  }
 ],
 "metadata": {
  "kernelspec": {
   "display_name": "Python 3 (ipykernel)",
   "language": "python",
   "name": "python3"
  },
  "language_info": {
   "codemirror_mode": {
    "name": "ipython",
    "version": 3
   },
   "file_extension": ".py",
   "mimetype": "text/x-python",
   "name": "python",
   "nbconvert_exporter": "python",
   "pygments_lexer": "ipython3",
   "version": "3.8.13"
  }
 },
 "nbformat": 4,
 "nbformat_minor": 5
}
