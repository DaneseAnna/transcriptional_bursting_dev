{
 "cells": [
  {
   "cell_type": "code",
   "execution_count": 19,
   "id": "c91bd89a",
   "metadata": {},
   "outputs": [],
   "source": [
    "import statisUtils as utils\n",
    "import pandas as pd\n",
    "import numpy as np\n",
    "import random\n",
    "from scipy.stats import loguniform, lognorm"
   ]
  },
  {
   "cell_type": "code",
   "execution_count": 2,
   "id": "97ad0e41",
   "metadata": {},
   "outputs": [
    {
     "data": {
      "text/html": [
       "<div>\n",
       "<style scoped>\n",
       "    .dataframe tbody tr th:only-of-type {\n",
       "        vertical-align: middle;\n",
       "    }\n",
       "\n",
       "    .dataframe tbody tr th {\n",
       "        vertical-align: top;\n",
       "    }\n",
       "\n",
       "    .dataframe thead th {\n",
       "        text-align: right;\n",
       "    }\n",
       "</style>\n",
       "<table border=\"1\" class=\"dataframe\">\n",
       "  <thead>\n",
       "    <tr style=\"text-align: right;\">\n",
       "      <th></th>\n",
       "      <th>0</th>\n",
       "      <th>1</th>\n",
       "      <th>2</th>\n",
       "      <th>3</th>\n",
       "      <th>4</th>\n",
       "      <th>5</th>\n",
       "      <th>6</th>\n",
       "      <th>7</th>\n",
       "      <th>8</th>\n",
       "      <th>9</th>\n",
       "      <th>...</th>\n",
       "      <th>2151</th>\n",
       "      <th>2152</th>\n",
       "      <th>2153</th>\n",
       "      <th>2154</th>\n",
       "      <th>2155</th>\n",
       "      <th>2156</th>\n",
       "      <th>2157</th>\n",
       "      <th>2158</th>\n",
       "      <th>2159</th>\n",
       "      <th>2160</th>\n",
       "    </tr>\n",
       "  </thead>\n",
       "  <tbody>\n",
       "    <tr>\n",
       "      <th>0</th>\n",
       "      <td>10</td>\n",
       "      <td>17</td>\n",
       "      <td>1</td>\n",
       "      <td>0</td>\n",
       "      <td>1</td>\n",
       "      <td>5</td>\n",
       "      <td>-1</td>\n",
       "      <td>0</td>\n",
       "      <td>3</td>\n",
       "      <td>7</td>\n",
       "      <td>...</td>\n",
       "      <td>2</td>\n",
       "      <td>0</td>\n",
       "      <td>4</td>\n",
       "      <td>0</td>\n",
       "      <td>1</td>\n",
       "      <td>0</td>\n",
       "      <td>10</td>\n",
       "      <td>1</td>\n",
       "      <td>6</td>\n",
       "      <td>0</td>\n",
       "    </tr>\n",
       "    <tr>\n",
       "      <th>2</th>\n",
       "      <td>4</td>\n",
       "      <td>18</td>\n",
       "      <td>0</td>\n",
       "      <td>0</td>\n",
       "      <td>8</td>\n",
       "      <td>1</td>\n",
       "      <td>-1</td>\n",
       "      <td>0</td>\n",
       "      <td>4</td>\n",
       "      <td>8</td>\n",
       "      <td>...</td>\n",
       "      <td>8</td>\n",
       "      <td>0</td>\n",
       "      <td>1</td>\n",
       "      <td>3</td>\n",
       "      <td>0</td>\n",
       "      <td>9</td>\n",
       "      <td>-1</td>\n",
       "      <td>2</td>\n",
       "      <td>24</td>\n",
       "      <td>12</td>\n",
       "    </tr>\n",
       "    <tr>\n",
       "      <th>2.1</th>\n",
       "      <td>-1</td>\n",
       "      <td>9</td>\n",
       "      <td>4</td>\n",
       "      <td>4</td>\n",
       "      <td>2</td>\n",
       "      <td>0</td>\n",
       "      <td>-1</td>\n",
       "      <td>0</td>\n",
       "      <td>10</td>\n",
       "      <td>11</td>\n",
       "      <td>...</td>\n",
       "      <td>4</td>\n",
       "      <td>5</td>\n",
       "      <td>5</td>\n",
       "      <td>3</td>\n",
       "      <td>4</td>\n",
       "      <td>3</td>\n",
       "      <td>3</td>\n",
       "      <td>4</td>\n",
       "      <td>21</td>\n",
       "      <td>2</td>\n",
       "    </tr>\n",
       "    <tr>\n",
       "      <th>2.2</th>\n",
       "      <td>-1</td>\n",
       "      <td>14</td>\n",
       "      <td>9</td>\n",
       "      <td>0</td>\n",
       "      <td>5</td>\n",
       "      <td>9</td>\n",
       "      <td>0</td>\n",
       "      <td>2</td>\n",
       "      <td>6</td>\n",
       "      <td>5</td>\n",
       "      <td>...</td>\n",
       "      <td>6</td>\n",
       "      <td>1</td>\n",
       "      <td>4</td>\n",
       "      <td>2</td>\n",
       "      <td>-1</td>\n",
       "      <td>4</td>\n",
       "      <td>-1</td>\n",
       "      <td>7</td>\n",
       "      <td>17</td>\n",
       "      <td>6</td>\n",
       "    </tr>\n",
       "    <tr>\n",
       "      <th>1</th>\n",
       "      <td>0</td>\n",
       "      <td>0</td>\n",
       "      <td>0</td>\n",
       "      <td>2</td>\n",
       "      <td>10</td>\n",
       "      <td>5</td>\n",
       "      <td>10</td>\n",
       "      <td>0</td>\n",
       "      <td>3</td>\n",
       "      <td>0</td>\n",
       "      <td>...</td>\n",
       "      <td>1</td>\n",
       "      <td>6</td>\n",
       "      <td>4</td>\n",
       "      <td>2</td>\n",
       "      <td>5</td>\n",
       "      <td>0</td>\n",
       "      <td>0</td>\n",
       "      <td>2</td>\n",
       "      <td>20</td>\n",
       "      <td>5</td>\n",
       "    </tr>\n",
       "  </tbody>\n",
       "</table>\n",
       "<p>5 rows × 2161 columns</p>\n",
       "</div>"
      ],
      "text/plain": [
       "     0     1     2     3     4     5     6     7     8     9     ...  2151  \\\n",
       "0      10    17     1     0     1     5    -1     0     3     7  ...     2   \n",
       "2       4    18     0     0     8     1    -1     0     4     8  ...     8   \n",
       "2.1    -1     9     4     4     2     0    -1     0    10    11  ...     4   \n",
       "2.2    -1    14     9     0     5     9     0     2     6     5  ...     6   \n",
       "1       0     0     0     2    10     5    10     0     3     0  ...     1   \n",
       "\n",
       "     2152  2153  2154  2155  2156  2157  2158  2159  2160  \n",
       "0       0     4     0     1     0    10     1     6     0  \n",
       "2       0     1     3     0     9    -1     2    24    12  \n",
       "2.1     5     5     3     4     3     3     4    21     2  \n",
       "2.2     1     4     2    -1     4    -1     7    17     6  \n",
       "1       6     4     2     5     0     0     2    20     5  \n",
       "\n",
       "[5 rows x 2161 columns]"
      ]
     },
     "execution_count": 2,
     "metadata": {},
     "output_type": "execute_result"
    }
   ],
   "source": [
    "df = pd.read_csv('data/MEF_QC_all.csv').transpose()\n",
    "df.head()"
   ]
  },
  {
   "cell_type": "code",
   "execution_count": 3,
   "id": "e53607ba",
   "metadata": {},
   "outputs": [
    {
     "data": {
      "text/plain": [
       "array([[10, 17,  1, ...,  1,  6,  0],\n",
       "       [ 4, 18,  0, ...,  2, 24, 12],\n",
       "       [-1,  9,  4, ...,  4, 21,  2],\n",
       "       ...,\n",
       "       [ 0, 22,  3, ...,  0, 13,  2],\n",
       "       [ 0,  2,  0, ...,  4,  7,  2],\n",
       "       [ 6, 12,  3, ...,  9,  1,  0]], dtype=int64)"
      ]
     },
     "execution_count": 3,
     "metadata": {},
     "output_type": "execute_result"
    }
   ],
   "source": [
    "data = np.array(df)\n",
    "data"
   ]
  },
  {
   "cell_type": "markdown",
   "id": "0002f2dc",
   "metadata": {},
   "source": [
    "# using code from test_MEFs.m file#"
   ]
  },
  {
   "cell_type": "code",
   "execution_count": 4,
   "id": "34b6912a",
   "metadata": {},
   "outputs": [],
   "source": [
    "# global statistics \n",
    "data_mean = np.mean(data)\n",
    "data_var = np.var(data)\n",
    "data_noise = data_var/(data_mean**2)\n",
    "\n",
    "# vals 7.4, 259.0, 4.7"
   ]
  },
  {
   "cell_type": "code",
   "execution_count": 5,
   "id": "e45c189f",
   "metadata": {},
   "outputs": [],
   "source": [
    "# get 6 observerd moments for all genes\n",
    "statis_data = utils.statisData(data)"
   ]
  },
  {
   "cell_type": "code",
   "execution_count": 6,
   "id": "43c17991",
   "metadata": {},
   "outputs": [],
   "source": [
    "# define Discrepancy metrics (rho) as placeholder(lambda) function\n",
    "rho = lambda s: sqrt(np.sum(log(statis_data/s)**2))"
   ]
  },
  {
   "cell_type": "code",
   "execution_count": 7,
   "id": "87921ec2",
   "metadata": {},
   "outputs": [],
   "source": [
    "# define f as model statistics function\n",
    "f = lambda k: statisGTM(k,4)"
   ]
  },
  {
   "cell_type": "code",
   "execution_count": 8,
   "id": "d6354355",
   "metadata": {},
   "outputs": [],
   "source": [
    "N = 1000 # the number of particles\n",
    "T = 5 # number of rounds\n",
    "epsilon = 1# a sequence of discrepancy acceptance thresholds"
   ]
  },
  {
   "cell_type": "code",
   "execution_count": 9,
   "id": "59977bc7",
   "metadata": {},
   "outputs": [],
   "source": [
    "# define prior as anonymous lambda function\n",
    "# [kon ron koff roff mu delta]\n",
    "# OFF dwell time distribution f_off(t) = ron^(kon) * t^(kon-1) * e^(-ron * t) / gamma(kon)\n",
    "# ON dwell time distribution f_on(t) = roff^(koff) * t^(koff-1) * e^(-roff * t) / gamma(koff)\n",
    "\n",
    "prior = np.array([\n",
    "                random.uniform(0,5), # kon ~ U[0,5]\n",
    "                loguniform(10**-1, 10**1).rvs(), # ron ~ logU[-1,1] base 10\n",
    "                random.uniform(0,5), # koff ~ U[0,5]\n",
    "                loguniform(10**-1, 10**1).rvs(), # roff ~ logU[-1,1] base 10 \n",
    "                random.uniform(0,50), # rsyn ~ U[0,50] ?? in paper assumes upper bound 50, but in code is 100\n",
    "                1]) # rdeg=1"
   ]
  },
  {
   "cell_type": "code",
   "execution_count": 10,
   "id": "c1aef715",
   "metadata": {},
   "outputs": [],
   "source": [
    "proposal_sigma = 0.2"
   ]
  },
  {
   "cell_type": "code",
   "execution_count": 14,
   "id": "ec868e12",
   "metadata": {},
   "outputs": [],
   "source": [
    "# define proposal as lambda function\n",
    "# proposal kernel process, generates new trials\n",
    "proposal = lambda x: np.random.lognormal(x,proposal_sigma)"
   ]
  },
  {
   "cell_type": "code",
   "execution_count": 36,
   "id": "04680578",
   "metadata": {},
   "outputs": [],
   "source": [
    "def lognpdf(x, mu, sigma):\n",
    "    shape  = sigma\n",
    "    loc    = 0\n",
    "    scale  = np.exp(mu)\n",
    "    return lognorm.pdf(x, shape, loc, scale)"
   ]
  },
  {
   "cell_type": "code",
   "execution_count": 37,
   "id": "f5072e85",
   "metadata": {},
   "outputs": [],
   "source": [
    "# define lamda function for proposal_pdf\n",
    "# the PDF of the proposal kernel\n",
    "proposal_pdf = lambda kon_post,kon_prior,ron_post,ron_prior,koff_post,koff_prior,roff_post,roff_prior,mu_post,mu_prior: \\\n",
    "    lognpdf(mu_post,np.log(mu_prior),proposal_sigma) * lognpdf(kon_post,np.log(kon_prior),proposal_sigma) \\\n",
    "    * lognpdf(ron_post,np.log(ron_prior),proposal_sigma) * lognpdf(koff_post,np.log(koff_prior),proposal_sigma) \\\n",
    "    * lognpdf(roff_post,np.log(roff_prior),proposal_sigma) "
   ]
  },
  {
   "cell_type": "code",
   "execution_count": null,
   "id": "b55f82b2",
   "metadata": {},
   "outputs": [],
   "source": []
  }
 ],
 "metadata": {
  "kernelspec": {
   "display_name": "Python 3 (ipykernel)",
   "language": "python",
   "name": "python3"
  },
  "language_info": {
   "codemirror_mode": {
    "name": "ipython",
    "version": 3
   },
   "file_extension": ".py",
   "mimetype": "text/x-python",
   "name": "python",
   "nbconvert_exporter": "python",
   "pygments_lexer": "ipython3",
   "version": "3.8.13"
  }
 },
 "nbformat": 4,
 "nbformat_minor": 5
}
