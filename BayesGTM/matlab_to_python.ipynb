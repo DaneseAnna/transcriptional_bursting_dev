{
 "cells": [
  {
   "cell_type": "code",
   "execution_count": 1,
   "id": "1e7374f4",
   "metadata": {},
   "outputs": [],
   "source": [
    "import scipy.io\n",
    "import numpy as np"
   ]
  },
  {
   "cell_type": "code",
   "execution_count": 2,
   "id": "e1cf26dc",
   "metadata": {},
   "outputs": [],
   "source": [
    "mat = scipy.io.loadmat('data/matlab/result_gene_2.mat')"
   ]
  },
  {
   "cell_type": "code",
   "execution_count": 3,
   "id": "78959b54",
   "metadata": {},
   "outputs": [
    {
     "data": {
      "text/plain": [
       "array([array([[(array([[0.79823417]]), array([[0.29503281]]), array([[3.69188916]]), array([[0.11148625]]), array([[85.23108489]]), array([[1]], dtype=uint8), array([[0.00029579]]))]],\n",
       "             dtype=[('kon', 'O'), ('ron', 'O'), ('koff', 'O'), ('roff', 'O'), ('mu', 'O'), ('delta', 'O'), ('dist', 'O')])                                                              ,\n",
       "       array([[(array([[0.91545416]]), array([[0.23499438]]), array([[8.94822275]]), array([[0.14023088]]), array([[57.06067007]]), array([[1]], dtype=uint8), array([[0.1134287]]))]],\n",
       "             dtype=[('kon', 'O'), ('ron', 'O'), ('koff', 'O'), ('roff', 'O'), ('mu', 'O'), ('delta', 'O'), ('dist', 'O')])                                                             ,\n",
       "       array([[(array([[10.30402203]]), array([[1.59464521]]), array([[3.82316859]]), array([[0.07405401]]), array([[230.52495233]]), array([[1]], dtype=uint8), array([[0.02964592]]))]],\n",
       "             dtype=[('kon', 'O'), ('ron', 'O'), ('koff', 'O'), ('roff', 'O'), ('mu', 'O'), ('delta', 'O'), ('dist', 'O')])                                                                ,\n",
       "       array([[(array([[4.17834462]]), array([[3.20611665]]), array([[13.68701222]]), array([[0.14130067]]), array([[140.53735503]]), array([[1]], dtype=uint8), array([[0.02555798]]))]],\n",
       "             dtype=[('kon', 'O'), ('ron', 'O'), ('koff', 'O'), ('roff', 'O'), ('mu', 'O'), ('delta', 'O'), ('dist', 'O')])                                                                ,\n",
       "       array([[(array([[11.54862593]]), array([[1.39477501]]), array([[6.19300036]]), array([[0.09938433]]), array([[449.70819852]]), array([[1]], dtype=uint8), array([[0.00453856]]))]],\n",
       "             dtype=[('kon', 'O'), ('ron', 'O'), ('koff', 'O'), ('roff', 'O'), ('mu', 'O'), ('delta', 'O'), ('dist', 'O')])                                                                ],\n",
       "      dtype=object)"
      ]
     },
     "execution_count": 3,
     "metadata": {},
     "output_type": "execute_result"
    }
   ],
   "source": [
    "response = mat['result']\n",
    "\n",
    "response[0]"
   ]
  },
  {
   "cell_type": "code",
   "execution_count": 4,
   "id": "9a7e5520",
   "metadata": {},
   "outputs": [],
   "source": [
    "N = 1000\n",
    "T = 5\n",
    "\n",
    "result = np.empty([N,T,1], dtype=object)"
   ]
  },
  {
   "cell_type": "code",
   "execution_count": 5,
   "id": "f14b1b7b",
   "metadata": {},
   "outputs": [],
   "source": [
    "for i in range(0, N):\n",
    "    for j in range (0,T):\n",
    "        param = {}\n",
    "        param['kon'] = response[i,j][0][0][0][0][0]\n",
    "        param['ron'] = response[i,j][0][0][1][0][0]\n",
    "        param['koff'] = response[i,j][0][0][2][0][0]\n",
    "        param['roff'] = response[i,j][0][0][3][0][0]\n",
    "        param['mu'] = response[i,j][0][0][4][0][0]\n",
    "        param['delta'] = response[i,j][0][0][5][0][0]\n",
    "        param['dist'] = response[i,j][0][0][6][0][0]\n",
    "        \n",
    "        result[i,j][0] = param"
   ]
  },
  {
   "cell_type": "code",
   "execution_count": 6,
   "id": "1abe10bc",
   "metadata": {},
   "outputs": [
    {
     "data": {
      "text/plain": [
       "array([{'kon': 0.7982341715507484, 'ron': 0.29503280672184906, 'koff': 3.6918891610940325, 'roff': 0.11148625378084943, 'mu': 85.23108488896874, 'delta': 1, 'dist': 0.0002957880982084463}],\n",
       "      dtype=object)"
      ]
     },
     "execution_count": 6,
     "metadata": {},
     "output_type": "execute_result"
    }
   ],
   "source": [
    "result[0,0]"
   ]
  },
  {
   "cell_type": "code",
   "execution_count": 7,
   "id": "864b19fd",
   "metadata": {},
   "outputs": [
    {
     "data": {
      "text/plain": [
       "array([[2]], dtype=uint8)"
      ]
     },
     "execution_count": 7,
     "metadata": {},
     "output_type": "execute_result"
    }
   ],
   "source": [
    "gene_no = mat['gene']\n",
    "gene_no"
   ]
  },
  {
   "cell_type": "code",
   "execution_count": 8,
   "id": "e3c8301c",
   "metadata": {},
   "outputs": [
    {
     "data": {
      "text/plain": [
       "(1, 647)"
      ]
     },
     "execution_count": 8,
     "metadata": {},
     "output_type": "execute_result"
    }
   ],
   "source": [
    "data = mat['data']\n",
    "data.shape"
   ]
  },
  {
   "cell_type": "code",
   "execution_count": 9,
   "id": "9883e637",
   "metadata": {},
   "outputs": [],
   "source": [
    "np.save(f'data/matlab/gene_2_from_matlab.npy', np.array([gene_no, data, result], dtype=object))"
   ]
  },
  {
   "cell_type": "code",
   "execution_count": 10,
   "id": "c2f7d2e7",
   "metadata": {},
   "outputs": [
    {
     "data": {
      "text/plain": [
       "(1000, 5, 1)"
      ]
     },
     "execution_count": 10,
     "metadata": {},
     "output_type": "execute_result"
    }
   ],
   "source": [
    "result.shape"
   ]
  },
  {
   "cell_type": "code",
   "execution_count": 11,
   "id": "cf4544cd",
   "metadata": {},
   "outputs": [
    {
     "data": {
      "text/plain": [
       "(1000, 5, 7)"
      ]
     },
     "execution_count": 11,
     "metadata": {},
     "output_type": "execute_result"
    }
   ],
   "source": [
    "np.zeros([N,T,7], dtype=np.float64).shape"
   ]
  },
  {
   "cell_type": "code",
   "execution_count": 12,
   "id": "09eca641",
   "metadata": {},
   "outputs": [],
   "source": [
    "# np.empty?\n"
   ]
  },
  {
   "cell_type": "code",
   "execution_count": null,
   "id": "1376667a",
   "metadata": {},
   "outputs": [],
   "source": []
  }
 ],
 "metadata": {
  "kernelspec": {
   "display_name": "Python 3 (ipykernel)",
   "language": "python",
   "name": "python3"
  },
  "language_info": {
   "codemirror_mode": {
    "name": "ipython",
    "version": 3
   },
   "file_extension": ".py",
   "mimetype": "text/x-python",
   "name": "python",
   "nbconvert_exporter": "python",
   "pygments_lexer": "ipython3",
   "version": "3.8.13"
  }
 },
 "nbformat": 4,
 "nbformat_minor": 5
}
