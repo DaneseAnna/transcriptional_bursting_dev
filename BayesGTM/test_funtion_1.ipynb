{
 "cells": [
  {
   "cell_type": "code",
   "execution_count": 1,
   "id": "f820fe39",
   "metadata": {},
   "outputs": [],
   "source": [
    "import statisUtils as utils\n",
    "import pandas as pd\n",
    "import numpy as np\n",
    "import random\n",
    "from scipy.stats import loguniform, lognorm"
   ]
  },
  {
   "cell_type": "code",
   "execution_count": 2,
   "id": "4cc64952",
   "metadata": {},
   "outputs": [],
   "source": [
    "df = pd.read_csv('data/MEF_QC_all.csv').transpose()\n",
    "data = np.array(df)"
   ]
  },
  {
   "cell_type": "code",
   "execution_count": null,
   "id": "9e3140a6",
   "metadata": {},
   "outputs": [],
   "source": []
  }
 ],
 "metadata": {
  "kernelspec": {
   "display_name": "Python 3 (ipykernel)",
   "language": "python",
   "name": "python3"
  },
  "language_info": {
   "codemirror_mode": {
    "name": "ipython",
    "version": 3
   },
   "file_extension": ".py",
   "mimetype": "text/x-python",
   "name": "python",
   "nbconvert_exporter": "python",
   "pygments_lexer": "ipython3",
   "version": "3.8.13"
  }
 },
 "nbformat": 4,
 "nbformat_minor": 5
}
