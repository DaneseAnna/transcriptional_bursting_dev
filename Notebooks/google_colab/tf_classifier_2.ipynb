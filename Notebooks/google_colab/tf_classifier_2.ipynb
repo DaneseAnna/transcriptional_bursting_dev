{
  "nbformat": 4,
  "nbformat_minor": 0,
  "metadata": {
    "colab": {
      "name": "tf_classifier_2.ipynb",
      "provenance": [],
      "collapsed_sections": []
    },
    "kernelspec": {
      "name": "python3",
      "display_name": "Python 3"
    },
    "language_info": {
      "name": "python"
    }
  },
  "cells": [
    {
      "cell_type": "code",
      "execution_count": 1,
      "metadata": {
        "colab": {
          "base_uri": "https://localhost:8080/"
        },
        "id": "1GSxLWjamDY8",
        "outputId": "f8060f62-076d-49e1-a5a4-4327dfff58ab"
      },
      "outputs": [
        {
          "output_type": "stream",
          "name": "stdout",
          "text": [
            "Drive already mounted at /content/drive; to attempt to forcibly remount, call drive.mount(\"/content/drive\", force_remount=True).\n"
          ]
        }
      ],
      "source": [
        "from google.colab import drive\n",
        "drive.mount('/content/drive')"
      ]
    },
    {
      "cell_type": "code",
      "source": [
        "# !pip install tensorflow_decision_forests"
      ],
      "metadata": {
        "id": "WZr3nf62n-Qu"
      },
      "execution_count": 2,
      "outputs": []
    },
    {
      "cell_type": "code",
      "source": [
        "import pandas as pd\n",
        "import tensorflow as tf\n",
        "from sklearn.model_selection import train_test_split\n",
        "import numpy as np\n",
        "from sklearn.preprocessing import StandardScaler\n",
        "# import tensorflow_decision_forests as tfdf\n",
        "\n",
        "import matplotlib as mpl\n",
        "import matplotlib.pyplot as plt\n",
        "\n",
        "\n",
        "import os\n",
        "import tempfile"
      ],
      "metadata": {
        "id": "1vAzbDiJmWYK"
      },
      "execution_count": 3,
      "outputs": []
    },
    {
      "cell_type": "code",
      "source": [
        "mpl.rcParams['figure.figsize'] = (12, 10)\n",
        "colors = plt.rcParams['axes.prop_cycle'].by_key()['color']"
      ],
      "metadata": {
        "id": "kZh576_3TdFo"
      },
      "execution_count": 4,
      "outputs": []
    },
    {
      "cell_type": "code",
      "source": [
        "train_data_path = '/content/drive/MyDrive/thesis/data/train_set_2.csv'\n",
        "test_data_path = '/content/drive/MyDrive/thesis/data/test_set_2.csv'\n"
      ],
      "metadata": {
        "id": "gVIN2WZImbDQ"
      },
      "execution_count": 5,
      "outputs": []
    },
    {
      "cell_type": "code",
      "source": [
        "train_dataset = pd.read_csv(train_data_path, sep =\";\", index_col=[0])\n",
        "train_dataset.head()"
      ],
      "metadata": {
        "colab": {
          "base_uri": "https://localhost:8080/",
          "height": 236
        },
        "id": "foZNfr6nmnZo",
        "outputId": "e3e1e06c-92c7-4db7-c497-8b98d85eda3e"
      },
      "execution_count": 6,
      "outputs": [
        {
          "output_type": "execute_result",
          "data": {
            "text/plain": [
              "                      0    1    2    3    4    5    6    7    8    9  ...  \\\n",
              "ENSMUSG00000022540 -4.0  4.0 -3.0 -1.0  1.0  2.0  6.0  2.0 -2.0  1.0  ...   \n",
              "ENSMUSG00000080723  0.0  0.0 -1.0  0.0  0.0  0.0  0.0  0.0  0.0  0.0  ...   \n",
              "ENSMUSG00000029335  0.0  0.0  0.0  0.0  0.0  0.0  0.0  0.0  0.0  0.0  ...   \n",
              "ENSMUSG00000108532  0.0  0.0  0.0  0.0  0.0  0.0  0.0  0.0  0.0  0.0  ...   \n",
              "ENSMUSG00000046367  0.0  0.0  0.0  0.0  0.0  0.0  0.0  0.0  0.0  0.0  ...   \n",
              "\n",
              "                    673  674  675  676  677  678  679  680  681  fit_class  \n",
              "ENSMUSG00000022540  0.0  2.0  1.0 -4.0 -1.0  0.0  1.0  3.0  0.0          2  \n",
              "ENSMUSG00000080723  0.0  0.0  0.0  0.0  0.0  0.0  0.0  0.0  0.0          0  \n",
              "ENSMUSG00000029335  0.0  0.0  0.0  0.0  0.0  0.0  0.0  0.0  0.0          0  \n",
              "ENSMUSG00000108532  0.0  0.0  0.0  0.0  0.0  0.0  0.0  0.0 -1.0          0  \n",
              "ENSMUSG00000046367  0.0  0.0  0.0  0.0  0.0  0.0  0.0  0.0  0.0          0  \n",
              "\n",
              "[5 rows x 683 columns]"
            ],
            "text/html": [
              "\n",
              "  <div id=\"df-9b3b5e14-7f40-4eb3-90fe-5a68e880fef0\">\n",
              "    <div class=\"colab-df-container\">\n",
              "      <div>\n",
              "<style scoped>\n",
              "    .dataframe tbody tr th:only-of-type {\n",
              "        vertical-align: middle;\n",
              "    }\n",
              "\n",
              "    .dataframe tbody tr th {\n",
              "        vertical-align: top;\n",
              "    }\n",
              "\n",
              "    .dataframe thead th {\n",
              "        text-align: right;\n",
              "    }\n",
              "</style>\n",
              "<table border=\"1\" class=\"dataframe\">\n",
              "  <thead>\n",
              "    <tr style=\"text-align: right;\">\n",
              "      <th></th>\n",
              "      <th>0</th>\n",
              "      <th>1</th>\n",
              "      <th>2</th>\n",
              "      <th>3</th>\n",
              "      <th>4</th>\n",
              "      <th>5</th>\n",
              "      <th>6</th>\n",
              "      <th>7</th>\n",
              "      <th>8</th>\n",
              "      <th>9</th>\n",
              "      <th>...</th>\n",
              "      <th>673</th>\n",
              "      <th>674</th>\n",
              "      <th>675</th>\n",
              "      <th>676</th>\n",
              "      <th>677</th>\n",
              "      <th>678</th>\n",
              "      <th>679</th>\n",
              "      <th>680</th>\n",
              "      <th>681</th>\n",
              "      <th>fit_class</th>\n",
              "    </tr>\n",
              "  </thead>\n",
              "  <tbody>\n",
              "    <tr>\n",
              "      <th>ENSMUSG00000022540</th>\n",
              "      <td>-4.0</td>\n",
              "      <td>4.0</td>\n",
              "      <td>-3.0</td>\n",
              "      <td>-1.0</td>\n",
              "      <td>1.0</td>\n",
              "      <td>2.0</td>\n",
              "      <td>6.0</td>\n",
              "      <td>2.0</td>\n",
              "      <td>-2.0</td>\n",
              "      <td>1.0</td>\n",
              "      <td>...</td>\n",
              "      <td>0.0</td>\n",
              "      <td>2.0</td>\n",
              "      <td>1.0</td>\n",
              "      <td>-4.0</td>\n",
              "      <td>-1.0</td>\n",
              "      <td>0.0</td>\n",
              "      <td>1.0</td>\n",
              "      <td>3.0</td>\n",
              "      <td>0.0</td>\n",
              "      <td>2</td>\n",
              "    </tr>\n",
              "    <tr>\n",
              "      <th>ENSMUSG00000080723</th>\n",
              "      <td>0.0</td>\n",
              "      <td>0.0</td>\n",
              "      <td>-1.0</td>\n",
              "      <td>0.0</td>\n",
              "      <td>0.0</td>\n",
              "      <td>0.0</td>\n",
              "      <td>0.0</td>\n",
              "      <td>0.0</td>\n",
              "      <td>0.0</td>\n",
              "      <td>0.0</td>\n",
              "      <td>...</td>\n",
              "      <td>0.0</td>\n",
              "      <td>0.0</td>\n",
              "      <td>0.0</td>\n",
              "      <td>0.0</td>\n",
              "      <td>0.0</td>\n",
              "      <td>0.0</td>\n",
              "      <td>0.0</td>\n",
              "      <td>0.0</td>\n",
              "      <td>0.0</td>\n",
              "      <td>0</td>\n",
              "    </tr>\n",
              "    <tr>\n",
              "      <th>ENSMUSG00000029335</th>\n",
              "      <td>0.0</td>\n",
              "      <td>0.0</td>\n",
              "      <td>0.0</td>\n",
              "      <td>0.0</td>\n",
              "      <td>0.0</td>\n",
              "      <td>0.0</td>\n",
              "      <td>0.0</td>\n",
              "      <td>0.0</td>\n",
              "      <td>0.0</td>\n",
              "      <td>0.0</td>\n",
              "      <td>...</td>\n",
              "      <td>0.0</td>\n",
              "      <td>0.0</td>\n",
              "      <td>0.0</td>\n",
              "      <td>0.0</td>\n",
              "      <td>0.0</td>\n",
              "      <td>0.0</td>\n",
              "      <td>0.0</td>\n",
              "      <td>0.0</td>\n",
              "      <td>0.0</td>\n",
              "      <td>0</td>\n",
              "    </tr>\n",
              "    <tr>\n",
              "      <th>ENSMUSG00000108532</th>\n",
              "      <td>0.0</td>\n",
              "      <td>0.0</td>\n",
              "      <td>0.0</td>\n",
              "      <td>0.0</td>\n",
              "      <td>0.0</td>\n",
              "      <td>0.0</td>\n",
              "      <td>0.0</td>\n",
              "      <td>0.0</td>\n",
              "      <td>0.0</td>\n",
              "      <td>0.0</td>\n",
              "      <td>...</td>\n",
              "      <td>0.0</td>\n",
              "      <td>0.0</td>\n",
              "      <td>0.0</td>\n",
              "      <td>0.0</td>\n",
              "      <td>0.0</td>\n",
              "      <td>0.0</td>\n",
              "      <td>0.0</td>\n",
              "      <td>0.0</td>\n",
              "      <td>-1.0</td>\n",
              "      <td>0</td>\n",
              "    </tr>\n",
              "    <tr>\n",
              "      <th>ENSMUSG00000046367</th>\n",
              "      <td>0.0</td>\n",
              "      <td>0.0</td>\n",
              "      <td>0.0</td>\n",
              "      <td>0.0</td>\n",
              "      <td>0.0</td>\n",
              "      <td>0.0</td>\n",
              "      <td>0.0</td>\n",
              "      <td>0.0</td>\n",
              "      <td>0.0</td>\n",
              "      <td>0.0</td>\n",
              "      <td>...</td>\n",
              "      <td>0.0</td>\n",
              "      <td>0.0</td>\n",
              "      <td>0.0</td>\n",
              "      <td>0.0</td>\n",
              "      <td>0.0</td>\n",
              "      <td>0.0</td>\n",
              "      <td>0.0</td>\n",
              "      <td>0.0</td>\n",
              "      <td>0.0</td>\n",
              "      <td>0</td>\n",
              "    </tr>\n",
              "  </tbody>\n",
              "</table>\n",
              "<p>5 rows × 683 columns</p>\n",
              "</div>\n",
              "      <button class=\"colab-df-convert\" onclick=\"convertToInteractive('df-9b3b5e14-7f40-4eb3-90fe-5a68e880fef0')\"\n",
              "              title=\"Convert this dataframe to an interactive table.\"\n",
              "              style=\"display:none;\">\n",
              "        \n",
              "  <svg xmlns=\"http://www.w3.org/2000/svg\" height=\"24px\"viewBox=\"0 0 24 24\"\n",
              "       width=\"24px\">\n",
              "    <path d=\"M0 0h24v24H0V0z\" fill=\"none\"/>\n",
              "    <path d=\"M18.56 5.44l.94 2.06.94-2.06 2.06-.94-2.06-.94-.94-2.06-.94 2.06-2.06.94zm-11 1L8.5 8.5l.94-2.06 2.06-.94-2.06-.94L8.5 2.5l-.94 2.06-2.06.94zm10 10l.94 2.06.94-2.06 2.06-.94-2.06-.94-.94-2.06-.94 2.06-2.06.94z\"/><path d=\"M17.41 7.96l-1.37-1.37c-.4-.4-.92-.59-1.43-.59-.52 0-1.04.2-1.43.59L10.3 9.45l-7.72 7.72c-.78.78-.78 2.05 0 2.83L4 21.41c.39.39.9.59 1.41.59.51 0 1.02-.2 1.41-.59l7.78-7.78 2.81-2.81c.8-.78.8-2.07 0-2.86zM5.41 20L4 18.59l7.72-7.72 1.47 1.35L5.41 20z\"/>\n",
              "  </svg>\n",
              "      </button>\n",
              "      \n",
              "  <style>\n",
              "    .colab-df-container {\n",
              "      display:flex;\n",
              "      flex-wrap:wrap;\n",
              "      gap: 12px;\n",
              "    }\n",
              "\n",
              "    .colab-df-convert {\n",
              "      background-color: #E8F0FE;\n",
              "      border: none;\n",
              "      border-radius: 50%;\n",
              "      cursor: pointer;\n",
              "      display: none;\n",
              "      fill: #1967D2;\n",
              "      height: 32px;\n",
              "      padding: 0 0 0 0;\n",
              "      width: 32px;\n",
              "    }\n",
              "\n",
              "    .colab-df-convert:hover {\n",
              "      background-color: #E2EBFA;\n",
              "      box-shadow: 0px 1px 2px rgba(60, 64, 67, 0.3), 0px 1px 3px 1px rgba(60, 64, 67, 0.15);\n",
              "      fill: #174EA6;\n",
              "    }\n",
              "\n",
              "    [theme=dark] .colab-df-convert {\n",
              "      background-color: #3B4455;\n",
              "      fill: #D2E3FC;\n",
              "    }\n",
              "\n",
              "    [theme=dark] .colab-df-convert:hover {\n",
              "      background-color: #434B5C;\n",
              "      box-shadow: 0px 1px 3px 1px rgba(0, 0, 0, 0.15);\n",
              "      filter: drop-shadow(0px 1px 2px rgba(0, 0, 0, 0.3));\n",
              "      fill: #FFFFFF;\n",
              "    }\n",
              "  </style>\n",
              "\n",
              "      <script>\n",
              "        const buttonEl =\n",
              "          document.querySelector('#df-9b3b5e14-7f40-4eb3-90fe-5a68e880fef0 button.colab-df-convert');\n",
              "        buttonEl.style.display =\n",
              "          google.colab.kernel.accessAllowed ? 'block' : 'none';\n",
              "\n",
              "        async function convertToInteractive(key) {\n",
              "          const element = document.querySelector('#df-9b3b5e14-7f40-4eb3-90fe-5a68e880fef0');\n",
              "          const dataTable =\n",
              "            await google.colab.kernel.invokeFunction('convertToInteractive',\n",
              "                                                     [key], {});\n",
              "          if (!dataTable) return;\n",
              "\n",
              "          const docLinkHtml = 'Like what you see? Visit the ' +\n",
              "            '<a target=\"_blank\" href=https://colab.research.google.com/notebooks/data_table.ipynb>data table notebook</a>'\n",
              "            + ' to learn more about interactive tables.';\n",
              "          element.innerHTML = '';\n",
              "          dataTable['output_type'] = 'display_data';\n",
              "          await google.colab.output.renderOutput(dataTable, element);\n",
              "          const docLink = document.createElement('div');\n",
              "          docLink.innerHTML = docLinkHtml;\n",
              "          element.appendChild(docLink);\n",
              "        }\n",
              "      </script>\n",
              "    </div>\n",
              "  </div>\n",
              "  "
            ]
          },
          "metadata": {},
          "execution_count": 6
        }
      ]
    },
    {
      "cell_type": "code",
      "source": [
        "# get counts for each class\n",
        "bi, poo, others = np.bincount(train_dataset['fit_class'])\n",
        "total = bi + poo + others\n",
        "print(f'Total: {total}')\n",
        "print(f'Biallelic Class: {bi} ({round((100 * bi / total), 2)}% of total)')\n",
        "print(f'Parent of Origin Class: {poo} ({round((100 * poo / total), 2)}% of total)')\n",
        "print(f'Other Classes: {others} ({round((100 * others / total), 2)}% of total)')\n"
      ],
      "metadata": {
        "id": "npaqJKKO6nTc",
        "colab": {
          "base_uri": "https://localhost:8080/"
        },
        "outputId": "734750bb-6714-4e14-bde2-c99815138e26"
      },
      "execution_count": 7,
      "outputs": [
        {
          "output_type": "stream",
          "name": "stdout",
          "text": [
            "Total: 3094\n",
            "Biallelic Class: 2146 (69.36% of total)\n",
            "Parent of Origin Class: 38 (1.23% of total)\n",
            "Other Classes: 910 (29.41% of total)\n"
          ]
        }
      ]
    },
    {
      "cell_type": "code",
      "source": [
        "# compute initial bias for the model to be defined later, based on frequency of each class\n",
        "\n",
        "### To solve that set of nonlinear equations, use scipy fsolve\n",
        "### https://stackoverflow.com/questions/60307239/setting-bias-for-multiclass-classification-python-tensorflow-keras\n",
        "from scipy.optimize import fsolve\n",
        "from math import exp\n",
        "\n",
        "# define the frequency of different classes\n",
        "f=(bi / total, poo / total, others / total)\n",
        "\n",
        "# define the equation \n",
        "def eqn(x, frequency):\n",
        "  sum_exp = sum([exp(x_i) for x_i in x])\n",
        "  return [exp(x[i])/sum_exp - frequency[i] for i in range(len(frequency))]\n",
        "\n",
        "# calculate bias init\n",
        "bias_init = fsolve(func=eqn,x0=[0]*len(f),args=(f,)).tolist()\n",
        "\n",
        "bias_init \n",
        "\n"
      ],
      "metadata": {
        "colab": {
          "base_uri": "https://localhost:8080/"
        },
        "id": "u2XoLdpmylko",
        "outputId": "3f4584e7-354f-47cf-c62e-5b89ae349ba8"
      },
      "execution_count": 8,
      "outputs": [
        {
          "output_type": "execute_result",
          "data": {
            "text/plain": [
              "[1.630563717718403, -2.40321104574351, 0.7726473940385223]"
            ]
          },
          "metadata": {},
          "execution_count": 8
        }
      ]
    },
    {
      "cell_type": "code",
      "source": [
        "# for training\n",
        "# separating dataset into feature part and label part\n",
        "y = train_dataset.iloc[:,-1]\n",
        "X = train_dataset.iloc[:,:-1]\n",
        "X.shape, y.shape"
      ],
      "metadata": {
        "id": "zwZsjaO8VzDM",
        "colab": {
          "base_uri": "https://localhost:8080/"
        },
        "outputId": "ec562767-6b00-43ed-b9ed-bd18efd1575d"
      },
      "execution_count": 9,
      "outputs": [
        {
          "output_type": "execute_result",
          "data": {
            "text/plain": [
              "((3094, 682), (3094,))"
            ]
          },
          "metadata": {},
          "execution_count": 9
        }
      ]
    },
    {
      "cell_type": "code",
      "source": [
        "# divide dataset into training and validation sets, for cross valuidation\n",
        "X_train, X_val, y_train, y_val = train_test_split(X, y, test_size=0.3, random_state=0)"
      ],
      "metadata": {
        "id": "cv_59EZf8q4V"
      },
      "execution_count": 10,
      "outputs": []
    },
    {
      "cell_type": "code",
      "source": [
        "# converting pandas df to np array, as few functions used would only accept np arrays\n",
        "train_features = np.array(X_train)\n",
        "val_features = np.array(X_val)\n",
        "train_labels = np.array(y_train)\n",
        "val_labels = np.array(y_val)\n",
        "\n",
        "len(train_labels), len(val_labels)"
      ],
      "metadata": {
        "id": "xaNmdofi80n4",
        "colab": {
          "base_uri": "https://localhost:8080/"
        },
        "outputId": "8823a3e7-fbd6-4c96-e5f5-bc2680070d2f"
      },
      "execution_count": 11,
      "outputs": [
        {
          "output_type": "execute_result",
          "data": {
            "text/plain": [
              "(2165, 929)"
            ]
          },
          "metadata": {},
          "execution_count": 11
        }
      ]
    },
    {
      "cell_type": "code",
      "source": [
        "# use Scalar to scale the training and validtion dataset\n",
        "scaler = StandardScaler()\n",
        "\n",
        "# we use training features to fit the Scalar, so that the validation and test sets are not biased\n",
        "train_features = scaler.fit_transform(train_features)\n",
        "val_features = scaler.transform(val_features)\n",
        "\n",
        "# clipping is done to limit the values in a range, possibly removing the outliers\n",
        "# need to cross-chec if (-5, 5) does fit our case or not\n",
        "train_features = np.clip(train_features, -5, 5)\n",
        "val_features = np.clip(val_features, -5, 5)\n",
        "\n",
        "\n",
        "print('Training labels shape:', train_labels.shape)\n",
        "print('Validation labels shape:', val_labels.shape)\n",
        "\n",
        "print('Training features shape:', train_features.shape)\n",
        "print('Validation features shape:', val_features.shape)"
      ],
      "metadata": {
        "colab": {
          "base_uri": "https://localhost:8080/"
        },
        "id": "dg8zeEmnunf8",
        "outputId": "47dbe7ad-7ed8-4b6b-b1c1-7bddfc58398b"
      },
      "execution_count": 12,
      "outputs": [
        {
          "output_type": "stream",
          "name": "stdout",
          "text": [
            "Training labels shape: (2165,)\n",
            "Validation labels shape: (929,)\n",
            "Training features shape: (2165, 682)\n",
            "Validation features shape: (929, 682)\n"
          ]
        }
      ]
    },
    {
      "cell_type": "code",
      "source": [
        "METRICS = [\n",
        "      # tf.keras.metrics.TruePositives(name='tp'),\n",
        "      # tf.keras.metrics.FalsePositives(name='fp'),\n",
        "      # tf.keras.metrics.TrueNegatives(name='tn'),\n",
        "      # tf.keras.metrics.FalseNegatives(name='fn'), \n",
        "      tf.keras.metrics.SparseCategoricalAccuracy(),\n",
        "      # tf.keras.metrics.Precision(name='precision'),\n",
        "      # tf.keras.metrics.Recall(name='recall'),\n",
        "      # tf.keras.metrics.AUC(name='auc'),\n",
        "      # tf.keras.metrics.AUC(name='prc', curve='PR'), # precision-recall curve\n",
        "]\n",
        "\n",
        "def make_model(metrics=METRICS, output_bias=None):\n",
        "  if output_bias is not None:\n",
        "    output_bias = tf.keras.initializers.Constant(output_bias)\n",
        "  # design the neural network with two dense layers\n",
        "  inputs = tf.keras.layers.Input(shape=(train_features.shape[-1],))\n",
        "  x = tf.keras.layers.Dense(16, activation=\"relu\", name=\"dense_1\")(inputs)\n",
        "  x = tf.keras.layers.Dense(16, activation=\"relu\", name=\"dense_2\")(x)\n",
        "  # dropout introduced so that the model does not overfit\n",
        "  x = tf.keras.layers.Dropout(0.5)(x)\n",
        "  outputs = tf.keras.layers.Dense(3, name=\"predictions\", bias_initializer=output_bias)(x)\n",
        "\n",
        "  model = tf.keras.Model(inputs=inputs, outputs=outputs)\n",
        "  model.compile(optimizer=tf.keras.optimizers.RMSprop(learning_rate=0.001), \n",
        "                loss=tf.keras.losses.SparseCategoricalCrossentropy(from_logits=True), \n",
        "                metrics=METRICS)\n",
        "  \n",
        "  return model"
      ],
      "metadata": {
        "id": "Onr-BgCSnVwl"
      },
      "execution_count": 13,
      "outputs": []
    },
    {
      "cell_type": "code",
      "source": [
        "EPOCHS = 100\n",
        "BATCH_SIZE = 400 # needs to be big so that all possible classes are included in a batch\n",
        "\n",
        "# to avoid over training, this callback would stop training if the vaues are not decreasing anymore\n",
        "early_stopping = tf.keras.callbacks.EarlyStopping(\n",
        "    monitor='val_loss', \n",
        "    verbose=1,\n",
        "    patience=5,\n",
        "    restore_best_weights=True)\n",
        "\n",
        "# just used for monitoring the loss at different lr\n",
        "# reduce_lr = tf.keras.callbacks.ReduceLROnPlateau(monitor='val_loss', factor=0.1,\n",
        "#                               patience=5, min_lr=0.0001)"
      ],
      "metadata": {
        "id": "GXDyzDGq6mv3"
      },
      "execution_count": 14,
      "outputs": []
    },
    {
      "cell_type": "code",
      "source": [
        "model=make_model()\n",
        "model.summary()"
      ],
      "metadata": {
        "colab": {
          "base_uri": "https://localhost:8080/"
        },
        "id": "77YHXFjS6Qef",
        "outputId": "2a39a69f-d8ab-42b2-eecb-73a4ba0e11fc"
      },
      "execution_count": 15,
      "outputs": [
        {
          "output_type": "stream",
          "name": "stdout",
          "text": [
            "Model: \"model\"\n",
            "_________________________________________________________________\n",
            " Layer (type)                Output Shape              Param #   \n",
            "=================================================================\n",
            " input_1 (InputLayer)        [(None, 682)]             0         \n",
            "                                                                 \n",
            " dense_1 (Dense)             (None, 16)                10928     \n",
            "                                                                 \n",
            " dense_2 (Dense)             (None, 16)                272       \n",
            "                                                                 \n",
            " dropout (Dropout)           (None, 16)                0         \n",
            "                                                                 \n",
            " predictions (Dense)         (None, 3)                 51        \n",
            "                                                                 \n",
            "=================================================================\n",
            "Total params: 11,251\n",
            "Trainable params: 11,251\n",
            "Non-trainable params: 0\n",
            "_________________________________________________________________\n"
          ]
        }
      ]
    },
    {
      "cell_type": "code",
      "source": [
        "model.predict(train_features[:10])"
      ],
      "metadata": {
        "colab": {
          "base_uri": "https://localhost:8080/"
        },
        "id": "QEdkN-BsR_8R",
        "outputId": "09fec352-9457-4967-fd6e-279de3898c00"
      },
      "execution_count": 16,
      "outputs": [
        {
          "output_type": "execute_result",
          "data": {
            "text/plain": [
              "array([[ 1.6826916 , -0.17338139,  0.60389835],\n",
              "       [ 0.9810139 , -0.2524837 ,  0.10911592],\n",
              "       [ 0.8025787 , -0.037788  ,  1.4103897 ],\n",
              "       [ 0.86850274, -0.33393583,  0.11185087],\n",
              "       [ 0.57705176,  0.4180485 ,  0.7962309 ],\n",
              "       [ 0.8624929 , -0.32314315,  0.15326807],\n",
              "       [ 0.883955  , -0.16182682,  0.34573203],\n",
              "       [ 0.9804133 , -0.24853009,  0.11532748],\n",
              "       [ 0.9867268 , -0.25291944,  0.11064736],\n",
              "       [ 1.038303  , -0.28103152,  0.16863598]], dtype=float32)"
            ]
          },
          "metadata": {},
          "execution_count": 16
        }
      ]
    },
    {
      "cell_type": "code",
      "source": [
        "results = model.evaluate(train_features, train_labels, batch_size=BATCH_SIZE, verbose=0)\n",
        "print(\"Loss: {:0.4f}\".format(results[0]))"
      ],
      "metadata": {
        "colab": {
          "base_uri": "https://localhost:8080/"
        },
        "id": "BYpMIo6HSD38",
        "outputId": "748f057c-79d4-4603-fc67-681e3e60be48"
      },
      "execution_count": 17,
      "outputs": [
        {
          "output_type": "stream",
          "name": "stdout",
          "text": [
            "Loss: 0.8129\n"
          ]
        }
      ]
    },
    {
      "cell_type": "code",
      "source": [
        "model = make_model(output_bias=bias_init)\n",
        "model.predict(train_features[:10])"
      ],
      "metadata": {
        "colab": {
          "base_uri": "https://localhost:8080/"
        },
        "id": "8-CGkER6SInq",
        "outputId": "dcfa3314-e78e-4c51-a872-7e59413deb65"
      },
      "execution_count": 18,
      "outputs": [
        {
          "output_type": "execute_result",
          "data": {
            "text/plain": [
              "array([[ 1.1358621 , -2.4437246 ,  0.25120425],\n",
              "       [ 1.6128422 , -2.4218216 ,  0.7738252 ],\n",
              "       [ 1.1172445 , -3.7803822 , -1.5634632 ],\n",
              "       [ 1.5805284 , -2.5824194 ,  0.8314767 ],\n",
              "       [ 1.5154988 , -2.7330852 ,  0.7172811 ],\n",
              "       [ 1.5450605 , -2.7428255 ,  0.66602415],\n",
              "       [ 1.7136925 , -2.7299674 ,  0.97963554],\n",
              "       [ 1.609865  , -2.4228818 ,  0.7745195 ],\n",
              "       [ 1.6105887 , -2.4179208 ,  0.768729  ],\n",
              "       [ 1.6267865 , -2.4106123 ,  0.7852313 ]], dtype=float32)"
            ]
          },
          "metadata": {},
          "execution_count": 18
        }
      ]
    },
    {
      "cell_type": "code",
      "source": [
        "results = model.evaluate(train_features, train_labels, batch_size=BATCH_SIZE, verbose=0)\n",
        "print(\"Loss: {:0.4f}\".format(results[0]))"
      ],
      "metadata": {
        "colab": {
          "base_uri": "https://localhost:8080/"
        },
        "id": "RetL3_xpSS7o",
        "outputId": "ea4a9ee6-1cdd-43b7-f1a7-364bb82477c2"
      },
      "execution_count": 19,
      "outputs": [
        {
          "output_type": "stream",
          "name": "stdout",
          "text": [
            "Loss: 0.6789\n"
          ]
        }
      ]
    },
    {
      "cell_type": "code",
      "source": [
        "initial_weights = os.path.join(tempfile.mkdtemp(), 'initial_weights')\n",
        "model.save_weights(initial_weights)"
      ],
      "metadata": {
        "id": "kxmCkUbeSbFD"
      },
      "execution_count": 20,
      "outputs": []
    },
    {
      "cell_type": "code",
      "source": [
        "# This builds the model for the first time:\n",
        "# model.fit(train_features, train_labels, batch_size=BATCH_SIZE, epochs=EPOCHS, validation_data=(val_features, val_labels), callbacks=[early_stopping])\n",
        "# model.fit(X_train, y_train, batch_size=BATCH_SIZE, epochs=EPOCHS, validation_data=(X_val, y_val))"
      ],
      "metadata": {
        "id": "q66MJfqk5yUf"
      },
      "execution_count": 21,
      "outputs": []
    },
    {
      "cell_type": "code",
      "source": [
        "# model.predict(train_features[:10])"
      ],
      "metadata": {
        "id": "xEO2Rr94xuzw"
      },
      "execution_count": 22,
      "outputs": []
    },
    {
      "cell_type": "code",
      "source": [
        "# give low frequency class greater weight\n",
        "weight_for_0 = (1 / bi) * (total / 2.0)\n",
        "weight_for_1 = (1 / poo) * (total / 2.0)\n",
        "weight_for_2 = (1 / others) * (total / 2.0)\n",
        "class_weight = {0: weight_for_0, 1: weight_for_1, 2: weight_for_2}\n",
        "weight_for_0, weight_for_1, weight_for_2"
      ],
      "metadata": {
        "colab": {
          "base_uri": "https://localhost:8080/"
        },
        "id": "RKCOkBwoUbT7",
        "outputId": "0c8a999b-a559-4663-f7d9-7a55eab125ee"
      },
      "execution_count": 23,
      "outputs": [
        {
          "output_type": "execute_result",
          "data": {
            "text/plain": [
              "(0.7208760484622553, 40.71052631578947, 1.7)"
            ]
          },
          "metadata": {},
          "execution_count": 23
        }
      ]
    },
    {
      "cell_type": "code",
      "source": [
        "model = make_model()\n",
        "model.load_weights(initial_weights)\n",
        "baseline_history = model.fit(\n",
        "    train_features,\n",
        "    train_labels,\n",
        "    batch_size=BATCH_SIZE,\n",
        "    epochs=EPOCHS,\n",
        "    callbacks=[early_stopping],\n",
        "    validation_data=(val_features, val_labels))\n",
        "    # class_weight=class_weight) # adding class_weight caused worse loss and accuracy"
      ],
      "metadata": {
        "colab": {
          "base_uri": "https://localhost:8080/"
        },
        "id": "H-1qT0CFP2Gv",
        "outputId": "15516428-7d99-4b2c-a02d-c66736d9c2c5"
      },
      "execution_count": 24,
      "outputs": [
        {
          "output_type": "stream",
          "name": "stdout",
          "text": [
            "Epoch 1/100\n",
            "6/6 [==============================] - 2s 90ms/step - loss: 0.6678 - sparse_categorical_accuracy: 0.7096 - val_loss: 0.6238 - val_sparse_categorical_accuracy: 0.7341\n",
            "Epoch 2/100\n",
            "6/6 [==============================] - 0s 25ms/step - loss: 0.6598 - sparse_categorical_accuracy: 0.7247 - val_loss: 0.6193 - val_sparse_categorical_accuracy: 0.7341\n",
            "Epoch 3/100\n",
            "6/6 [==============================] - 0s 16ms/step - loss: 0.6349 - sparse_categorical_accuracy: 0.7353 - val_loss: 0.5909 - val_sparse_categorical_accuracy: 0.7320\n",
            "Epoch 4/100\n",
            "6/6 [==============================] - 0s 20ms/step - loss: 0.6230 - sparse_categorical_accuracy: 0.7363 - val_loss: 0.5931 - val_sparse_categorical_accuracy: 0.7406\n",
            "Epoch 5/100\n",
            "6/6 [==============================] - 0s 17ms/step - loss: 0.6059 - sparse_categorical_accuracy: 0.7423 - val_loss: 0.6163 - val_sparse_categorical_accuracy: 0.7470\n",
            "Epoch 6/100\n",
            "6/6 [==============================] - 0s 18ms/step - loss: 0.6136 - sparse_categorical_accuracy: 0.7501 - val_loss: 0.6074 - val_sparse_categorical_accuracy: 0.7503\n",
            "Epoch 7/100\n",
            "6/6 [==============================] - 0s 21ms/step - loss: 0.6109 - sparse_categorical_accuracy: 0.7409 - val_loss: 0.5801 - val_sparse_categorical_accuracy: 0.7524\n",
            "Epoch 8/100\n",
            "6/6 [==============================] - 0s 19ms/step - loss: 0.6185 - sparse_categorical_accuracy: 0.7469 - val_loss: 0.5792 - val_sparse_categorical_accuracy: 0.7470\n",
            "Epoch 9/100\n",
            "6/6 [==============================] - 0s 34ms/step - loss: 0.5585 - sparse_categorical_accuracy: 0.7584 - val_loss: 0.5618 - val_sparse_categorical_accuracy: 0.7675\n",
            "Epoch 10/100\n",
            "6/6 [==============================] - 0s 20ms/step - loss: 0.5821 - sparse_categorical_accuracy: 0.7695 - val_loss: 0.5627 - val_sparse_categorical_accuracy: 0.7686\n",
            "Epoch 11/100\n",
            "6/6 [==============================] - 0s 18ms/step - loss: 0.5537 - sparse_categorical_accuracy: 0.7714 - val_loss: 0.5427 - val_sparse_categorical_accuracy: 0.7772\n",
            "Epoch 12/100\n",
            "6/6 [==============================] - 0s 19ms/step - loss: 0.5508 - sparse_categorical_accuracy: 0.7811 - val_loss: 0.5517 - val_sparse_categorical_accuracy: 0.7675\n",
            "Epoch 13/100\n",
            "6/6 [==============================] - 0s 19ms/step - loss: 0.5504 - sparse_categorical_accuracy: 0.7746 - val_loss: 0.5363 - val_sparse_categorical_accuracy: 0.7772\n",
            "Epoch 14/100\n",
            "6/6 [==============================] - 0s 26ms/step - loss: 0.5563 - sparse_categorical_accuracy: 0.7806 - val_loss: 0.5619 - val_sparse_categorical_accuracy: 0.7836\n",
            "Epoch 15/100\n",
            "6/6 [==============================] - 0s 18ms/step - loss: 0.5242 - sparse_categorical_accuracy: 0.7926 - val_loss: 0.5569 - val_sparse_categorical_accuracy: 0.7836\n",
            "Epoch 16/100\n",
            "6/6 [==============================] - 0s 26ms/step - loss: 0.5261 - sparse_categorical_accuracy: 0.8005 - val_loss: 0.5324 - val_sparse_categorical_accuracy: 0.7858\n",
            "Epoch 17/100\n",
            "6/6 [==============================] - 0s 18ms/step - loss: 0.5339 - sparse_categorical_accuracy: 0.7940 - val_loss: 0.5310 - val_sparse_categorical_accuracy: 0.7869\n",
            "Epoch 18/100\n",
            "6/6 [==============================] - 0s 28ms/step - loss: 0.5330 - sparse_categorical_accuracy: 0.8046 - val_loss: 0.5191 - val_sparse_categorical_accuracy: 0.7976\n",
            "Epoch 19/100\n",
            "6/6 [==============================] - 0s 21ms/step - loss: 0.5186 - sparse_categorical_accuracy: 0.8005 - val_loss: 0.5121 - val_sparse_categorical_accuracy: 0.7955\n",
            "Epoch 20/100\n",
            "6/6 [==============================] - 0s 16ms/step - loss: 0.4921 - sparse_categorical_accuracy: 0.8097 - val_loss: 0.5049 - val_sparse_categorical_accuracy: 0.8009\n",
            "Epoch 21/100\n",
            "6/6 [==============================] - 0s 27ms/step - loss: 0.4960 - sparse_categorical_accuracy: 0.8157 - val_loss: 0.4994 - val_sparse_categorical_accuracy: 0.7998\n",
            "Epoch 22/100\n",
            "6/6 [==============================] - 0s 20ms/step - loss: 0.4751 - sparse_categorical_accuracy: 0.8217 - val_loss: 0.4952 - val_sparse_categorical_accuracy: 0.7998\n",
            "Epoch 23/100\n",
            "6/6 [==============================] - 0s 18ms/step - loss: 0.4678 - sparse_categorical_accuracy: 0.8296 - val_loss: 0.4989 - val_sparse_categorical_accuracy: 0.8052\n",
            "Epoch 24/100\n",
            "6/6 [==============================] - 0s 20ms/step - loss: 0.4520 - sparse_categorical_accuracy: 0.8351 - val_loss: 0.4884 - val_sparse_categorical_accuracy: 0.8073\n",
            "Epoch 25/100\n",
            "6/6 [==============================] - 0s 21ms/step - loss: 0.4367 - sparse_categorical_accuracy: 0.8360 - val_loss: 0.4538 - val_sparse_categorical_accuracy: 0.8084\n",
            "Epoch 26/100\n",
            "6/6 [==============================] - 0s 26ms/step - loss: 0.4667 - sparse_categorical_accuracy: 0.8374 - val_loss: 0.4954 - val_sparse_categorical_accuracy: 0.8084\n",
            "Epoch 27/100\n",
            "6/6 [==============================] - 0s 23ms/step - loss: 0.4275 - sparse_categorical_accuracy: 0.8430 - val_loss: 0.4915 - val_sparse_categorical_accuracy: 0.8062\n",
            "Epoch 28/100\n",
            "6/6 [==============================] - 0s 22ms/step - loss: 0.4902 - sparse_categorical_accuracy: 0.8402 - val_loss: 0.4809 - val_sparse_categorical_accuracy: 0.7998\n",
            "Epoch 29/100\n",
            "6/6 [==============================] - 0s 18ms/step - loss: 0.4453 - sparse_categorical_accuracy: 0.8259 - val_loss: 0.4631 - val_sparse_categorical_accuracy: 0.8062\n",
            "Epoch 30/100\n",
            "1/6 [====>.........................] - ETA: 0s - loss: 0.3761 - sparse_categorical_accuracy: 0.8625Restoring model weights from the end of the best epoch: 25.\n",
            "6/6 [==============================] - 0s 18ms/step - loss: 0.4317 - sparse_categorical_accuracy: 0.8540 - val_loss: 0.4543 - val_sparse_categorical_accuracy: 0.8041\n",
            "Epoch 30: early stopping\n"
          ]
        }
      ]
    },
    {
      "cell_type": "code",
      "source": [
        "def plot_metrics(history):\n",
        "  metrics = ['loss']\n",
        "  for n, metric in enumerate(metrics):\n",
        "    name = metric.replace(\"_\",\" \").capitalize()\n",
        "    plt.subplot(2,2,n+1)\n",
        "    plt.plot(history.epoch, history.history[metric], color=colors[0], label='Train')\n",
        "    plt.plot(history.epoch, history.history['val_'+metric],\n",
        "             color=colors[0], linestyle=\"--\", label='Val')\n",
        "    plt.xlabel('Epoch')\n",
        "    plt.ylabel(name)\n",
        "    if metric == 'loss':\n",
        "      plt.ylim([0, plt.ylim()[1]])\n",
        "    elif metric == 'auc':\n",
        "      plt.ylim([0.8,1])\n",
        "    else:\n",
        "      plt.ylim([0,1])\n",
        "\n",
        "    plt.legend();"
      ],
      "metadata": {
        "id": "h1JPv6FTP2Np"
      },
      "execution_count": 25,
      "outputs": []
    },
    {
      "cell_type": "code",
      "source": [
        "plot_metrics(baseline_history)"
      ],
      "metadata": {
        "colab": {
          "base_uri": "https://localhost:8080/",
          "height": 309
        },
        "id": "e6Fit9hHP2Ow",
        "outputId": "0b686621-d67c-43db-a17d-d5c911d29928"
      },
      "execution_count": 26,
      "outputs": [
        {
          "output_type": "display_data",
          "data": {
            "text/plain": [
              "<Figure size 864x720 with 1 Axes>"
            ],
            "image/png": "[encoded data removed]"
          },
          "metadata": {
            "needs_background": "light"
          }
        }
      ]
    },
    {
      "cell_type": "code",
      "source": [
        "# for test\n",
        "test_dataset = pd.read_csv(test_data_path, sep =\";\", index_col=[0])\n",
        "test_dataset.head(20)"
      ],
      "metadata": {
        "colab": {
          "base_uri": "https://localhost:8080/",
          "height": 706
        },
        "id": "dE59WwSJ7QFe",
        "outputId": "1f9b5432-b985-490c-93fc-9b9b05e7ac48"
      },
      "execution_count": 27,
      "outputs": [
        {
          "output_type": "execute_result",
          "data": {
            "text/plain": [
              "                        0      1      2      3      4      5      6      7  \\\n",
              "ENSMUSG00000000563    1.0   -5.0    8.0   35.0  -15.0  -15.0   16.0  -14.0   \n",
              "ENSMUSG00000000120    0.0    0.0    0.0    0.0    0.0    0.0    0.0    0.0   \n",
              "ENSMUSG00000000378    0.0    5.0   -1.0   -3.0    1.0   -6.0    1.0    4.0   \n",
              "ENSMUSG00000000753   16.0   59.0   72.0   55.0    6.0  -17.0   23.0   12.0   \n",
              "ENSMUSG00000000743   -1.0  -12.0    8.0    5.0  -13.0    6.0   -4.0   -4.0   \n",
              "ENSMUSG00000001924   32.0   37.0   73.0   64.0   79.0   47.0   93.0   59.0   \n",
              "ENSMUSG00000001555   18.0   -1.0   16.0   28.0    7.0    2.0   10.0   -5.0   \n",
              "ENSMUSG00000001056   -9.0    0.0   -1.0   10.0   10.0    2.0  -24.0   10.0   \n",
              "ENSMUSG00000000805    0.0    0.0    0.0    0.0    0.0    0.0    0.0    0.0   \n",
              "ENSMUSG00000000732    0.0    0.0    0.0   -1.0    0.0    0.0    0.0    0.0   \n",
              "ENSMUSG00000000673    0.0    0.0    0.0    0.0    0.0    0.0    0.0    0.0   \n",
              "ENSMUSG00000001098   13.0    0.0   11.0    8.0   -1.0    4.0   -8.0    3.0   \n",
              "ENSMUSG00000016382    7.0   33.0   24.0   23.0   40.0   18.0   17.0   16.0   \n",
              "ENSMUSG00000000489    0.0    0.0    0.0    0.0    0.0    0.0    0.0    0.0   \n",
              "ENSMUSG00000008682  244.0  384.0  265.0  327.0  390.0  369.0  558.0  241.0   \n",
              "ENSMUSG00000000184  -35.0   16.0  -40.0   13.0   63.0  -62.0   60.0   28.0   \n",
              "ENSMUSG00000001131   82.0  427.0  317.0  459.0  541.0  168.0  485.0  105.0   \n",
              "ENSMUSG00000000339    3.0    2.0   -1.0    4.0    3.0   -1.0    6.0    0.0   \n",
              "ENSMUSG00000000088    6.0    8.0    7.0    6.0   -6.0   20.0   16.0   -7.0   \n",
              "ENSMUSG00000000959   -5.0    1.0   -1.0    1.0    6.0    2.0   -4.0    0.0   \n",
              "\n",
              "                        8      9  ...    673    674    675    676    677  \\\n",
              "ENSMUSG00000000563    4.0  -13.0  ...   -6.0   -8.0    7.0   -3.0   -4.0   \n",
              "ENSMUSG00000000120    0.0    0.0  ...    0.0    0.0    0.0    0.0    0.0   \n",
              "ENSMUSG00000000378    9.0    0.0  ...    2.0    2.0    1.0    3.0   -2.0   \n",
              "ENSMUSG00000000753   49.0   -7.0  ...    6.0    3.0  -27.0    5.0    0.0   \n",
              "ENSMUSG00000000743    3.0    7.0  ...   -2.0    5.0    0.0    1.0    4.0   \n",
              "ENSMUSG00000001924   64.0   61.0  ...   23.0   27.0   51.0   35.0   36.0   \n",
              "ENSMUSG00000001555   12.0  -25.0  ...    0.0   -3.0   26.0  -14.0   11.0   \n",
              "ENSMUSG00000001056    0.0   -1.0  ...    1.0   -4.0  -32.0   -1.0    0.0   \n",
              "ENSMUSG00000000805    0.0    0.0  ...    0.0    0.0    0.0    0.0    0.0   \n",
              "ENSMUSG00000000732    0.0    0.0  ...    0.0    0.0    0.0    0.0   -1.0   \n",
              "ENSMUSG00000000673    0.0    0.0  ...    0.0    0.0    0.0    0.0    0.0   \n",
              "ENSMUSG00000001098    1.0    0.0  ...    9.0    1.0   -9.0   -2.0    8.0   \n",
              "ENSMUSG00000016382   50.0   17.0  ...   20.0   24.0   44.0   28.0   30.0   \n",
              "ENSMUSG00000000489    0.0    0.0  ...    0.0    0.0    0.0    0.0    0.0   \n",
              "ENSMUSG00000008682  344.0  302.0  ...  216.0  168.0  195.0  191.0  173.0   \n",
              "ENSMUSG00000000184  -26.0   -6.0  ...    2.0   13.0   14.0   -6.0    8.0   \n",
              "ENSMUSG00000001131  444.0  154.0  ...  135.0  162.0  517.0  158.0  192.0   \n",
              "ENSMUSG00000000339    0.0   -6.0  ...    0.0   -4.0    2.0    1.0    3.0   \n",
              "ENSMUSG00000000088   21.0  -13.0  ...    0.0   -5.0   -2.0    0.0    0.0   \n",
              "ENSMUSG00000000959   -1.0   -5.0  ...    1.0   -2.0    2.0    2.0    4.0   \n",
              "\n",
              "                      678    679    680    681  fit_class  \n",
              "ENSMUSG00000000563  -11.0  -32.0    0.0   -3.0          0  \n",
              "ENSMUSG00000000120    0.0    0.0    0.0    0.0          0  \n",
              "ENSMUSG00000000378   -1.0   -1.0   -1.0    7.0          0  \n",
              "ENSMUSG00000000753  -22.0    0.0   12.0   -8.0          2  \n",
              "ENSMUSG00000000743   -1.0   -5.0    0.0    2.0          0  \n",
              "ENSMUSG00000001924   32.0   77.0   23.0   36.0          1  \n",
              "ENSMUSG00000001555    6.0    2.0   13.0   -8.0          2  \n",
              "ENSMUSG00000001056    6.0   -1.0   11.0    8.0          2  \n",
              "ENSMUSG00000000805    0.0    0.0    0.0    0.0          0  \n",
              "ENSMUSG00000000732    0.0    0.0    0.0    0.0          0  \n",
              "ENSMUSG00000000673    0.0    0.0    0.0    0.0          0  \n",
              "ENSMUSG00000001098    9.0   -6.0    3.0   -1.0          2  \n",
              "ENSMUSG00000016382   28.0   48.0   19.0    7.0          1  \n",
              "ENSMUSG00000000489    0.0    0.0    0.0    0.0          0  \n",
              "ENSMUSG00000008682  173.0  165.0  149.0  158.0          1  \n",
              "ENSMUSG00000000184    6.0    8.0  -16.0  -14.0          0  \n",
              "ENSMUSG00000001131  478.0  443.0  172.0  203.0          1  \n",
              "ENSMUSG00000000339   -3.0    0.0   -1.0    0.0          2  \n",
              "ENSMUSG00000000088    0.0   -3.0   -1.0    1.0          0  \n",
              "ENSMUSG00000000959   -2.0    5.0   -2.0    1.0          2  \n",
              "\n",
              "[20 rows x 683 columns]"
            ],
            "text/html": [
              "\n",
              "  <div id=\"df-123aa162-f1c0-4752-9274-06750491b2e5\">\n",
              "    <div class=\"colab-df-container\">\n",
              "      <div>\n",
              "<style scoped>\n",
              "    .dataframe tbody tr th:only-of-type {\n",
              "        vertical-align: middle;\n",
              "    }\n",
              "\n",
              "    .dataframe tbody tr th {\n",
              "        vertical-align: top;\n",
              "    }\n",
              "\n",
              "    .dataframe thead th {\n",
              "        text-align: right;\n",
              "    }\n",
              "</style>\n",
              "<table border=\"1\" class=\"dataframe\">\n",
              "  <thead>\n",
              "    <tr style=\"text-align: right;\">\n",
              "      <th></th>\n",
              "      <th>0</th>\n",
              "      <th>1</th>\n",
              "      <th>2</th>\n",
              "      <th>3</th>\n",
              "      <th>4</th>\n",
              "      <th>5</th>\n",
              "      <th>6</th>\n",
              "      <th>7</th>\n",
              "      <th>8</th>\n",
              "      <th>9</th>\n",
              "      <th>...</th>\n",
              "      <th>673</th>\n",
              "      <th>674</th>\n",
              "      <th>675</th>\n",
              "      <th>676</th>\n",
              "      <th>677</th>\n",
              "      <th>678</th>\n",
              "      <th>679</th>\n",
              "      <th>680</th>\n",
              "      <th>681</th>\n",
              "      <th>fit_class</th>\n",
              "    </tr>\n",
              "  </thead>\n",
              "  <tbody>\n",
              "    <tr>\n",
              "      <th>ENSMUSG00000000563</th>\n",
              "      <td>1.0</td>\n",
              "      <td>-5.0</td>\n",
              "      <td>8.0</td>\n",
              "      <td>35.0</td>\n",
              "      <td>-15.0</td>\n",
              "      <td>-15.0</td>\n",
              "      <td>16.0</td>\n",
              "      <td>-14.0</td>\n",
              "      <td>4.0</td>\n",
              "      <td>-13.0</td>\n",
              "      <td>...</td>\n",
              "      <td>-6.0</td>\n",
              "      <td>-8.0</td>\n",
              "      <td>7.0</td>\n",
              "      <td>-3.0</td>\n",
              "      <td>-4.0</td>\n",
              "      <td>-11.0</td>\n",
              "      <td>-32.0</td>\n",
              "      <td>0.0</td>\n",
              "      <td>-3.0</td>\n",
              "      <td>0</td>\n",
              "    </tr>\n",
              "    <tr>\n",
              "      <th>ENSMUSG00000000120</th>\n",
              "      <td>0.0</td>\n",
              "      <td>0.0</td>\n",
              "      <td>0.0</td>\n",
              "      <td>0.0</td>\n",
              "      <td>0.0</td>\n",
              "      <td>0.0</td>\n",
              "      <td>0.0</td>\n",
              "      <td>0.0</td>\n",
              "      <td>0.0</td>\n",
              "      <td>0.0</td>\n",
              "      <td>...</td>\n",
              "      <td>0.0</td>\n",
              "      <td>0.0</td>\n",
              "      <td>0.0</td>\n",
              "      <td>0.0</td>\n",
              "      <td>0.0</td>\n",
              "      <td>0.0</td>\n",
              "      <td>0.0</td>\n",
              "      <td>0.0</td>\n",
              "      <td>0.0</td>\n",
              "      <td>0</td>\n",
              "    </tr>\n",
              "    <tr>\n",
              "      <th>ENSMUSG00000000378</th>\n",
              "      <td>0.0</td>\n",
              "      <td>5.0</td>\n",
              "      <td>-1.0</td>\n",
              "      <td>-3.0</td>\n",
              "      <td>1.0</td>\n",
              "      <td>-6.0</td>\n",
              "      <td>1.0</td>\n",
              "      <td>4.0</td>\n",
              "      <td>9.0</td>\n",
              "      <td>0.0</td>\n",
              "      <td>...</td>\n",
              "      <td>2.0</td>\n",
              "      <td>2.0</td>\n",
              "      <td>1.0</td>\n",
              "      <td>3.0</td>\n",
              "      <td>-2.0</td>\n",
              "      <td>-1.0</td>\n",
              "      <td>-1.0</td>\n",
              "      <td>-1.0</td>\n",
              "      <td>7.0</td>\n",
              "      <td>0</td>\n",
              "    </tr>\n",
              "    <tr>\n",
              "      <th>ENSMUSG00000000753</th>\n",
              "      <td>16.0</td>\n",
              "      <td>59.0</td>\n",
              "      <td>72.0</td>\n",
              "      <td>55.0</td>\n",
              "      <td>6.0</td>\n",
              "      <td>-17.0</td>\n",
              "      <td>23.0</td>\n",
              "      <td>12.0</td>\n",
              "      <td>49.0</td>\n",
              "      <td>-7.0</td>\n",
              "      <td>...</td>\n",
              "      <td>6.0</td>\n",
              "      <td>3.0</td>\n",
              "      <td>-27.0</td>\n",
              "      <td>5.0</td>\n",
              "      <td>0.0</td>\n",
              "      <td>-22.0</td>\n",
              "      <td>0.0</td>\n",
              "      <td>12.0</td>\n",
              "      <td>-8.0</td>\n",
              "      <td>2</td>\n",
              "    </tr>\n",
              "    <tr>\n",
              "      <th>ENSMUSG00000000743</th>\n",
              "      <td>-1.0</td>\n",
              "      <td>-12.0</td>\n",
              "      <td>8.0</td>\n",
              "      <td>5.0</td>\n",
              "      <td>-13.0</td>\n",
              "      <td>6.0</td>\n",
              "      <td>-4.0</td>\n",
              "      <td>-4.0</td>\n",
              "      <td>3.0</td>\n",
              "      <td>7.0</td>\n",
              "      <td>...</td>\n",
              "      <td>-2.0</td>\n",
              "      <td>5.0</td>\n",
              "      <td>0.0</td>\n",
              "      <td>1.0</td>\n",
              "      <td>4.0</td>\n",
              "      <td>-1.0</td>\n",
              "      <td>-5.0</td>\n",
              "      <td>0.0</td>\n",
              "      <td>2.0</td>\n",
              "      <td>0</td>\n",
              "    </tr>\n",
              "    <tr>\n",
              "      <th>ENSMUSG00000001924</th>\n",
              "      <td>32.0</td>\n",
              "      <td>37.0</td>\n",
              "      <td>73.0</td>\n",
              "      <td>64.0</td>\n",
              "      <td>79.0</td>\n",
              "      <td>47.0</td>\n",
              "      <td>93.0</td>\n",
              "      <td>59.0</td>\n",
              "      <td>64.0</td>\n",
              "      <td>61.0</td>\n",
              "      <td>...</td>\n",
              "      <td>23.0</td>\n",
              "      <td>27.0</td>\n",
              "      <td>51.0</td>\n",
              "      <td>35.0</td>\n",
              "      <td>36.0</td>\n",
              "      <td>32.0</td>\n",
              "      <td>77.0</td>\n",
              "      <td>23.0</td>\n",
              "      <td>36.0</td>\n",
              "      <td>1</td>\n",
              "    </tr>\n",
              "    <tr>\n",
              "      <th>ENSMUSG00000001555</th>\n",
              "      <td>18.0</td>\n",
              "      <td>-1.0</td>\n",
              "      <td>16.0</td>\n",
              "      <td>28.0</td>\n",
              "      <td>7.0</td>\n",
              "      <td>2.0</td>\n",
              "      <td>10.0</td>\n",
              "      <td>-5.0</td>\n",
              "      <td>12.0</td>\n",
              "      <td>-25.0</td>\n",
              "      <td>...</td>\n",
              "      <td>0.0</td>\n",
              "      <td>-3.0</td>\n",
              "      <td>26.0</td>\n",
              "      <td>-14.0</td>\n",
              "      <td>11.0</td>\n",
              "      <td>6.0</td>\n",
              "      <td>2.0</td>\n",
              "      <td>13.0</td>\n",
              "      <td>-8.0</td>\n",
              "      <td>2</td>\n",
              "    </tr>\n",
              "    <tr>\n",
              "      <th>ENSMUSG00000001056</th>\n",
              "      <td>-9.0</td>\n",
              "      <td>0.0</td>\n",
              "      <td>-1.0</td>\n",
              "      <td>10.0</td>\n",
              "      <td>10.0</td>\n",
              "      <td>2.0</td>\n",
              "      <td>-24.0</td>\n",
              "      <td>10.0</td>\n",
              "      <td>0.0</td>\n",
              "      <td>-1.0</td>\n",
              "      <td>...</td>\n",
              "      <td>1.0</td>\n",
              "      <td>-4.0</td>\n",
              "      <td>-32.0</td>\n",
              "      <td>-1.0</td>\n",
              "      <td>0.0</td>\n",
              "      <td>6.0</td>\n",
              "      <td>-1.0</td>\n",
              "      <td>11.0</td>\n",
              "      <td>8.0</td>\n",
              "      <td>2</td>\n",
              "    </tr>\n",
              "    <tr>\n",
              "      <th>ENSMUSG00000000805</th>\n",
              "      <td>0.0</td>\n",
              "      <td>0.0</td>\n",
              "      <td>0.0</td>\n",
              "      <td>0.0</td>\n",
              "      <td>0.0</td>\n",
              "      <td>0.0</td>\n",
              "      <td>0.0</td>\n",
              "      <td>0.0</td>\n",
              "      <td>0.0</td>\n",
              "      <td>0.0</td>\n",
              "      <td>...</td>\n",
              "      <td>0.0</td>\n",
              "      <td>0.0</td>\n",
              "      <td>0.0</td>\n",
              "      <td>0.0</td>\n",
              "      <td>0.0</td>\n",
              "      <td>0.0</td>\n",
              "      <td>0.0</td>\n",
              "      <td>0.0</td>\n",
              "      <td>0.0</td>\n",
              "      <td>0</td>\n",
              "    </tr>\n",
              "    <tr>\n",
              "      <th>ENSMUSG00000000732</th>\n",
              "      <td>0.0</td>\n",
              "      <td>0.0</td>\n",
              "      <td>0.0</td>\n",
              "      <td>-1.0</td>\n",
              "      <td>0.0</td>\n",
              "      <td>0.0</td>\n",
              "      <td>0.0</td>\n",
              "      <td>0.0</td>\n",
              "      <td>0.0</td>\n",
              "      <td>0.0</td>\n",
              "      <td>...</td>\n",
              "      <td>0.0</td>\n",
              "      <td>0.0</td>\n",
              "      <td>0.0</td>\n",
              "      <td>0.0</td>\n",
              "      <td>-1.0</td>\n",
              "      <td>0.0</td>\n",
              "      <td>0.0</td>\n",
              "      <td>0.0</td>\n",
              "      <td>0.0</td>\n",
              "      <td>0</td>\n",
              "    </tr>\n",
              "    <tr>\n",
              "      <th>ENSMUSG00000000673</th>\n",
              "      <td>0.0</td>\n",
              "      <td>0.0</td>\n",
              "      <td>0.0</td>\n",
              "      <td>0.0</td>\n",
              "      <td>0.0</td>\n",
              "      <td>0.0</td>\n",
              "      <td>0.0</td>\n",
              "      <td>0.0</td>\n",
              "      <td>0.0</td>\n",
              "      <td>0.0</td>\n",
              "      <td>...</td>\n",
              "      <td>0.0</td>\n",
              "      <td>0.0</td>\n",
              "      <td>0.0</td>\n",
              "      <td>0.0</td>\n",
              "      <td>0.0</td>\n",
              "      <td>0.0</td>\n",
              "      <td>0.0</td>\n",
              "      <td>0.0</td>\n",
              "      <td>0.0</td>\n",
              "      <td>0</td>\n",
              "    </tr>\n",
              "    <tr>\n",
              "      <th>ENSMUSG00000001098</th>\n",
              "      <td>13.0</td>\n",
              "      <td>0.0</td>\n",
              "      <td>11.0</td>\n",
              "      <td>8.0</td>\n",
              "      <td>-1.0</td>\n",
              "      <td>4.0</td>\n",
              "      <td>-8.0</td>\n",
              "      <td>3.0</td>\n",
              "      <td>1.0</td>\n",
              "      <td>0.0</td>\n",
              "      <td>...</td>\n",
              "      <td>9.0</td>\n",
              "      <td>1.0</td>\n",
              "      <td>-9.0</td>\n",
              "      <td>-2.0</td>\n",
              "      <td>8.0</td>\n",
              "      <td>9.0</td>\n",
              "      <td>-6.0</td>\n",
              "      <td>3.0</td>\n",
              "      <td>-1.0</td>\n",
              "      <td>2</td>\n",
              "    </tr>\n",
              "    <tr>\n",
              "      <th>ENSMUSG00000016382</th>\n",
              "      <td>7.0</td>\n",
              "      <td>33.0</td>\n",
              "      <td>24.0</td>\n",
              "      <td>23.0</td>\n",
              "      <td>40.0</td>\n",
              "      <td>18.0</td>\n",
              "      <td>17.0</td>\n",
              "      <td>16.0</td>\n",
              "      <td>50.0</td>\n",
              "      <td>17.0</td>\n",
              "      <td>...</td>\n",
              "      <td>20.0</td>\n",
              "      <td>24.0</td>\n",
              "      <td>44.0</td>\n",
              "      <td>28.0</td>\n",
              "      <td>30.0</td>\n",
              "      <td>28.0</td>\n",
              "      <td>48.0</td>\n",
              "      <td>19.0</td>\n",
              "      <td>7.0</td>\n",
              "      <td>1</td>\n",
              "    </tr>\n",
              "    <tr>\n",
              "      <th>ENSMUSG00000000489</th>\n",
              "      <td>0.0</td>\n",
              "      <td>0.0</td>\n",
              "      <td>0.0</td>\n",
              "      <td>0.0</td>\n",
              "      <td>0.0</td>\n",
              "      <td>0.0</td>\n",
              "      <td>0.0</td>\n",
              "      <td>0.0</td>\n",
              "      <td>0.0</td>\n",
              "      <td>0.0</td>\n",
              "      <td>...</td>\n",
              "      <td>0.0</td>\n",
              "      <td>0.0</td>\n",
              "      <td>0.0</td>\n",
              "      <td>0.0</td>\n",
              "      <td>0.0</td>\n",
              "      <td>0.0</td>\n",
              "      <td>0.0</td>\n",
              "      <td>0.0</td>\n",
              "      <td>0.0</td>\n",
              "      <td>0</td>\n",
              "    </tr>\n",
              "    <tr>\n",
              "      <th>ENSMUSG00000008682</th>\n",
              "      <td>244.0</td>\n",
              "      <td>384.0</td>\n",
              "      <td>265.0</td>\n",
              "      <td>327.0</td>\n",
              "      <td>390.0</td>\n",
              "      <td>369.0</td>\n",
              "      <td>558.0</td>\n",
              "      <td>241.0</td>\n",
              "      <td>344.0</td>\n",
              "      <td>302.0</td>\n",
              "      <td>...</td>\n",
              "      <td>216.0</td>\n",
              "      <td>168.0</td>\n",
              "      <td>195.0</td>\n",
              "      <td>191.0</td>\n",
              "      <td>173.0</td>\n",
              "      <td>173.0</td>\n",
              "      <td>165.0</td>\n",
              "      <td>149.0</td>\n",
              "      <td>158.0</td>\n",
              "      <td>1</td>\n",
              "    </tr>\n",
              "    <tr>\n",
              "      <th>ENSMUSG00000000184</th>\n",
              "      <td>-35.0</td>\n",
              "      <td>16.0</td>\n",
              "      <td>-40.0</td>\n",
              "      <td>13.0</td>\n",
              "      <td>63.0</td>\n",
              "      <td>-62.0</td>\n",
              "      <td>60.0</td>\n",
              "      <td>28.0</td>\n",
              "      <td>-26.0</td>\n",
              "      <td>-6.0</td>\n",
              "      <td>...</td>\n",
              "      <td>2.0</td>\n",
              "      <td>13.0</td>\n",
              "      <td>14.0</td>\n",
              "      <td>-6.0</td>\n",
              "      <td>8.0</td>\n",
              "      <td>6.0</td>\n",
              "      <td>8.0</td>\n",
              "      <td>-16.0</td>\n",
              "      <td>-14.0</td>\n",
              "      <td>0</td>\n",
              "    </tr>\n",
              "    <tr>\n",
              "      <th>ENSMUSG00000001131</th>\n",
              "      <td>82.0</td>\n",
              "      <td>427.0</td>\n",
              "      <td>317.0</td>\n",
              "      <td>459.0</td>\n",
              "      <td>541.0</td>\n",
              "      <td>168.0</td>\n",
              "      <td>485.0</td>\n",
              "      <td>105.0</td>\n",
              "      <td>444.0</td>\n",
              "      <td>154.0</td>\n",
              "      <td>...</td>\n",
              "      <td>135.0</td>\n",
              "      <td>162.0</td>\n",
              "      <td>517.0</td>\n",
              "      <td>158.0</td>\n",
              "      <td>192.0</td>\n",
              "      <td>478.0</td>\n",
              "      <td>443.0</td>\n",
              "      <td>172.0</td>\n",
              "      <td>203.0</td>\n",
              "      <td>1</td>\n",
              "    </tr>\n",
              "    <tr>\n",
              "      <th>ENSMUSG00000000339</th>\n",
              "      <td>3.0</td>\n",
              "      <td>2.0</td>\n",
              "      <td>-1.0</td>\n",
              "      <td>4.0</td>\n",
              "      <td>3.0</td>\n",
              "      <td>-1.0</td>\n",
              "      <td>6.0</td>\n",
              "      <td>0.0</td>\n",
              "      <td>0.0</td>\n",
              "      <td>-6.0</td>\n",
              "      <td>...</td>\n",
              "      <td>0.0</td>\n",
              "      <td>-4.0</td>\n",
              "      <td>2.0</td>\n",
              "      <td>1.0</td>\n",
              "      <td>3.0</td>\n",
              "      <td>-3.0</td>\n",
              "      <td>0.0</td>\n",
              "      <td>-1.0</td>\n",
              "      <td>0.0</td>\n",
              "      <td>2</td>\n",
              "    </tr>\n",
              "    <tr>\n",
              "      <th>ENSMUSG00000000088</th>\n",
              "      <td>6.0</td>\n",
              "      <td>8.0</td>\n",
              "      <td>7.0</td>\n",
              "      <td>6.0</td>\n",
              "      <td>-6.0</td>\n",
              "      <td>20.0</td>\n",
              "      <td>16.0</td>\n",
              "      <td>-7.0</td>\n",
              "      <td>21.0</td>\n",
              "      <td>-13.0</td>\n",
              "      <td>...</td>\n",
              "      <td>0.0</td>\n",
              "      <td>-5.0</td>\n",
              "      <td>-2.0</td>\n",
              "      <td>0.0</td>\n",
              "      <td>0.0</td>\n",
              "      <td>0.0</td>\n",
              "      <td>-3.0</td>\n",
              "      <td>-1.0</td>\n",
              "      <td>1.0</td>\n",
              "      <td>0</td>\n",
              "    </tr>\n",
              "    <tr>\n",
              "      <th>ENSMUSG00000000959</th>\n",
              "      <td>-5.0</td>\n",
              "      <td>1.0</td>\n",
              "      <td>-1.0</td>\n",
              "      <td>1.0</td>\n",
              "      <td>6.0</td>\n",
              "      <td>2.0</td>\n",
              "      <td>-4.0</td>\n",
              "      <td>0.0</td>\n",
              "      <td>-1.0</td>\n",
              "      <td>-5.0</td>\n",
              "      <td>...</td>\n",
              "      <td>1.0</td>\n",
              "      <td>-2.0</td>\n",
              "      <td>2.0</td>\n",
              "      <td>2.0</td>\n",
              "      <td>4.0</td>\n",
              "      <td>-2.0</td>\n",
              "      <td>5.0</td>\n",
              "      <td>-2.0</td>\n",
              "      <td>1.0</td>\n",
              "      <td>2</td>\n",
              "    </tr>\n",
              "  </tbody>\n",
              "</table>\n",
              "<p>20 rows × 683 columns</p>\n",
              "</div>\n",
              "      <button class=\"colab-df-convert\" onclick=\"convertToInteractive('df-123aa162-f1c0-4752-9274-06750491b2e5')\"\n",
              "              title=\"Convert this dataframe to an interactive table.\"\n",
              "              style=\"display:none;\">\n",
              "        \n",
              "  <svg xmlns=\"http://www.w3.org/2000/svg\" height=\"24px\"viewBox=\"0 0 24 24\"\n",
              "       width=\"24px\">\n",
              "    <path d=\"M0 0h24v24H0V0z\" fill=\"none\"/>\n",
              "    <path d=\"M18.56 5.44l.94 2.06.94-2.06 2.06-.94-2.06-.94-.94-2.06-.94 2.06-2.06.94zm-11 1L8.5 8.5l.94-2.06 2.06-.94-2.06-.94L8.5 2.5l-.94 2.06-2.06.94zm10 10l.94 2.06.94-2.06 2.06-.94-2.06-.94-.94-2.06-.94 2.06-2.06.94z\"/><path d=\"M17.41 7.96l-1.37-1.37c-.4-.4-.92-.59-1.43-.59-.52 0-1.04.2-1.43.59L10.3 9.45l-7.72 7.72c-.78.78-.78 2.05 0 2.83L4 21.41c.39.39.9.59 1.41.59.51 0 1.02-.2 1.41-.59l7.78-7.78 2.81-2.81c.8-.78.8-2.07 0-2.86zM5.41 20L4 18.59l7.72-7.72 1.47 1.35L5.41 20z\"/>\n",
              "  </svg>\n",
              "      </button>\n",
              "      \n",
              "  <style>\n",
              "    .colab-df-container {\n",
              "      display:flex;\n",
              "      flex-wrap:wrap;\n",
              "      gap: 12px;\n",
              "    }\n",
              "\n",
              "    .colab-df-convert {\n",
              "      background-color: #E8F0FE;\n",
              "      border: none;\n",
              "      border-radius: 50%;\n",
              "      cursor: pointer;\n",
              "      display: none;\n",
              "      fill: #1967D2;\n",
              "      height: 32px;\n",
              "      padding: 0 0 0 0;\n",
              "      width: 32px;\n",
              "    }\n",
              "\n",
              "    .colab-df-convert:hover {\n",
              "      background-color: #E2EBFA;\n",
              "      box-shadow: 0px 1px 2px rgba(60, 64, 67, 0.3), 0px 1px 3px 1px rgba(60, 64, 67, 0.15);\n",
              "      fill: #174EA6;\n",
              "    }\n",
              "\n",
              "    [theme=dark] .colab-df-convert {\n",
              "      background-color: #3B4455;\n",
              "      fill: #D2E3FC;\n",
              "    }\n",
              "\n",
              "    [theme=dark] .colab-df-convert:hover {\n",
              "      background-color: #434B5C;\n",
              "      box-shadow: 0px 1px 3px 1px rgba(0, 0, 0, 0.15);\n",
              "      filter: drop-shadow(0px 1px 2px rgba(0, 0, 0, 0.3));\n",
              "      fill: #FFFFFF;\n",
              "    }\n",
              "  </style>\n",
              "\n",
              "      <script>\n",
              "        const buttonEl =\n",
              "          document.querySelector('#df-123aa162-f1c0-4752-9274-06750491b2e5 button.colab-df-convert');\n",
              "        buttonEl.style.display =\n",
              "          google.colab.kernel.accessAllowed ? 'block' : 'none';\n",
              "\n",
              "        async function convertToInteractive(key) {\n",
              "          const element = document.querySelector('#df-123aa162-f1c0-4752-9274-06750491b2e5');\n",
              "          const dataTable =\n",
              "            await google.colab.kernel.invokeFunction('convertToInteractive',\n",
              "                                                     [key], {});\n",
              "          if (!dataTable) return;\n",
              "\n",
              "          const docLinkHtml = 'Like what you see? Visit the ' +\n",
              "            '<a target=\"_blank\" href=https://colab.research.google.com/notebooks/data_table.ipynb>data table notebook</a>'\n",
              "            + ' to learn more about interactive tables.';\n",
              "          element.innerHTML = '';\n",
              "          dataTable['output_type'] = 'display_data';\n",
              "          await google.colab.output.renderOutput(dataTable, element);\n",
              "          const docLink = document.createElement('div');\n",
              "          docLink.innerHTML = docLinkHtml;\n",
              "          element.appendChild(docLink);\n",
              "        }\n",
              "      </script>\n",
              "    </div>\n",
              "  </div>\n",
              "  "
            ]
          },
          "metadata": {},
          "execution_count": 27
        }
      ]
    },
    {
      "cell_type": "code",
      "source": [
        "y_test = test_dataset.iloc[:,-1]\n",
        "X_test = test_dataset.iloc[:,:-1]\n",
        "X_test.shape, y_test.shape"
      ],
      "metadata": {
        "colab": {
          "base_uri": "https://localhost:8080/"
        },
        "id": "KQPqfOUn7RH8",
        "outputId": "608a598f-64e7-4b1c-fd17-60a33ec3428f"
      },
      "execution_count": 28,
      "outputs": [
        {
          "output_type": "execute_result",
          "data": {
            "text/plain": [
              "((40, 682), (40,))"
            ]
          },
          "metadata": {},
          "execution_count": 28
        }
      ]
    },
    {
      "cell_type": "code",
      "source": [
        "test_features = scaler.transform(np.array(X_test))\n",
        "test_features = np.clip(test_features, -5, 5)\n",
        "test_labels = np.array(y_test)"
      ],
      "metadata": {
        "id": "5on_vz9HDhEx"
      },
      "execution_count": 29,
      "outputs": []
    },
    {
      "cell_type": "code",
      "source": [
        "model.evaluate(x=test_features, y=test_labels)"
      ],
      "metadata": {
        "colab": {
          "base_uri": "https://localhost:8080/"
        },
        "id": "qa5piRc2-tuj",
        "outputId": "e9db901c-4505-4f3e-bebe-6486688ef84c"
      },
      "execution_count": 30,
      "outputs": [
        {
          "output_type": "stream",
          "name": "stdout",
          "text": [
            "2/2 [==============================] - 0s 14ms/step - loss: 0.9262 - sparse_categorical_accuracy: 0.5750\n"
          ]
        },
        {
          "output_type": "execute_result",
          "data": {
            "text/plain": [
              "[0.9262251853942871, 0.574999988079071]"
            ]
          },
          "metadata": {},
          "execution_count": 30
        }
      ]
    },
    {
      "cell_type": "code",
      "source": [
        ""
      ],
      "metadata": {
        "id": "UDqy7Zhg_Pk0"
      },
      "execution_count": 30,
      "outputs": []
    },
    {
      "cell_type": "code",
      "source": [
        ""
      ],
      "metadata": {
        "id": "zjvQHb2W_Vj2"
      },
      "execution_count": 30,
      "outputs": []
    }
  ]
}