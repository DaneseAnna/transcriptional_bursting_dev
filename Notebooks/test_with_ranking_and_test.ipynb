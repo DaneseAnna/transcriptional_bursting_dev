{
 "cells": [
  {
   "cell_type": "code",
   "execution_count": 1,
   "id": "fb3a431c",
   "metadata": {},
   "outputs": [],
   "source": [
    "import scanpy as sc\n",
    "import pandas as pd\n",
    "import numpy as np\n",
    "import anndata as ad\n",
    "import scvelo as scv\n",
    "import scipy as sp\n",
    "from scipy import special\n",
    "from scipy.stats import poisson,norm\n",
    "from scipy.special import j_roots\n",
    "from scipy.special import beta as beta_fun \n",
    "import matplotlib.pyplot as plt\n",
    "from matplotlib.pyplot import rc_context\n",
    "import seaborn as sns\n",
    "\n",
    "import test.utils as test"
   ]
  },
  {
   "cell_type": "code",
   "execution_count": 2,
   "id": "1620dc5b",
   "metadata": {},
   "outputs": [
    {
     "name": "stdout",
     "output_type": "stream",
     "text": [
      "scanpy==1.7.2 anndata==0.8.0 umap==0.4.1 numpy==1.19.5 scipy==1.8.0 pandas==1.4.1 scikit-learn==1.0.2 statsmodels==0.13.2 python-igraph==0.9.9\n"
     ]
    }
   ],
   "source": [
    "scv.set_figure_params(dpi=100, color_map = 'viridis_r')\n",
    "scv.settings.verbosity = 1\n",
    "sc.logging.print_header()"
   ]
  },
  {
   "cell_type": "code",
   "execution_count": 3,
   "id": "b6659de4",
   "metadata": {},
   "outputs": [],
   "source": [
    "# read UMI counts and params for c57 and cast viariants\n",
    "UMI_c57 = pd.read_csv('data_arme/F1_ref/umiSplit_c57.qc.csv', index_col=0)\n",
    "UMI_cast = pd.read_csv('data_arme/F1_ref/umiSplit_cast.qc.csv', index_col=0)"
   ]
  },
  {
   "cell_type": "code",
   "execution_count": 4,
   "id": "0918a4a5",
   "metadata": {},
   "outputs": [],
   "source": [
    "UMI = UMI_c57 + UMI_cast"
   ]
  },
  {
   "cell_type": "code",
   "execution_count": 5,
   "id": "b747d1f9",
   "metadata": {},
   "outputs": [],
   "source": [
    "# transpose to ge n_cells x n_genes shape\n",
    "UMI_c57_T = UMI_c57.transpose(copy=True)\n",
    "UMI_cast_T = UMI_cast.transpose(copy=True)\n",
    "UMI_T = UMI.transpose(copy=True)"
   ]
  },
  {
   "cell_type": "code",
   "execution_count": 6,
   "id": "1d631ada",
   "metadata": {},
   "outputs": [
    {
     "data": {
      "text/plain": [
       "AnnData object with n_obs × n_vars = 682 × 23270\n",
       "    layers: 'spliced', 'unspliced'"
      ]
     },
     "execution_count": 6,
     "metadata": {},
     "output_type": "execute_result"
    }
   ],
   "source": [
    "adata = ad.AnnData(UMI_T)\n",
    "adata.layers['spliced'] = UMI_c57_T\n",
    "adata.layers['unspliced'] = UMI_cast_T\n",
    "adata"
   ]
  },
  {
   "cell_type": "code",
   "execution_count": 7,
   "id": "2b0d8105",
   "metadata": {},
   "outputs": [
    {
     "data": {
      "text/html": [
       "<div>\n",
       "<style scoped>\n",
       "    .dataframe tbody tr th:only-of-type {\n",
       "        vertical-align: middle;\n",
       "    }\n",
       "\n",
       "    .dataframe tbody tr th {\n",
       "        vertical-align: top;\n",
       "    }\n",
       "\n",
       "    .dataframe thead th {\n",
       "        text-align: right;\n",
       "    }\n",
       "</style>\n",
       "<table border=\"1\" class=\"dataframe\">\n",
       "  <thead>\n",
       "    <tr style=\"text-align: right;\">\n",
       "      <th></th>\n",
       "      <th>index</th>\n",
       "      <th>chr</th>\n",
       "      <th>database</th>\n",
       "      <th>type</th>\n",
       "      <th>start</th>\n",
       "      <th>end</th>\n",
       "      <th>.</th>\n",
       "      <th>strand</th>\n",
       "      <th>.</th>\n",
       "      <th>other</th>\n",
       "    </tr>\n",
       "  </thead>\n",
       "  <tbody>\n",
       "    <tr>\n",
       "      <th>0</th>\n",
       "      <td>0</td>\n",
       "      <td>1</td>\n",
       "      <td>havana</td>\n",
       "      <td>gene</td>\n",
       "      <td>3073253</td>\n",
       "      <td>3074322</td>\n",
       "      <td>.</td>\n",
       "      <td>+</td>\n",
       "      <td>.</td>\n",
       "      <td>gene_id \"ENSMUSG00000102693\"; gene_version \"1\"...</td>\n",
       "    </tr>\n",
       "    <tr>\n",
       "      <th>1</th>\n",
       "      <td>3</td>\n",
       "      <td>1</td>\n",
       "      <td>ensembl</td>\n",
       "      <td>gene</td>\n",
       "      <td>3102016</td>\n",
       "      <td>3102125</td>\n",
       "      <td>.</td>\n",
       "      <td>+</td>\n",
       "      <td>.</td>\n",
       "      <td>gene_id \"ENSMUSG00000064842\"; gene_version \"1\"...</td>\n",
       "    </tr>\n",
       "    <tr>\n",
       "      <th>2</th>\n",
       "      <td>6</td>\n",
       "      <td>1</td>\n",
       "      <td>ensembl_havana</td>\n",
       "      <td>gene</td>\n",
       "      <td>3205901</td>\n",
       "      <td>3671498</td>\n",
       "      <td>.</td>\n",
       "      <td>-</td>\n",
       "      <td>.</td>\n",
       "      <td>gene_id \"ENSMUSG00000051951\"; gene_version \"5\"...</td>\n",
       "    </tr>\n",
       "    <tr>\n",
       "      <th>3</th>\n",
       "      <td>24</td>\n",
       "      <td>1</td>\n",
       "      <td>havana</td>\n",
       "      <td>gene</td>\n",
       "      <td>3252757</td>\n",
       "      <td>3253236</td>\n",
       "      <td>.</td>\n",
       "      <td>+</td>\n",
       "      <td>.</td>\n",
       "      <td>gene_id \"ENSMUSG00000102851\"; gene_version \"1\"...</td>\n",
       "    </tr>\n",
       "    <tr>\n",
       "      <th>4</th>\n",
       "      <td>27</td>\n",
       "      <td>1</td>\n",
       "      <td>havana</td>\n",
       "      <td>gene</td>\n",
       "      <td>3365731</td>\n",
       "      <td>3368549</td>\n",
       "      <td>.</td>\n",
       "      <td>-</td>\n",
       "      <td>.</td>\n",
       "      <td>gene_id \"ENSMUSG00000103377\"; gene_version \"1\"...</td>\n",
       "    </tr>\n",
       "    <tr>\n",
       "      <th>...</th>\n",
       "      <td>...</td>\n",
       "      <td>...</td>\n",
       "      <td>...</td>\n",
       "      <td>...</td>\n",
       "      <td>...</td>\n",
       "      <td>...</td>\n",
       "      <td>...</td>\n",
       "      <td>...</td>\n",
       "      <td>...</td>\n",
       "      <td>...</td>\n",
       "    </tr>\n",
       "    <tr>\n",
       "      <th>55396</th>\n",
       "      <td>1868643</td>\n",
       "      <td>MT</td>\n",
       "      <td>insdc</td>\n",
       "      <td>gene</td>\n",
       "      <td>13552</td>\n",
       "      <td>14070</td>\n",
       "      <td>.</td>\n",
       "      <td>-</td>\n",
       "      <td>.</td>\n",
       "      <td>gene_id \"ENSMUSG00000064368\"; gene_version \"1\"...</td>\n",
       "    </tr>\n",
       "    <tr>\n",
       "      <th>55397</th>\n",
       "      <td>1868649</td>\n",
       "      <td>MT</td>\n",
       "      <td>insdc</td>\n",
       "      <td>gene</td>\n",
       "      <td>14071</td>\n",
       "      <td>14139</td>\n",
       "      <td>.</td>\n",
       "      <td>-</td>\n",
       "      <td>.</td>\n",
       "      <td>gene_id \"ENSMUSG00000064369\"; gene_version \"1\"...</td>\n",
       "    </tr>\n",
       "    <tr>\n",
       "      <th>55398</th>\n",
       "      <td>1868652</td>\n",
       "      <td>MT</td>\n",
       "      <td>insdc</td>\n",
       "      <td>gene</td>\n",
       "      <td>14145</td>\n",
       "      <td>15288</td>\n",
       "      <td>.</td>\n",
       "      <td>+</td>\n",
       "      <td>.</td>\n",
       "      <td>gene_id \"ENSMUSG00000064370\"; gene_version \"1\"...</td>\n",
       "    </tr>\n",
       "    <tr>\n",
       "      <th>55399</th>\n",
       "      <td>1868657</td>\n",
       "      <td>MT</td>\n",
       "      <td>insdc</td>\n",
       "      <td>gene</td>\n",
       "      <td>15289</td>\n",
       "      <td>15355</td>\n",
       "      <td>.</td>\n",
       "      <td>+</td>\n",
       "      <td>.</td>\n",
       "      <td>gene_id \"ENSMUSG00000064371\"; gene_version \"1\"...</td>\n",
       "    </tr>\n",
       "    <tr>\n",
       "      <th>55400</th>\n",
       "      <td>1868660</td>\n",
       "      <td>MT</td>\n",
       "      <td>insdc</td>\n",
       "      <td>gene</td>\n",
       "      <td>15356</td>\n",
       "      <td>15422</td>\n",
       "      <td>.</td>\n",
       "      <td>-</td>\n",
       "      <td>.</td>\n",
       "      <td>gene_id \"ENSMUSG00000064372\"; gene_version \"1\"...</td>\n",
       "    </tr>\n",
       "  </tbody>\n",
       "</table>\n",
       "<p>55401 rows × 10 columns</p>\n",
       "</div>"
      ],
      "text/plain": [
       "         index chr        database  type    start      end  . strand  .  \\\n",
       "0            0   1          havana  gene  3073253  3074322  .      +  .   \n",
       "1            3   1         ensembl  gene  3102016  3102125  .      +  .   \n",
       "2            6   1  ensembl_havana  gene  3205901  3671498  .      -  .   \n",
       "3           24   1          havana  gene  3252757  3253236  .      +  .   \n",
       "4           27   1          havana  gene  3365731  3368549  .      -  .   \n",
       "...        ...  ..             ...   ...      ...      ... ..    ... ..   \n",
       "55396  1868643  MT           insdc  gene    13552    14070  .      -  .   \n",
       "55397  1868649  MT           insdc  gene    14071    14139  .      -  .   \n",
       "55398  1868652  MT           insdc  gene    14145    15288  .      +  .   \n",
       "55399  1868657  MT           insdc  gene    15289    15355  .      +  .   \n",
       "55400  1868660  MT           insdc  gene    15356    15422  .      -  .   \n",
       "\n",
       "                                                   other  \n",
       "0      gene_id \"ENSMUSG00000102693\"; gene_version \"1\"...  \n",
       "1      gene_id \"ENSMUSG00000064842\"; gene_version \"1\"...  \n",
       "2      gene_id \"ENSMUSG00000051951\"; gene_version \"5\"...  \n",
       "3      gene_id \"ENSMUSG00000102851\"; gene_version \"1\"...  \n",
       "4      gene_id \"ENSMUSG00000103377\"; gene_version \"1\"...  \n",
       "...                                                  ...  \n",
       "55396  gene_id \"ENSMUSG00000064368\"; gene_version \"1\"...  \n",
       "55397  gene_id \"ENSMUSG00000064369\"; gene_version \"1\"...  \n",
       "55398  gene_id \"ENSMUSG00000064370\"; gene_version \"1\"...  \n",
       "55399  gene_id \"ENSMUSG00000064371\"; gene_version \"1\"...  \n",
       "55400  gene_id \"ENSMUSG00000064372\"; gene_version \"1\"...  \n",
       "\n",
       "[55401 rows x 10 columns]"
      ]
     },
     "execution_count": 7,
     "metadata": {},
     "output_type": "execute_result"
    }
   ],
   "source": [
    "gtf = pd.read_csv(\"data/Mus_musculus.GRCm38.102.chr.gtf\", sep='\\t', skiprows=5, header=None)\n",
    "gtf.columns = ['chr', 'database', 'type', 'start', 'end', '.', 'strand', '.', 'other']\n",
    "gtf = gtf[gtf['type'] == \"gene\"]\n",
    "gtf = gtf.reset_index()\n",
    "gtf"
   ]
  },
  {
   "cell_type": "code",
   "execution_count": 8,
   "id": "c6bd29e3",
   "metadata": {},
   "outputs": [],
   "source": [
    "dic_gene_names = {}\n",
    "index = 0\n",
    "for line in gtf['other'].tolist():\n",
    "    line = line.split(';')\n",
    "    dic_gene_names[line[0][9:-1]]= [gtf['chr'][index], line[2][12:-1]]\n",
    "    index += 1"
   ]
  },
  {
   "cell_type": "code",
   "execution_count": 9,
   "id": "5aadebca",
   "metadata": {},
   "outputs": [
    {
     "data": {
      "text/html": [
       "<div>\n",
       "<style scoped>\n",
       "    .dataframe tbody tr th:only-of-type {\n",
       "        vertical-align: middle;\n",
       "    }\n",
       "\n",
       "    .dataframe tbody tr th {\n",
       "        vertical-align: top;\n",
       "    }\n",
       "\n",
       "    .dataframe thead th {\n",
       "        text-align: right;\n",
       "    }\n",
       "</style>\n",
       "<table border=\"1\" class=\"dataframe\">\n",
       "  <thead>\n",
       "    <tr style=\"text-align: right;\">\n",
       "      <th></th>\n",
       "      <th>gene_name</th>\n",
       "      <th>chromosome</th>\n",
       "    </tr>\n",
       "  </thead>\n",
       "  <tbody>\n",
       "    <tr>\n",
       "      <th>ENSMUSG00000000001</th>\n",
       "      <td>Gnai3</td>\n",
       "      <td>3</td>\n",
       "    </tr>\n",
       "    <tr>\n",
       "      <th>ENSMUSG00000000028</th>\n",
       "      <td>Cdc45</td>\n",
       "      <td>16</td>\n",
       "    </tr>\n",
       "    <tr>\n",
       "      <th>ENSMUSG00000000037</th>\n",
       "      <td>Scml2</td>\n",
       "      <td>X</td>\n",
       "    </tr>\n",
       "    <tr>\n",
       "      <th>ENSMUSG00000000049</th>\n",
       "      <td>Apoh</td>\n",
       "      <td>11</td>\n",
       "    </tr>\n",
       "    <tr>\n",
       "      <th>ENSMUSG00000000056</th>\n",
       "      <td>Narf</td>\n",
       "      <td>11</td>\n",
       "    </tr>\n",
       "    <tr>\n",
       "      <th>...</th>\n",
       "      <td>...</td>\n",
       "      <td>...</td>\n",
       "    </tr>\n",
       "    <tr>\n",
       "      <th>ENSMUSG00000115595</th>\n",
       "      <td>Rps12-ps2</td>\n",
       "      <td>14</td>\n",
       "    </tr>\n",
       "    <tr>\n",
       "      <th>ENSMUSG00000115637</th>\n",
       "      <td>Gm30970</td>\n",
       "      <td>14</td>\n",
       "    </tr>\n",
       "    <tr>\n",
       "      <th>ENSMUSG00000115643</th>\n",
       "      <td>Gm49011</td>\n",
       "      <td>14</td>\n",
       "    </tr>\n",
       "    <tr>\n",
       "      <th>ENSMUSG00000115725</th>\n",
       "      <td>4930572G02Rik</td>\n",
       "      <td>14</td>\n",
       "    </tr>\n",
       "    <tr>\n",
       "      <th>ENSMUSG00000115811</th>\n",
       "      <td>Gm41293</td>\n",
       "      <td>15</td>\n",
       "    </tr>\n",
       "  </tbody>\n",
       "</table>\n",
       "<p>23270 rows × 2 columns</p>\n",
       "</div>"
      ],
      "text/plain": [
       "                        gene_name chromosome\n",
       "ENSMUSG00000000001          Gnai3          3\n",
       "ENSMUSG00000000028          Cdc45         16\n",
       "ENSMUSG00000000037          Scml2          X\n",
       "ENSMUSG00000000049           Apoh         11\n",
       "ENSMUSG00000000056           Narf         11\n",
       "...                           ...        ...\n",
       "ENSMUSG00000115595      Rps12-ps2         14\n",
       "ENSMUSG00000115637        Gm30970         14\n",
       "ENSMUSG00000115643        Gm49011         14\n",
       "ENSMUSG00000115725  4930572G02Rik         14\n",
       "ENSMUSG00000115811        Gm41293         15\n",
       "\n",
       "[23270 rows x 2 columns]"
      ]
     },
     "execution_count": 9,
     "metadata": {},
     "output_type": "execute_result"
    }
   ],
   "source": [
    "adata.var['gene_name'] = [dic_gene_names[x][1] if x in dic_gene_names.keys() else 'NA' for x in adata.var.index]\n",
    "adata.var['chromosome'] = [dic_gene_names[x][0] if x in dic_gene_names.keys() else 'NA' for x in adata.var.index]\n",
    "adata.var"
   ]
  },
  {
   "cell_type": "code",
   "execution_count": 10,
   "id": "ddb48250",
   "metadata": {},
   "outputs": [],
   "source": [
    "label = []\n",
    "for chrom in adata.var['chromosome']:\n",
    "    if chrom == \"X\":\n",
    "        label.append('X')\n",
    "    elif chrom == \"Y\":\n",
    "        label.append('Y')\n",
    "    else:\n",
    "        label.append('autosome')\n",
    "adata.var['autosomes'] = label"
   ]
  },
  {
   "cell_type": "code",
   "execution_count": 11,
   "id": "41e57469",
   "metadata": {},
   "outputs": [],
   "source": [
    "label = []\n",
    "for chrom in adata.var['chromosome']:\n",
    "    if chrom == \"MT\":\n",
    "        label.append('MT')\n",
    "    else:\n",
    "        label.append('nuclear')\n",
    "adata.var['nuclear'] = label"
   ]
  },
  {
   "cell_type": "code",
   "execution_count": 12,
   "id": "6f7f58be",
   "metadata": {},
   "outputs": [],
   "source": [
    "label = []\n",
    "for genes in adata.var['gene_name']:\n",
    "    if genes[:2]=='Rp':\n",
    "        label.append('Ribosomal protein')\n",
    "    else:\n",
    "        label.append('other protein')\n",
    "adata.var['Ribosomal_prot'] = label"
   ]
  },
  {
   "cell_type": "code",
   "execution_count": 13,
   "id": "efbb4191",
   "metadata": {},
   "outputs": [
    {
     "data": {
      "text/plain": [
       "AnnData object with n_obs × n_vars = 682 × 3134\n",
       "    var: 'gene_name', 'chromosome', 'autosomes', 'nuclear', 'Ribosomal_prot', 'sum_allele_1', 'sum_allele_2', 'ratio_allele_1', 'ratio_allele_2', 'ratio_sum_allele_1', 'ratio_sum_allele_2', 'ratio_mean_allele_1', 'ratio_mean_allele_2', 'ratio_std_allele_1', 'ratio_std_allele_2'\n",
       "    layers: 'spliced', 'unspliced', 'ratio_allele_1', 'ratio_allele_2'"
      ]
     },
     "execution_count": 13,
     "metadata": {},
     "output_type": "execute_result"
    }
   ],
   "source": [
    "test.remove_na(adata)\n",
    "test.find_ratios_sum(adata)\n",
    "test.find_ratios_std(adata)\n",
    "adata"
   ]
  },
  {
   "cell_type": "code",
   "execution_count": 22,
   "id": "e1b63ae4",
   "metadata": {},
   "outputs": [
    {
     "name": "stderr",
     "output_type": "stream",
     "text": [
      "WARNING: You’re trying to run this on 3134 dimensions of `.X`, if you really want this, set `use_rep='X'`.\n",
      "         Falling back to preprocessing with `sc.pp.pca` and default params.\n"
     ]
    }
   ],
   "source": [
    "sc.pp.neighbors(adata, n_neighbors=8, n_pcs=31)\n",
    "sc.tl.umap(adata)\n",
    "sc.tl.leiden(adata)\n",
    "adata.obs['clusters'] = adata.obs['leiden'].copy()"
   ]
  },
  {
   "cell_type": "code",
   "execution_count": 19,
   "id": "6edee4cc",
   "metadata": {},
   "outputs": [
    {
     "data": {
      "text/plain": [
       "Index(['ENSMUSG00000000001', 'ENSMUSG00000000049', 'ENSMUSG00000000088',\n",
       "       'ENSMUSG00000000120', 'ENSMUSG00000000184', 'ENSMUSG00000000295',\n",
       "       'ENSMUSG00000000303', 'ENSMUSG00000000326', 'ENSMUSG00000000339',\n",
       "       'ENSMUSG00000000346',\n",
       "       ...\n",
       "       'ENSMUSG00000084146', 'ENSMUSG00000085051', 'ENSMUSG00000087278',\n",
       "       'ENSMUSG00000089617', 'ENSMUSG00000097824', 'ENSMUSG00000100620',\n",
       "       'ENSMUSG00000103811', 'ENSMUSG00000112500', 'ENSMUSG00000114922',\n",
       "       'ENSMUSG00000115141'],\n",
       "      dtype='object', length=3134)"
      ]
     },
     "execution_count": 19,
     "metadata": {},
     "output_type": "execute_result"
    }
   ],
   "source": [
    "adata.var_names"
   ]
  },
  {
   "cell_type": "code",
   "execution_count": 23,
   "id": "440f9bea",
   "metadata": {},
   "outputs": [
    {
     "name": "stderr",
     "output_type": "stream",
     "text": [
      "WARNING: Default of the method has been changed to 't-test' from 't-test_overestim_var'\n"
     ]
    }
   ],
   "source": [
    "sc.tl.rank_genes_groups(adata, groupby=\"clusters\")"
   ]
  },
  {
   "cell_type": "code",
   "execution_count": 24,
   "id": "22529955",
   "metadata": {},
   "outputs": [
    {
     "data": {
      "text/plain": [
       "AnnData object with n_obs × n_vars = 682 × 3134\n",
       "    obs: 'leiden', 'clusters'\n",
       "    var: 'gene_name', 'chromosome', 'autosomes', 'nuclear', 'Ribosomal_prot', 'sum_allele_1', 'sum_allele_2', 'ratio_allele_1', 'ratio_allele_2', 'ratio_sum_allele_1', 'ratio_sum_allele_2', 'ratio_mean_allele_1', 'ratio_mean_allele_2', 'ratio_std_allele_1', 'ratio_std_allele_2'\n",
       "    uns: 'rank_genes_groups', 'neighbors', 'umap', 'leiden'\n",
       "    obsm: 'X_pca', 'X_umap'\n",
       "    layers: 'spliced', 'unspliced', 'ratio_allele_1', 'ratio_allele_2'\n",
       "    obsp: 'distances', 'connectivities'"
      ]
     },
     "execution_count": 24,
     "metadata": {},
     "output_type": "execute_result"
    }
   ],
   "source": [
    "adata"
   ]
  },
  {
   "cell_type": "code",
   "execution_count": 28,
   "id": "4b56ffcf",
   "metadata": {},
   "outputs": [
    {
     "data": {
      "text/plain": [
       "{'params': {'groupby': 'clusters',\n",
       "  'reference': 'rest',\n",
       "  'method': 't-test',\n",
       "  'use_raw': True,\n",
       "  'layer': None,\n",
       "  'corr_method': 'benjamini-hochberg'},\n",
       " 'names': rec.array([('ENSMUSG00000063316', 'ENSMUSG00000023944', 'ENSMUSG00000018593', 'ENSMUSG00000035095', 'ENSMUSG00000020415', 'ENSMUSG00000037411', 'ENSMUSG00000092341', 'ENSMUSG00000004665', 'ENSMUSG00000021477', 'ENSMUSG00000092341', 'ENSMUSG00000029447'),\n",
       "            ('ENSMUSG00000068220', 'ENSMUSG00000020267', 'ENSMUSG00000026042', 'ENSMUSG00000021539', 'ENSMUSG00000094530', 'ENSMUSG00000026837', 'ENSMUSG00000027656', 'ENSMUSG00000062825', 'ENSMUSG00000018567', 'ENSMUSG00000031328', 'ENSMUSG00000059796'),\n",
       "            ('ENSMUSG00000017404', 'ENSMUSG00000059208', 'ENSMUSG00000028618', 'ENSMUSG00000087128', 'ENSMUSG00000015837', 'ENSMUSG00000024909', 'ENSMUSG00000037266', 'ENSMUSG00000035783', 'ENSMUSG00000027204', 'ENSMUSG00000090841', 'ENSMUSG00000040824'),\n",
       "            ...,\n",
       "            ('ENSMUSG00000001348', 'ENSMUSG00000022665', 'ENSMUSG00000005233', 'ENSMUSG00000067288', 'ENSMUSG00000015143', 'ENSMUSG00000030695', 'ENSMUSG00000068039', 'ENSMUSG00000027207', 'ENSMUSG00000062825', 'ENSMUSG00000080723', 'ENSMUSG00000021477'),\n",
       "            ('ENSMUSG00000006344', 'ENSMUSG00000024909', 'ENSMUSG00000037725', 'ENSMUSG00000007892', 'ENSMUSG00000068566', 'ENSMUSG00000007739', 'ENSMUSG00000005481', 'ENSMUSG00000087273', 'ENSMUSG00000032366', 'ENSMUSG00000042834', 'ENSMUSG00000029185'),\n",
       "            ('ENSMUSG00000020871', 'ENSMUSG00000027472', 'ENSMUSG00000020415', 'ENSMUSG00000093674', 'ENSMUSG00000092341', 'ENSMUSG00000023944', 'ENSMUSG00000003868', 'ENSMUSG00000092341', 'ENSMUSG00000001473', 'ENSMUSG00000086851', 'ENSMUSG00000030116')],\n",
       "           dtype=[('0', 'O'), ('1', 'O'), ('2', 'O'), ('3', 'O'), ('4', 'O'), ('5', 'O'), ('6', 'O'), ('7', 'O'), ('8', 'O'), ('9', 'O'), ('10', 'O')]),\n",
       " 'scores': rec.array([(21.03002  ,  5.7868414, 12.735116 ,   2.3977349,   4.7164707,   6.2882013,   8.413988 ,   7.1112103,   5.621364 ,  9.859506 ,  13.503909 ),\n",
       "            (20.770529 ,  5.7376847, 11.785135 ,   2.081559 ,   2.8267245,   4.5171766,   6.608222 ,   6.737562 ,   5.085007 ,  9.7268505,  13.486921 ),\n",
       "            (20.695398 ,  5.5657773, 11.555645 ,   1.8620181,   2.4997795,   3.8971148,   6.4053307,   6.6694875,   5.0285068,  9.431974 ,  13.199435 ),\n",
       "            ...,\n",
       "            (-4.2776384, -8.72846  , -7.485884 , -23.898073 , -13.71787  , -10.553161 , -20.970682 ,  -6.5709777, -13.259139 , -5.813355 , -12.9618845),\n",
       "            (-4.531961 , -8.950458 , -8.5744095, -24.146238 , -14.338461 , -11.021008 , -21.307716 ,  -6.8993497, -13.76119  , -6.2850547, -13.264614 ),\n",
       "            (-4.997503 , -9.009856 , -9.213259 , -24.220407 , -15.221635 , -12.147789 , -21.517427 , -14.893105 , -14.114182 , -6.541793 , -21.724167 )],\n",
       "           dtype=[('0', '<f4'), ('1', '<f4'), ('2', '<f4'), ('3', '<f4'), ('4', '<f4'), ('5', '<f4'), ('6', '<f4'), ('7', '<f4'), ('8', '<f4'), ('9', '<f4'), ('10', '<f4')]),\n",
       " 'pvals': rec.array([(6.41618822e-43, 4.57641624e-08, 3.72442702e-23, 1.91857476e-02, 1.15803054e-05, 9.00337048e-09, 1.50929222e-12, 1.60636696e-10, 9.12902709e-07, 6.59540568e-14, 1.03465689e-14),\n",
       "            (2.31105343e-43, 5.20110797e-08, 7.53276889e-21, 4.10134587e-02, 6.01684607e-03, 1.73902775e-05, 4.77300928e-09, 1.34625084e-09, 5.30300063e-06, 3.59732241e-13, 3.07654174e-14),\n",
       "            (1.10773828e-41, 1.57008521e-07, 5.02137471e-20, 6.67301331e-02, 1.46848639e-02, 1.84443772e-04, 1.09731773e-08, 2.51897094e-09, 6.76159752e-06, 8.36669023e-13, 2.01503697e-15),\n",
       "            ...,\n",
       "            (2.40502650e-05, 6.56744590e-16, 4.14257772e-13, 5.09678636e-55, 6.08293479e-31, 1.94037955e-20, 5.25143547e-57, 1.88705088e-09, 2.22727179e-22, 9.68541011e-09, 1.14337229e-17),\n",
       "            (6.97174970e-06, 2.36120881e-15, 1.26807155e-16, 1.59801086e-59, 8.64406942e-30, 1.47428167e-21, 1.51446361e-62, 1.80766643e-11, 9.13166538e-26, 1.17539665e-09, 1.32260841e-16),\n",
       "            (7.47282347e-07, 2.80882534e-16, 1.62762798e-18, 4.95125141e-55, 6.81194549e-36, 1.54129117e-24, 2.47215504e-65, 5.17279748e-34, 6.44478605e-29, 1.24916835e-10, 4.48155291e-43)],\n",
       "           dtype=[('0', '<f8'), ('1', '<f8'), ('2', '<f8'), ('3', '<f8'), ('4', '<f8'), ('5', '<f8'), ('6', '<f8'), ('7', '<f8'), ('8', '<f8'), ('9', '<f8'), ('10', '<f8')]),\n",
       " 'pvals_adj': rec.array([(6.70277796e-40, 3.25965648e-06, 1.16723543e-19, 3.05529132e-02, 4.07782888e-05, 1.16530793e-07, 7.97659666e-12, 1.25858851e-07, 1.72351632e-05, 2.06700014e-10, 3.60290521e-12),\n",
       "            (3.62142073e-40, 3.54353747e-06, 1.18038488e-17, 6.21848958e-02, 1.26640669e-02, 9.54485635e-05, 1.89110127e-08, 8.43830025e-07, 8.39373938e-05, 5.24424144e-10, 8.03490152e-12),\n",
       "            (6.94330354e-39, 9.11230938e-06, 3.93424709e-17, 9.58442883e-02, 2.83738369e-02, 7.90761669e-04, 4.25618040e-08, 9.86806864e-07, 1.02371240e-04, 5.24424144e-10, 9.02160838e-13),\n",
       "            ...,\n",
       "            (4.69032549e-05, 1.02911877e-12, 3.60634405e-11, 3.99333211e-52, 9.53195881e-28, 2.02704983e-17, 3.29159975e-54, 9.85669576e-07, 1.16337830e-19, 6.59871202e-07, 1.19444291e-14),\n",
       "            (1.37764587e-05, 2.46667614e-12, 3.61285113e-14, 5.00816604e-56, 6.77262839e-27, 2.31019937e-18, 2.37316448e-59, 2.83261329e-08, 9.53954643e-23, 1.18828810e-07, 1.03626369e-13),\n",
       "            (1.53572648e-06, 8.80285860e-13, 7.28712297e-16, 3.99333211e-52, 2.13486372e-32, 4.83040651e-21, 7.74773389e-62, 1.62115473e-30, 2.01979595e-25, 2.30287860e-08, 1.40451868e-39)],\n",
       "           dtype=[('0', '<f8'), ('1', '<f8'), ('2', '<f8'), ('3', '<f8'), ('4', '<f8'), ('5', '<f8'), ('6', '<f8'), ('7', '<f8'), ('8', '<f8'), ('9', '<f8'), ('10', '<f8')]),\n",
       " 'logfoldchanges': rec.array([(217.74033  ,  60.205875,        nan,    3.9082918,  15.857292,        inf,        nan, 80.576935 ,  132.43619 ,         nan,   69.63645 ),\n",
       "            (        nan,  22.48193 , 213.03522 ,    3.497147 ,  11.444078,  47.70667 , 104.88393 ,        nan,   59.056026, 120.8291   ,  182.46944 ),\n",
       "            (292.09912  ,  13.831271,  48.83064 ,    2.6227002,  13.113294,  34.203506,  11.455464,        nan,   73.83921 , 284.49472  ,   59.5021  ),\n",
       "            ...,\n",
       "            ( -2.3852088, -41.359135,  -8.100187, -302.0854   , -70.63453 , -73.11904 , -53.119102, -7.2572956,        -inf, -26.12297  , -123.77656 ),\n",
       "            ( -3.093221 , -68.62437 , -10.913775, -431.36118  , -44.130295, -25.761414, -45.786953, -3.9960074, -406.4749  ,  -3.9254136,  -17.293604),\n",
       "            ( -3.2103863, -22.93115 , -11.213958,         -inf,       -inf, -98.6594  , -28.71431 ,       -inf,  -86.43271 , -26.789091 , -124.56655 )],\n",
       "           dtype=[('0', '<f4'), ('1', '<f4'), ('2', '<f4'), ('3', '<f4'), ('4', '<f4'), ('5', '<f4'), ('6', '<f4'), ('7', '<f4'), ('8', '<f4'), ('9', '<f4'), ('10', '<f4')])}"
      ]
     },
     "execution_count": 28,
     "metadata": {},
     "output_type": "execute_result"
    }
   ],
   "source": [
    "adata.uns['rank_genes_groups']"
   ]
  },
  {
   "cell_type": "code",
   "execution_count": null,
   "id": "f809411d",
   "metadata": {},
   "outputs": [],
   "source": []
  }
 ],
 "metadata": {
  "kernelspec": {
   "display_name": "Python 3 (ipykernel)",
   "language": "python",
   "name": "python3"
  },
  "language_info": {
   "codemirror_mode": {
    "name": "ipython",
    "version": 3
   },
   "file_extension": ".py",
   "mimetype": "text/x-python",
   "name": "python",
   "nbconvert_exporter": "python",
   "pygments_lexer": "ipython3",
   "version": "3.8.13"
  }
 },
 "nbformat": 4,
 "nbformat_minor": 5
}
