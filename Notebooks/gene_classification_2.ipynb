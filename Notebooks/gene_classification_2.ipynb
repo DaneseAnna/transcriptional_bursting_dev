{
 "cells": [
  {
   "cell_type": "code",
   "execution_count": 1,
   "id": "ce4a5908",
   "metadata": {},
   "outputs": [],
   "source": [
    "import test.gene_classifier_2 as classifier\n",
    "import pandas as pd\n",
    "import scanpy as sc"
   ]
  },
  {
   "cell_type": "code",
   "execution_count": 2,
   "id": "30be181c",
   "metadata": {},
   "outputs": [],
   "source": [
    "import test.utils as utils"
   ]
  },
  {
   "cell_type": "code",
   "execution_count": 3,
   "id": "74d0877f",
   "metadata": {},
   "outputs": [],
   "source": [
    "adata = sc.read_h5ad('data/test_classifier.h5ad')"
   ]
  },
  {
   "cell_type": "code",
   "execution_count": 4,
   "id": "ad0dcc4a",
   "metadata": {},
   "outputs": [],
   "source": [
    "gene_classifier = classifier.GeneClassifier_2(adata)"
   ]
  },
  {
   "cell_type": "code",
   "execution_count": 5,
   "id": "ae9837b0",
   "metadata": {},
   "outputs": [
    {
     "data": {
      "text/plain": [
       "<test.gene_classifier_2.GeneClassifier_2 at 0x1e7d5d5dbb0>"
      ]
     },
     "execution_count": 5,
     "metadata": {},
     "output_type": "execute_result"
    }
   ],
   "source": [
    "gene_classifier"
   ]
  },
  {
   "cell_type": "code",
   "execution_count": 6,
   "id": "0228c038",
   "metadata": {},
   "outputs": [
    {
     "name": "stdout",
     "output_type": "stream",
     "text": [
      "1182\n",
      "48\n",
      "523\n",
      "75\n",
      "1354\n"
     ]
    }
   ],
   "source": [
    "gene_classifier.label_data()"
   ]
  },
  {
   "cell_type": "code",
   "execution_count": 7,
   "id": "8c0aa96d",
   "metadata": {},
   "outputs": [],
   "source": [
    "gene_classifier.get_aggregate_value()"
   ]
  },
  {
   "cell_type": "code",
   "execution_count": 8,
   "id": "7acf7fe7",
   "metadata": {},
   "outputs": [
    {
     "name": "stdout",
     "output_type": "stream",
     "text": [
      "1182 48 475 75 1354\n",
      "Index(['ENSMUSG00000000049', 'ENSMUSG00000001348', 'ENSMUSG00000001604',\n",
      "       'ENSMUSG00000004558', 'ENSMUSG00000004961', 'ENSMUSG00000006344',\n",
      "       'ENSMUSG00000019848', 'ENSMUSG00000019851', 'ENSMUSG00000020871',\n",
      "       'ENSMUSG00000021234', 'ENSMUSG00000021265', 'ENSMUSG00000021619',\n",
      "       'ENSMUSG00000022195', 'ENSMUSG00000023336', 'ENSMUSG00000026051'],\n",
      "      dtype='object')\n"
     ]
    }
   ],
   "source": [
    "gene_classifier.generate_train_test_set()"
   ]
  },
  {
   "cell_type": "code",
   "execution_count": 1,
   "id": "897a20ed",
   "metadata": {},
   "outputs": [
    {
     "ename": "NameError",
     "evalue": "name 'gene_classifier' is not defined",
     "output_type": "error",
     "traceback": [
      "\u001b[1;31m---------------------------------------------------------------------------\u001b[0m",
      "\u001b[1;31mNameError\u001b[0m                                 Traceback (most recent call last)",
      "Input \u001b[1;32mIn [1]\u001b[0m, in \u001b[0;36m<cell line: 1>\u001b[1;34m()\u001b[0m\n\u001b[1;32m----> 1\u001b[0m \u001b[43mgene_classifier\u001b[49m\u001b[38;5;241m.\u001b[39mgenerate_train_features()\n",
      "\u001b[1;31mNameError\u001b[0m: name 'gene_classifier' is not defined"
     ]
    }
   ],
   "source": [
    "gene_classifier.generate_train_features()"
   ]
  },
  {
   "cell_type": "code",
   "execution_count": 10,
   "id": "a5bddfee",
   "metadata": {},
   "outputs": [],
   "source": [
    "gene_classifier.generate_test_features()"
   ]
  },
  {
   "cell_type": "code",
   "execution_count": 11,
   "id": "9f20c994",
   "metadata": {},
   "outputs": [],
   "source": [
    "# gene_classifier.get_initial_bias()"
   ]
  },
  {
   "cell_type": "code",
   "execution_count": 12,
   "id": "80603c23",
   "metadata": {},
   "outputs": [],
   "source": [
    "# gene_classifier.make_model()"
   ]
  },
  {
   "cell_type": "code",
   "execution_count": 13,
   "id": "8acc8861",
   "metadata": {},
   "outputs": [
    {
     "name": "stdout",
     "output_type": "stream",
     "text": [
      "Epoch 1/1000\n",
      "4/4 [==============================] - ETA: 0s - loss: 1.0978 - sparse_categorical_accuracy: 0.5481\n",
      "Epoch 1: saving model to data/checkpoints\\cp_2.ckpt\n",
      "4/4 [==============================] - 1s 180ms/step - loss: 1.0978 - sparse_categorical_accuracy: 0.5481 - val_loss: 0.9798 - val_sparse_categorical_accuracy: 0.5604\n",
      "Epoch 2/1000\n",
      "4/4 [==============================] - ETA: 0s - loss: 0.9565 - sparse_categorical_accuracy: 0.6663\n",
      "Epoch 2: saving model to data/checkpoints\\cp_2.ckpt\n",
      "4/4 [==============================] - 1s 133ms/step - loss: 0.9565 - sparse_categorical_accuracy: 0.6663 - val_loss: 0.9137 - val_sparse_categorical_accuracy: 0.6454\n",
      "Epoch 3/1000\n",
      "4/4 [==============================] - ETA: 0s - loss: 0.9111 - sparse_categorical_accuracy: 0.7079\n",
      "Epoch 3: saving model to data/checkpoints\\cp_2.ckpt\n",
      "4/4 [==============================] - 1s 148ms/step - loss: 0.9111 - sparse_categorical_accuracy: 0.7079 - val_loss: 0.8477 - val_sparse_categorical_accuracy: 0.7211\n",
      "Epoch 4/1000\n",
      "4/4 [==============================] - ETA: 0s - loss: 0.8320 - sparse_categorical_accuracy: 0.7546\n",
      "Epoch 4: saving model to data/checkpoints\\cp_2.ckpt\n",
      "4/4 [==============================] - 1s 137ms/step - loss: 0.8320 - sparse_categorical_accuracy: 0.7546 - val_loss: 0.7867 - val_sparse_categorical_accuracy: 0.7331\n",
      "Epoch 5/1000\n",
      "4/4 [==============================] - ETA: 0s - loss: 0.7734 - sparse_categorical_accuracy: 0.7665\n",
      "Epoch 5: saving model to data/checkpoints\\cp_2.ckpt\n",
      "4/4 [==============================] - 1s 136ms/step - loss: 0.7734 - sparse_categorical_accuracy: 0.7665 - val_loss: 0.7230 - val_sparse_categorical_accuracy: 0.7623\n",
      "Epoch 6/1000\n",
      "4/4 [==============================] - ETA: 0s - loss: 0.7304 - sparse_categorical_accuracy: 0.7802\n",
      "Epoch 6: saving model to data/checkpoints\\cp_2.ckpt\n",
      "4/4 [==============================] - 1s 142ms/step - loss: 0.7304 - sparse_categorical_accuracy: 0.7802 - val_loss: 0.6609 - val_sparse_categorical_accuracy: 0.7809\n",
      "Epoch 7/1000\n",
      "4/4 [==============================] - ETA: 0s - loss: 0.6544 - sparse_categorical_accuracy: 0.8081\n",
      "Epoch 7: saving model to data/checkpoints\\cp_2.ckpt\n",
      "4/4 [==============================] - 1s 138ms/step - loss: 0.6544 - sparse_categorical_accuracy: 0.8081 - val_loss: 0.5886 - val_sparse_categorical_accuracy: 0.8645\n",
      "Epoch 8/1000\n",
      "3/4 [=====================>........] - ETA: 0s - loss: 0.6223 - sparse_categorical_accuracy: 0.8193\n",
      "Epoch 8: saving model to data/checkpoints\\cp_2.ckpt\n",
      "4/4 [==============================] - 1s 138ms/step - loss: 0.6051 - sparse_categorical_accuracy: 0.8257 - val_loss: 0.5359 - val_sparse_categorical_accuracy: 0.8274\n",
      "Epoch 9/1000\n",
      "4/4 [==============================] - ETA: 0s - loss: 0.5614 - sparse_categorical_accuracy: 0.8206\n",
      "Epoch 9: saving model to data/checkpoints\\cp_2.ckpt\n",
      "4/4 [==============================] - 1s 135ms/step - loss: 0.5614 - sparse_categorical_accuracy: 0.8206 - val_loss: 0.5214 - val_sparse_categorical_accuracy: 0.8287\n",
      "Epoch 10/1000\n",
      "4/4 [==============================] - ETA: 0s - loss: 0.5310 - sparse_categorical_accuracy: 0.8297\n",
      "Epoch 10: saving model to data/checkpoints\\cp_2.ckpt\n",
      "4/4 [==============================] - 1s 129ms/step - loss: 0.5310 - sparse_categorical_accuracy: 0.8297 - val_loss: 0.4880 - val_sparse_categorical_accuracy: 0.8353\n",
      "Epoch 11/1000\n",
      "3/4 [=====================>........] - ETA: 0s - loss: 0.5154 - sparse_categorical_accuracy: 0.8367\n",
      "Epoch 11: saving model to data/checkpoints\\cp_2.ckpt\n",
      "4/4 [==============================] - 1s 136ms/step - loss: 0.5068 - sparse_categorical_accuracy: 0.8383 - val_loss: 0.4511 - val_sparse_categorical_accuracy: 0.8645\n",
      "Epoch 12/1000\n",
      "4/4 [==============================] - ETA: 0s - loss: 0.4929 - sparse_categorical_accuracy: 0.8371\n",
      "Epoch 12: saving model to data/checkpoints\\cp_2.ckpt\n",
      "4/4 [==============================] - 1s 138ms/step - loss: 0.4929 - sparse_categorical_accuracy: 0.8371 - val_loss: 0.4378 - val_sparse_categorical_accuracy: 0.8725\n",
      "Epoch 13/1000\n",
      "4/4 [==============================] - ETA: 0s - loss: 0.4639 - sparse_categorical_accuracy: 0.8559\n",
      "Epoch 13: saving model to data/checkpoints\\cp_2.ckpt\n",
      "4/4 [==============================] - 1s 131ms/step - loss: 0.4639 - sparse_categorical_accuracy: 0.8559 - val_loss: 0.4460 - val_sparse_categorical_accuracy: 0.8632\n",
      "Epoch 14/1000\n",
      "4/4 [==============================] - ETA: 0s - loss: 0.4480 - sparse_categorical_accuracy: 0.8690\n",
      "Epoch 14: saving model to data/checkpoints\\cp_2.ckpt\n",
      "4/4 [==============================] - 1s 131ms/step - loss: 0.4480 - sparse_categorical_accuracy: 0.8690 - val_loss: 0.4178 - val_sparse_categorical_accuracy: 0.8645\n",
      "Epoch 15/1000\n",
      "4/4 [==============================] - ETA: 0s - loss: 0.4280 - sparse_categorical_accuracy: 0.8724\n",
      "Epoch 15: saving model to data/checkpoints\\cp_2.ckpt\n",
      "4/4 [==============================] - 0s 130ms/step - loss: 0.4280 - sparse_categorical_accuracy: 0.8724 - val_loss: 0.4109 - val_sparse_categorical_accuracy: 0.8765\n",
      "Epoch 16/1000\n",
      "4/4 [==============================] - ETA: 0s - loss: 0.4351 - sparse_categorical_accuracy: 0.8673\n",
      "Epoch 16: saving model to data/checkpoints\\cp_2.ckpt\n",
      "4/4 [==============================] - 1s 136ms/step - loss: 0.4351 - sparse_categorical_accuracy: 0.8673 - val_loss: 0.4158 - val_sparse_categorical_accuracy: 0.8659\n",
      "Epoch 17/1000\n",
      "4/4 [==============================] - ETA: 0s - loss: 0.4133 - sparse_categorical_accuracy: 0.8776\n",
      "Epoch 17: saving model to data/checkpoints\\cp_2.ckpt\n",
      "4/4 [==============================] - 1s 134ms/step - loss: 0.4133 - sparse_categorical_accuracy: 0.8776 - val_loss: 0.3965 - val_sparse_categorical_accuracy: 0.8818\n",
      "Epoch 18/1000\n",
      "4/4 [==============================] - ETA: 0s - loss: 0.4016 - sparse_categorical_accuracy: 0.8861\n",
      "Epoch 18: saving model to data/checkpoints\\cp_2.ckpt\n",
      "4/4 [==============================] - 1s 140ms/step - loss: 0.4016 - sparse_categorical_accuracy: 0.8861 - val_loss: 0.3911 - val_sparse_categorical_accuracy: 0.8845\n",
      "Epoch 19/1000\n",
      "4/4 [==============================] - ETA: 0s - loss: 0.3946 - sparse_categorical_accuracy: 0.8952\n",
      "Epoch 19: saving model to data/checkpoints\\cp_2.ckpt\n",
      "4/4 [==============================] - 1s 139ms/step - loss: 0.3946 - sparse_categorical_accuracy: 0.8952 - val_loss: 0.3768 - val_sparse_categorical_accuracy: 0.9044\n",
      "Epoch 20/1000\n",
      "4/4 [==============================] - ETA: 0s - loss: 0.3799 - sparse_categorical_accuracy: 0.9009\n",
      "Epoch 20: saving model to data/checkpoints\\cp_2.ckpt\n",
      "4/4 [==============================] - 1s 137ms/step - loss: 0.3799 - sparse_categorical_accuracy: 0.9009 - val_loss: 0.3534 - val_sparse_categorical_accuracy: 0.9110\n",
      "Epoch 21/1000\n",
      "4/4 [==============================] - ETA: 0s - loss: 0.3718 - sparse_categorical_accuracy: 0.9003\n",
      "Epoch 21: saving model to data/checkpoints\\cp_2.ckpt\n",
      "4/4 [==============================] - 1s 130ms/step - loss: 0.3718 - sparse_categorical_accuracy: 0.9003 - val_loss: 0.3615 - val_sparse_categorical_accuracy: 0.8845\n",
      "Epoch 22/1000\n",
      "4/4 [==============================] - ETA: 0s - loss: 0.3600 - sparse_categorical_accuracy: 0.9038\n",
      "Epoch 22: saving model to data/checkpoints\\cp_2.ckpt\n",
      "4/4 [==============================] - 1s 133ms/step - loss: 0.3600 - sparse_categorical_accuracy: 0.9038 - val_loss: 0.3549 - val_sparse_categorical_accuracy: 0.9124\n",
      "Epoch 23/1000\n",
      "4/4 [==============================] - ETA: 0s - loss: 0.3510 - sparse_categorical_accuracy: 0.9089\n",
      "Epoch 23: saving model to data/checkpoints\\cp_2.ckpt\n",
      "4/4 [==============================] - 0s 131ms/step - loss: 0.3510 - sparse_categorical_accuracy: 0.9089 - val_loss: 0.3173 - val_sparse_categorical_accuracy: 0.9137\n",
      "Epoch 24/1000\n",
      "3/4 [=====================>........] - ETA: 0s - loss: 0.3506 - sparse_categorical_accuracy: 0.9033\n",
      "Epoch 24: saving model to data/checkpoints\\cp_2.ckpt\n",
      "4/4 [==============================] - 0s 129ms/step - loss: 0.3392 - sparse_categorical_accuracy: 0.9060 - val_loss: 0.3186 - val_sparse_categorical_accuracy: 0.9190\n",
      "Epoch 25/1000\n",
      "4/4 [==============================] - ETA: 0s - loss: 0.3451 - sparse_categorical_accuracy: 0.9077\n",
      "Epoch 25: saving model to data/checkpoints\\cp_2.ckpt\n",
      "4/4 [==============================] - 0s 133ms/step - loss: 0.3451 - sparse_categorical_accuracy: 0.9077 - val_loss: 0.3312 - val_sparse_categorical_accuracy: 0.9190\n"
     ]
    },
    {
     "name": "stdout",
     "output_type": "stream",
     "text": [
      "Epoch 26/1000\n",
      "4/4 [==============================] - ETA: 0s - loss: 0.3294 - sparse_categorical_accuracy: 0.9117\n",
      "Epoch 26: saving model to data/checkpoints\\cp_2.ckpt\n",
      "4/4 [==============================] - 1s 133ms/step - loss: 0.3294 - sparse_categorical_accuracy: 0.9117 - val_loss: 0.3093 - val_sparse_categorical_accuracy: 0.9084\n",
      "Epoch 27/1000\n",
      "4/4 [==============================] - ETA: 0s - loss: 0.3259 - sparse_categorical_accuracy: 0.9089\n",
      "Epoch 27: saving model to data/checkpoints\\cp_2.ckpt\n",
      "4/4 [==============================] - 1s 137ms/step - loss: 0.3259 - sparse_categorical_accuracy: 0.9089 - val_loss: 0.3172 - val_sparse_categorical_accuracy: 0.9070\n",
      "Epoch 28/1000\n",
      "4/4 [==============================] - ETA: 0s - loss: 0.3230 - sparse_categorical_accuracy: 0.9083\n",
      "Epoch 28: saving model to data/checkpoints\\cp_2.ckpt\n",
      "4/4 [==============================] - 0s 131ms/step - loss: 0.3230 - sparse_categorical_accuracy: 0.9083 - val_loss: 0.2965 - val_sparse_categorical_accuracy: 0.9163\n",
      "Epoch 29/1000\n",
      "4/4 [==============================] - ETA: 0s - loss: 0.3091 - sparse_categorical_accuracy: 0.9140\n",
      "Epoch 29: saving model to data/checkpoints\\cp_2.ckpt\n",
      "4/4 [==============================] - 0s 132ms/step - loss: 0.3091 - sparse_categorical_accuracy: 0.9140 - val_loss: 0.2975 - val_sparse_categorical_accuracy: 0.9216\n",
      "Epoch 30/1000\n",
      "4/4 [==============================] - ETA: 0s - loss: 0.3071 - sparse_categorical_accuracy: 0.9117\n",
      "Epoch 30: saving model to data/checkpoints\\cp_2.ckpt\n",
      "4/4 [==============================] - 1s 138ms/step - loss: 0.3071 - sparse_categorical_accuracy: 0.9117 - val_loss: 0.2825 - val_sparse_categorical_accuracy: 0.9150\n",
      "Epoch 31/1000\n",
      "4/4 [==============================] - ETA: 0s - loss: 0.3119 - sparse_categorical_accuracy: 0.9123\n",
      "Epoch 31: saving model to data/checkpoints\\cp_2.ckpt\n",
      "4/4 [==============================] - 1s 136ms/step - loss: 0.3119 - sparse_categorical_accuracy: 0.9123 - val_loss: 0.2841 - val_sparse_categorical_accuracy: 0.9203\n",
      "Epoch 32/1000\n",
      "4/4 [==============================] - ETA: 0s - loss: 0.3021 - sparse_categorical_accuracy: 0.9112\n",
      "Epoch 32: saving model to data/checkpoints\\cp_2.ckpt\n",
      "4/4 [==============================] - 1s 136ms/step - loss: 0.3021 - sparse_categorical_accuracy: 0.9112 - val_loss: 0.3043 - val_sparse_categorical_accuracy: 0.9124\n",
      "Epoch 33/1000\n",
      "4/4 [==============================] - ETA: 0s - loss: 0.2965 - sparse_categorical_accuracy: 0.9151\n",
      "Epoch 33: saving model to data/checkpoints\\cp_2.ckpt\n",
      "4/4 [==============================] - 0s 129ms/step - loss: 0.2965 - sparse_categorical_accuracy: 0.9151 - val_loss: 0.2696 - val_sparse_categorical_accuracy: 0.9243\n",
      "Epoch 34/1000\n",
      "3/4 [=====================>........] - ETA: 0s - loss: 0.2902 - sparse_categorical_accuracy: 0.9200\n",
      "Epoch 34: saving model to data/checkpoints\\cp_2.ckpt\n",
      "4/4 [==============================] - 0s 128ms/step - loss: 0.2932 - sparse_categorical_accuracy: 0.9186 - val_loss: 0.3070 - val_sparse_categorical_accuracy: 0.9097\n",
      "Epoch 35/1000\n",
      "4/4 [==============================] - ETA: 0s - loss: 0.2895 - sparse_categorical_accuracy: 0.9157\n",
      "Epoch 35: saving model to data/checkpoints\\cp_2.ckpt\n",
      "4/4 [==============================] - 1s 130ms/step - loss: 0.2895 - sparse_categorical_accuracy: 0.9157 - val_loss: 0.2795 - val_sparse_categorical_accuracy: 0.9057\n",
      "Epoch 36/1000\n",
      "4/4 [==============================] - ETA: 0s - loss: 0.2810 - sparse_categorical_accuracy: 0.9186\n",
      "Epoch 36: saving model to data/checkpoints\\cp_2.ckpt\n",
      "4/4 [==============================] - 0s 127ms/step - loss: 0.2810 - sparse_categorical_accuracy: 0.9186 - val_loss: 0.2770 - val_sparse_categorical_accuracy: 0.9216\n",
      "Epoch 37/1000\n",
      "4/4 [==============================] - ETA: 0s - loss: 0.2857 - sparse_categorical_accuracy: 0.9180\n",
      "Epoch 37: saving model to data/checkpoints\\cp_2.ckpt\n",
      "4/4 [==============================] - 1s 135ms/step - loss: 0.2857 - sparse_categorical_accuracy: 0.9180 - val_loss: 0.2620 - val_sparse_categorical_accuracy: 0.9270\n",
      "Epoch 38/1000\n",
      "3/4 [=====================>........] - ETA: 0s - loss: 0.2788 - sparse_categorical_accuracy: 0.9207\n",
      "Epoch 38: saving model to data/checkpoints\\cp_2.ckpt\n",
      "4/4 [==============================] - 0s 128ms/step - loss: 0.2731 - sparse_categorical_accuracy: 0.9220 - val_loss: 0.2555 - val_sparse_categorical_accuracy: 0.9230\n",
      "Epoch 39/1000\n",
      "4/4 [==============================] - ETA: 0s - loss: 0.2665 - sparse_categorical_accuracy: 0.9260\n",
      "Epoch 39: saving model to data/checkpoints\\cp_2.ckpt\n",
      "4/4 [==============================] - 1s 135ms/step - loss: 0.2665 - sparse_categorical_accuracy: 0.9260 - val_loss: 0.2612 - val_sparse_categorical_accuracy: 0.9203\n",
      "Epoch 40/1000\n",
      "4/4 [==============================] - ETA: 0s - loss: 0.2654 - sparse_categorical_accuracy: 0.9226\n",
      "Epoch 40: saving model to data/checkpoints\\cp_2.ckpt\n",
      "4/4 [==============================] - 1s 138ms/step - loss: 0.2654 - sparse_categorical_accuracy: 0.9226 - val_loss: 0.2549 - val_sparse_categorical_accuracy: 0.9243\n",
      "Epoch 41/1000\n",
      "4/4 [==============================] - ETA: 0s - loss: 0.2628 - sparse_categorical_accuracy: 0.9248\n",
      "Epoch 41: saving model to data/checkpoints\\cp_2.ckpt\n",
      "4/4 [==============================] - 0s 130ms/step - loss: 0.2628 - sparse_categorical_accuracy: 0.9248 - val_loss: 0.2476 - val_sparse_categorical_accuracy: 0.9283\n",
      "Epoch 42/1000\n",
      "4/4 [==============================] - ETA: 0s - loss: 0.2602 - sparse_categorical_accuracy: 0.9220\n",
      "Epoch 42: saving model to data/checkpoints\\cp_2.ckpt\n",
      "4/4 [==============================] - 0s 132ms/step - loss: 0.2602 - sparse_categorical_accuracy: 0.9220 - val_loss: 0.2525 - val_sparse_categorical_accuracy: 0.9216\n",
      "Epoch 43/1000\n",
      "4/4 [==============================] - ETA: 0s - loss: 0.2548 - sparse_categorical_accuracy: 0.9288\n",
      "Epoch 43: saving model to data/checkpoints\\cp_2.ckpt\n",
      "4/4 [==============================] - 0s 132ms/step - loss: 0.2548 - sparse_categorical_accuracy: 0.9288 - val_loss: 0.2559 - val_sparse_categorical_accuracy: 0.9230\n",
      "Epoch 44/1000\n",
      "4/4 [==============================] - ETA: 0s - loss: 0.2614 - sparse_categorical_accuracy: 0.9226\n",
      "Epoch 44: saving model to data/checkpoints\\cp_2.ckpt\n",
      "4/4 [==============================] - 0s 131ms/step - loss: 0.2614 - sparse_categorical_accuracy: 0.9226 - val_loss: 0.2755 - val_sparse_categorical_accuracy: 0.9216\n",
      "Epoch 45/1000\n",
      "4/4 [==============================] - ETA: 0s - loss: 0.2527 - sparse_categorical_accuracy: 0.9271\n",
      "Epoch 45: saving model to data/checkpoints\\cp_2.ckpt\n",
      "4/4 [==============================] - 0s 128ms/step - loss: 0.2527 - sparse_categorical_accuracy: 0.9271 - val_loss: 0.2462 - val_sparse_categorical_accuracy: 0.9283\n",
      "Epoch 46/1000\n",
      "4/4 [==============================] - ETA: 0s - loss: 0.2511 - sparse_categorical_accuracy: 0.9208\n",
      "Epoch 46: saving model to data/checkpoints\\cp_2.ckpt\n",
      "4/4 [==============================] - 0s 131ms/step - loss: 0.2511 - sparse_categorical_accuracy: 0.9208 - val_loss: 0.2442 - val_sparse_categorical_accuracy: 0.9363\n",
      "Epoch 47/1000\n",
      "4/4 [==============================] - ETA: 0s - loss: 0.2465 - sparse_categorical_accuracy: 0.9243\n",
      "Epoch 47: saving model to data/checkpoints\\cp_2.ckpt\n",
      "4/4 [==============================] - 0s 124ms/step - loss: 0.2465 - sparse_categorical_accuracy: 0.9243 - val_loss: 0.2307 - val_sparse_categorical_accuracy: 0.9283\n",
      "Epoch 48/1000\n",
      "4/4 [==============================] - ETA: 0s - loss: 0.2417 - sparse_categorical_accuracy: 0.9311\n",
      "Epoch 48: saving model to data/checkpoints\\cp_2.ckpt\n",
      "4/4 [==============================] - 1s 136ms/step - loss: 0.2417 - sparse_categorical_accuracy: 0.9311 - val_loss: 0.2313 - val_sparse_categorical_accuracy: 0.9270\n",
      "Epoch 49/1000\n",
      "3/4 [=====================>........] - ETA: 0s - loss: 0.2386 - sparse_categorical_accuracy: 0.9300\n",
      "Epoch 49: saving model to data/checkpoints\\cp_2.ckpt\n",
      "4/4 [==============================] - 1s 133ms/step - loss: 0.2338 - sparse_categorical_accuracy: 0.9305 - val_loss: 0.2352 - val_sparse_categorical_accuracy: 0.9216\n",
      "Epoch 50/1000\n",
      "3/4 [=====================>........] - ETA: 0s - loss: 0.2372 - sparse_categorical_accuracy: 0.9280\n",
      "Epoch 50: saving model to data/checkpoints\\cp_2.ckpt\n",
      "4/4 [==============================] - 1s 134ms/step - loss: 0.2439 - sparse_categorical_accuracy: 0.9260 - val_loss: 0.2558 - val_sparse_categorical_accuracy: 0.9203\n"
     ]
    },
    {
     "name": "stdout",
     "output_type": "stream",
     "text": [
      "Epoch 51/1000\n",
      "4/4 [==============================] - ETA: 0s - loss: 0.2380 - sparse_categorical_accuracy: 0.9322\n",
      "Epoch 51: saving model to data/checkpoints\\cp_2.ckpt\n",
      "4/4 [==============================] - 1s 131ms/step - loss: 0.2380 - sparse_categorical_accuracy: 0.9322 - val_loss: 0.2330 - val_sparse_categorical_accuracy: 0.9323\n",
      "Epoch 52/1000\n",
      "4/4 [==============================] - ETA: 0s - loss: 0.2476 - sparse_categorical_accuracy: 0.9265Restoring model weights from the end of the best epoch: 47.\n",
      "\n",
      "Epoch 52: saving model to data/checkpoints\\cp_2.ckpt\n",
      "4/4 [==============================] - 1s 134ms/step - loss: 0.2476 - sparse_categorical_accuracy: 0.9265 - val_loss: 0.2360 - val_sparse_categorical_accuracy: 0.9190\n",
      "Epoch 52: early stopping\n"
     ]
    }
   ],
   "source": [
    "gene_classifier.build_model(load_model=False)"
   ]
  },
  {
   "cell_type": "code",
   "execution_count": 14,
   "id": "880f41a3",
   "metadata": {},
   "outputs": [
    {
     "name": "stdout",
     "output_type": "stream",
     "text": [
      "Model: \"model_1\"\n",
      "_________________________________________________________________\n",
      " Layer (type)                Output Shape              Param #   \n",
      "=================================================================\n",
      " input_2 (InputLayer)        [(None, 682)]             0         \n",
      "                                                                 \n",
      " lambda_1 (Lambda)           (None, 682, 1)            0         \n",
      "                                                                 \n",
      " conv1d_1 (Conv1D)           (None, 667, 64)           1088      \n",
      "                                                                 \n",
      " max_pooling1d_1 (MaxPooling  (None, 10, 64)           0         \n",
      " 1D)                                                             \n",
      "                                                                 \n",
      " dropout_1 (Dropout)         (None, 10, 64)            0         \n",
      "                                                                 \n",
      " flatten_1 (Flatten)         (None, 640)               0         \n",
      "                                                                 \n",
      " dense_1 (Dense)             (None, 64)                41024     \n",
      "                                                                 \n",
      " activation_1 (Activation)   (None, 64)                0         \n",
      "                                                                 \n",
      " predictions (Dense)         (None, 5)                 325       \n",
      "                                                                 \n",
      "=================================================================\n",
      "Total params: 42,437\n",
      "Trainable params: 42,437\n",
      "Non-trainable params: 0\n",
      "_________________________________________________________________\n"
     ]
    }
   ],
   "source": [
    "gene_classifier.summary()"
   ]
  },
  {
   "cell_type": "code",
   "execution_count": 15,
   "id": "51b13bf4",
   "metadata": {},
   "outputs": [
    {
     "data": {
      "image/png": "[encoded data removed]",
      "text/plain": [
       "<Figure size 864x720 with 1 Axes>"
      ]
     },
     "metadata": {
      "needs_background": "light"
     },
     "output_type": "display_data"
    }
   ],
   "source": [
    "gene_classifier.plot_metrics()"
   ]
  },
  {
   "cell_type": "code",
   "execution_count": 16,
   "id": "a371bfc7",
   "metadata": {},
   "outputs": [
    {
     "name": "stdout",
     "output_type": "stream",
     "text": [
      "20/20 [==============================] - 0s 4ms/step - loss: 0.3131 - sparse_categorical_accuracy: 0.9040\n"
     ]
    }
   ],
   "source": [
    "gene_classifier.evaluate()"
   ]
  },
  {
   "cell_type": "code",
   "execution_count": 17,
   "id": "4d147ee3",
   "metadata": {},
   "outputs": [
    {
     "name": "stdout",
     "output_type": "stream",
     "text": [
      "predict_class   bi  bias  poo    z\n",
      "class_names                       \n",
      "bi             229     6    0    1\n",
      "biased          17    77    0    1\n",
      "poo              0     0    9    0\n",
      "tarme            8     0    0    7\n",
      "z               13     7    0  250\n"
     ]
    }
   ],
   "source": [
    "gene_classifier.evaluate_classes()"
   ]
  },
  {
   "cell_type": "code",
   "execution_count": 18,
   "id": "4be9c80f",
   "metadata": {},
   "outputs": [],
   "source": [
    "# gene_classifier.predict_anndata()"
   ]
  },
  {
   "cell_type": "code",
   "execution_count": null,
   "id": "0ed1535f",
   "metadata": {},
   "outputs": [],
   "source": []
  },
  {
   "cell_type": "code",
   "execution_count": 19,
   "id": "5b902df4",
   "metadata": {},
   "outputs": [],
   "source": [
    "# bdata = gene_classifier.get_adata()"
   ]
  },
  {
   "cell_type": "code",
   "execution_count": 20,
   "id": "6837c1a6",
   "metadata": {},
   "outputs": [],
   "source": [
    "# pd.crosstab(bdata.var.class_names, bdata.var.predicted_class)"
   ]
  },
  {
   "cell_type": "code",
   "execution_count": 21,
   "id": "a6976935",
   "metadata": {},
   "outputs": [
    {
     "ename": "NameError",
     "evalue": "name 'bdata' is not defined",
     "output_type": "error",
     "traceback": [
      "\u001b[1;31m---------------------------------------------------------------------------\u001b[0m",
      "\u001b[1;31mNameError\u001b[0m                                 Traceback (most recent call last)",
      "Input \u001b[1;32mIn [21]\u001b[0m, in \u001b[0;36m<cell line: 2>\u001b[1;34m()\u001b[0m\n\u001b[0;32m      1\u001b[0m \u001b[38;5;28;01mimport\u001b[39;00m \u001b[38;5;21;01mnumpy\u001b[39;00m \u001b[38;5;28;01mas\u001b[39;00m \u001b[38;5;21;01mnp\u001b[39;00m\n\u001b[1;32m----> 2\u001b[0m spliced_data \u001b[38;5;241m=\u001b[39m \u001b[43mbdata\u001b[49m\u001b[38;5;241m.\u001b[39mto_df(layer\u001b[38;5;241m=\u001b[39m\u001b[38;5;124m\"\u001b[39m\u001b[38;5;124mspliced\u001b[39m\u001b[38;5;124m\"\u001b[39m)\u001b[38;5;241m.\u001b[39mtranspose()\n\u001b[0;32m      3\u001b[0m unspliced_data \u001b[38;5;241m=\u001b[39m bdata\u001b[38;5;241m.\u001b[39mto_df(layer\u001b[38;5;241m=\u001b[39m\u001b[38;5;124m\"\u001b[39m\u001b[38;5;124munspliced\u001b[39m\u001b[38;5;124m\"\u001b[39m)\u001b[38;5;241m.\u001b[39mtranspose()\n\u001b[0;32m      4\u001b[0m max_count_allele_1 \u001b[38;5;241m=\u001b[39m []\n",
      "\u001b[1;31mNameError\u001b[0m: name 'bdata' is not defined"
     ]
    }
   ],
   "source": [
    "import numpy as np\n",
    "spliced_data = bdata.to_df(layer=\"spliced\").transpose()\n",
    "unspliced_data = bdata.to_df(layer=\"unspliced\").transpose()\n",
    "max_count_allele_1 = []\n",
    "max_count_allele_2 = []\n",
    "for x in bdata.var.index:\n",
    "    max_count_allele_1.append(np.max(spliced_data.loc[x]))\n",
    "    max_count_allele_2.append(np.max(unspliced_data.loc[x]))\n",
    "    \n",
    "bdata.var['max_count_allele_1'] = max_count_allele_1\n",
    "bdata.var['max_count_allele_2'] = max_count_allele_2"
   ]
  },
  {
   "cell_type": "code",
   "execution_count": null,
   "id": "61da62ad",
   "metadata": {},
   "outputs": [],
   "source": [
    "# bdata.var"
   ]
  },
  {
   "cell_type": "code",
   "execution_count": null,
   "id": "3b868623",
   "metadata": {},
   "outputs": [],
   "source": [
    "# bdata.write('data/adata_5_classes_2.h5ad')"
   ]
  },
  {
   "cell_type": "code",
   "execution_count": null,
   "id": "242473d0",
   "metadata": {},
   "outputs": [],
   "source": [
    "# test = bdata.var[bdata.var['predicted_class']=='tarme']\n",
    "# test"
   ]
  },
  {
   "cell_type": "code",
   "execution_count": null,
   "id": "7e13e0cb",
   "metadata": {},
   "outputs": [],
   "source": [
    "# for x in test.index:\n",
    "#     utils.scatter_plot(bdata, x, xlabel='C57', ylabel='CAST')"
   ]
  },
  {
   "cell_type": "code",
   "execution_count": null,
   "id": "1f697200",
   "metadata": {},
   "outputs": [],
   "source": [
    "# adata.obs['n_counts'] = adata.X.sum(1)\n",
    "# adata.var['UMI_counts_per_gene'] = adata.X.sum(0)\n",
    "\n",
    "# adata.obs['log_counts'] = np.log(adata.obs['n_counts'])\n",
    "# adata.var['UMI_log_counts_per_gene'] = np.log(adata.var['UMI_counts_per_gene'])"
   ]
  },
  {
   "cell_type": "code",
   "execution_count": null,
   "id": "ef947f88",
   "metadata": {},
   "outputs": [],
   "source": [
    "# sc.pl.scatter(adata, x='ratio_std_allele_1', y='UMI_log_counts_per_gene', color='class_label')"
   ]
  }
 ],
 "metadata": {
  "kernelspec": {
   "display_name": "Python 3 (ipykernel)",
   "language": "python",
   "name": "python3"
  },
  "language_info": {
   "codemirror_mode": {
    "name": "ipython",
    "version": 3
   },
   "file_extension": ".py",
   "mimetype": "text/x-python",
   "name": "python",
   "nbconvert_exporter": "python",
   "pygments_lexer": "ipython3",
   "version": "3.8.13"
  }
 },
 "nbformat": 4,
 "nbformat_minor": 5
}
