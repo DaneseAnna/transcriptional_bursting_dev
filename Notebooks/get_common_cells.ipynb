{
 "cells": [
  {
   "cell_type": "code",
   "execution_count": 1,
   "id": "7572960c",
   "metadata": {},
   "outputs": [],
   "source": [
    "import numpy as np\n",
    "import anndata as ad\n",
    "import pandas as pd\n",
    "import scanpy as sc\n",
    "import scvelo as scv"
   ]
  },
  {
   "cell_type": "code",
   "execution_count": 2,
   "id": "d0cd4bd1",
   "metadata": {},
   "outputs": [],
   "source": [
    "uc_c57=pd.read_csv(\"data_arme/F1_ref/umiSplit_c57.qc.csv\", index_col=0)"
   ]
  },
  {
   "cell_type": "code",
   "execution_count": 3,
   "id": "409ce050",
   "metadata": {},
   "outputs": [],
   "source": [
    "sandberg_cells = uc_c57.columns"
   ]
  },
  {
   "cell_type": "code",
   "execution_count": 4,
   "id": "56962b44",
   "metadata": {},
   "outputs": [],
   "source": [
    "adata = ad.read('data/mouse_dynam_all.h5ad')"
   ]
  },
  {
   "cell_type": "code",
   "execution_count": 5,
   "id": "d8dc4ff4",
   "metadata": {},
   "outputs": [],
   "source": [
    "reprocessed_cells = adata.obs.index"
   ]
  },
  {
   "cell_type": "code",
   "execution_count": 6,
   "id": "767b36ae",
   "metadata": {},
   "outputs": [
    {
     "data": {
      "text/plain": [
       "682"
      ]
     },
     "execution_count": 6,
     "metadata": {},
     "output_type": "execute_result"
    }
   ],
   "source": [
    "len(sandberg_cells)"
   ]
  },
  {
   "cell_type": "code",
   "execution_count": 7,
   "id": "ead31d1c",
   "metadata": {},
   "outputs": [
    {
     "data": {
      "text/plain": [
       "738"
      ]
     },
     "execution_count": 7,
     "metadata": {},
     "output_type": "execute_result"
    }
   ],
   "source": [
    "len(reprocessed_cells)"
   ]
  },
  {
   "cell_type": "code",
   "execution_count": 13,
   "id": "53e4bb36",
   "metadata": {},
   "outputs": [],
   "source": [
    "common_cells = reprocessed_cells.intersection(sandberg_cells)"
   ]
  },
  {
   "cell_type": "code",
   "execution_count": 14,
   "id": "868fad67",
   "metadata": {},
   "outputs": [
    {
     "data": {
      "text/plain": [
       "682"
      ]
     },
     "execution_count": 14,
     "metadata": {},
     "output_type": "execute_result"
    }
   ],
   "source": [
    "len(common_cells)"
   ]
  },
  {
   "cell_type": "code",
   "execution_count": 15,
   "id": "b82717f3",
   "metadata": {},
   "outputs": [
    {
     "data": {
      "text/plain": [
       "AnnData object with n_obs × n_vars = 738 × 14526\n",
       "    obs: 'plate', 'initial_size_spliced', 'initial_size_unspliced', 'initial_size', 'n_counts', 'velocity_self_transition', 'leiden', 'clusters'\n",
       "    var: 'Accession', 'Chromosome', 'End', 'Start', 'Strand', 'gene_count_corr', 'fit_r2', 'fit_alpha', 'fit_beta', 'fit_gamma', 'fit_t_', 'fit_scaling', 'fit_std_u', 'fit_std_s', 'fit_likelihood', 'fit_u0', 'fit_s0', 'fit_pval_steady', 'fit_steady_u', 'fit_steady_s', 'fit_variance', 'fit_alignment_scaling', 'velocity_genes'\n",
       "    uns: 'clusters_colors', 'leiden', 'neighbors', 'pca', 'plate_colors', 'recover_dynamics', 'umap', 'velocity_graph', 'velocity_graph_neg', 'velocity_params'\n",
       "    obsm: 'X_pca', 'X_umap', 'velocity_umap'\n",
       "    varm: 'PCs', 'loss'\n",
       "    layers: 'Ms', 'Mu', 'ambiguous', 'fit_t', 'fit_tau', 'fit_tau_', 'matrix', 'spanning', 'spliced', 'unspliced', 'velocity', 'velocity_u'\n",
       "    obsp: 'connectivities', 'distances'"
      ]
     },
     "execution_count": 15,
     "metadata": {},
     "output_type": "execute_result"
    }
   ],
   "source": [
    "adata"
   ]
  },
  {
   "cell_type": "code",
   "execution_count": 16,
   "id": "4ee50ea7",
   "metadata": {},
   "outputs": [],
   "source": [
    "adata._inplace_subset_obs(common_cells)"
   ]
  },
  {
   "cell_type": "code",
   "execution_count": 17,
   "id": "fa711398",
   "metadata": {},
   "outputs": [
    {
     "data": {
      "text/plain": [
       "AnnData object with n_obs × n_vars = 682 × 14526\n",
       "    obs: 'plate', 'initial_size_spliced', 'initial_size_unspliced', 'initial_size', 'n_counts', 'velocity_self_transition', 'leiden', 'clusters'\n",
       "    var: 'Accession', 'Chromosome', 'End', 'Start', 'Strand', 'gene_count_corr', 'fit_r2', 'fit_alpha', 'fit_beta', 'fit_gamma', 'fit_t_', 'fit_scaling', 'fit_std_u', 'fit_std_s', 'fit_likelihood', 'fit_u0', 'fit_s0', 'fit_pval_steady', 'fit_steady_u', 'fit_steady_s', 'fit_variance', 'fit_alignment_scaling', 'velocity_genes'\n",
       "    uns: 'clusters_colors', 'leiden', 'neighbors', 'pca', 'plate_colors', 'recover_dynamics', 'umap', 'velocity_graph', 'velocity_graph_neg', 'velocity_params'\n",
       "    obsm: 'X_pca', 'X_umap', 'velocity_umap'\n",
       "    varm: 'PCs', 'loss'\n",
       "    layers: 'Ms', 'Mu', 'ambiguous', 'fit_t', 'fit_tau', 'fit_tau_', 'matrix', 'spanning', 'spliced', 'unspliced', 'velocity', 'velocity_u'\n",
       "    obsp: 'connectivities', 'distances'"
      ]
     },
     "execution_count": 17,
     "metadata": {},
     "output_type": "execute_result"
    }
   ],
   "source": [
    "adata"
   ]
  },
  {
   "cell_type": "code",
   "execution_count": 19,
   "id": "b33dd2cd",
   "metadata": {},
   "outputs": [],
   "source": [
    "adata.write('data/mouse_dynam_682.h5ad')"
   ]
  },
  {
   "cell_type": "code",
   "execution_count": null,
   "id": "b17e3bd1",
   "metadata": {},
   "outputs": [],
   "source": []
  }
 ],
 "metadata": {
  "kernelspec": {
   "display_name": "Python 3 (ipykernel)",
   "language": "python",
   "name": "python3"
  },
  "language_info": {
   "codemirror_mode": {
    "name": "ipython",
    "version": 3
   },
   "file_extension": ".py",
   "mimetype": "text/x-python",
   "name": "python",
   "nbconvert_exporter": "python",
   "pygments_lexer": "ipython3",
   "version": "3.9.5"
  }
 },
 "nbformat": 4,
 "nbformat_minor": 5
}
