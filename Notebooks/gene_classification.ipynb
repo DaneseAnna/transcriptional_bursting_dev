{
 "cells": [
  {
   "cell_type": "code",
   "execution_count": 1,
   "id": "ce4a5908",
   "metadata": {},
   "outputs": [],
   "source": [
    "import test.gene_classifier as classifier\n",
    "import scanpy as sc"
   ]
  },
  {
   "cell_type": "code",
   "execution_count": 2,
   "id": "74d0877f",
   "metadata": {},
   "outputs": [],
   "source": [
    "adata = sc.read_h5ad('data/test_classifier.h5ad')"
   ]
  },
  {
   "cell_type": "code",
   "execution_count": 3,
   "id": "ad0dcc4a",
   "metadata": {},
   "outputs": [],
   "source": [
    "gene_classifier = classifier.GeneClassifier(adata)"
   ]
  },
  {
   "cell_type": "code",
   "execution_count": 4,
   "id": "ae9837b0",
   "metadata": {},
   "outputs": [
    {
     "data": {
      "text/plain": [
       "<test.gene_classifier.GeneClassifier at 0x296e94f4fa0>"
      ]
     },
     "execution_count": 4,
     "metadata": {},
     "output_type": "execute_result"
    }
   ],
   "source": [
    "gene_classifier"
   ]
  },
  {
   "cell_type": "code",
   "execution_count": 5,
   "id": "0228c038",
   "metadata": {},
   "outputs": [],
   "source": [
    "gene_classifier.label_data()"
   ]
  },
  {
   "cell_type": "code",
   "execution_count": 6,
   "id": "8c0aa96d",
   "metadata": {},
   "outputs": [],
   "source": [
    "gene_classifier.get_aggregate_value()"
   ]
  },
  {
   "cell_type": "code",
   "execution_count": 7,
   "id": "7acf7fe7",
   "metadata": {},
   "outputs": [],
   "source": [
    "gene_classifier.generate_train_test_set()"
   ]
  },
  {
   "cell_type": "code",
   "execution_count": 8,
   "id": "897a20ed",
   "metadata": {},
   "outputs": [],
   "source": [
    "gene_classifier.generate_train_features()"
   ]
  },
  {
   "cell_type": "code",
   "execution_count": 9,
   "id": "a5bddfee",
   "metadata": {},
   "outputs": [],
   "source": [
    "gene_classifier.generate_test_features()"
   ]
  },
  {
   "cell_type": "code",
   "execution_count": 10,
   "id": "9f20c994",
   "metadata": {},
   "outputs": [],
   "source": [
    "# gene_classifier.get_initial_bias()"
   ]
  },
  {
   "cell_type": "code",
   "execution_count": 11,
   "id": "80603c23",
   "metadata": {},
   "outputs": [],
   "source": [
    "# gene_classifier.make_model()"
   ]
  },
  {
   "cell_type": "code",
   "execution_count": 12,
   "id": "8acc8861",
   "metadata": {},
   "outputs": [],
   "source": [
    "gene_classifier.build_model(load_model=True)"
   ]
  },
  {
   "cell_type": "code",
   "execution_count": 13,
   "id": "51b13bf4",
   "metadata": {},
   "outputs": [
    {
     "name": "stdout",
     "output_type": "stream",
     "text": [
      "Training history not found. Possibly the model was not trained or a pretrained model was loaded to the system\n"
     ]
    }
   ],
   "source": [
    "gene_classifier.plot_metrics()"
   ]
  },
  {
   "cell_type": "code",
   "execution_count": 14,
   "id": "a371bfc7",
   "metadata": {},
   "outputs": [
    {
     "name": "stdout",
     "output_type": "stream",
     "text": [
      "10/10 [==============================] - 0s 4ms/step - loss: 0.6485 - sparse_categorical_accuracy: 0.7781\n"
     ]
    }
   ],
   "source": [
    "gene_classifier.evaluate()"
   ]
  },
  {
   "cell_type": "code",
   "execution_count": 15,
   "id": "4d147ee3",
   "metadata": {},
   "outputs": [
    {
     "name": "stdout",
     "output_type": "stream",
     "text": [
      "predict_class    0  1   2    3\n",
      "class_label                   \n",
      "0              105  0   0   11\n",
      "1                0  4   0    0\n",
      "2                8  0  23   26\n",
      "3               17  0   7  110\n"
     ]
    }
   ],
   "source": [
    "gene_classifier.evaluate_classes()"
   ]
  }
 ],
 "metadata": {
  "kernelspec": {
   "display_name": "Python 3 (ipykernel)",
   "language": "python",
   "name": "python3"
  },
  "language_info": {
   "codemirror_mode": {
    "name": "ipython",
    "version": 3
   },
   "file_extension": ".py",
   "mimetype": "text/x-python",
   "name": "python",
   "nbconvert_exporter": "python",
   "pygments_lexer": "ipython3",
   "version": "3.8.13"
  }
 },
 "nbformat": 4,
 "nbformat_minor": 5
}
