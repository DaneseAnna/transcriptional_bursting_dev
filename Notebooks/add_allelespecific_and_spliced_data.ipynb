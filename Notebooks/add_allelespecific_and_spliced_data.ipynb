{
 "cells": [
  {
   "cell_type": "code",
   "execution_count": 13,
   "id": "03f95d27",
   "metadata": {},
   "outputs": [],
   "source": [
    "import numpy as np\n",
    "import pandas as pd\n",
    "import scvelo as scv\n",
    "import scanpy as sc\n",
    "import anndata as ad"
   ]
  },
  {
   "cell_type": "markdown",
   "id": "da98e910",
   "metadata": {},
   "source": [
    "# get spliced and unspliced counts"
   ]
  },
  {
   "cell_type": "code",
   "execution_count": 14,
   "id": "e704857f",
   "metadata": {},
   "outputs": [],
   "source": [
    "adata_1 = sc.read_loom(\"../data/processed/plate1_fibroblast.loom\", validate=False)\n",
    "adata_2 = sc.read_loom(\"../data/processed/plate2_fibroblast.loom\", validate=False)"
   ]
  },
  {
   "cell_type": "code",
   "execution_count": 15,
   "id": "869d8e49",
   "metadata": {},
   "outputs": [],
   "source": [
    "adata = scv.utils.merge(adata_1, adata_2, copy = True)\n",
    "temp = adata.var\n",
    "adata = ad.concat([adata, adata_1], join=\"inner\", label='plate')\n",
    "adata = ad.concat([adata, adata_2], join=\"inner\", label='plate')\n",
    "\n",
    "adata.var = temp"
   ]
  },
  {
   "cell_type": "code",
   "execution_count": 19,
   "id": "61105aeb",
   "metadata": {},
   "outputs": [
    {
     "data": {
      "text/plain": [
       "<738x37315 sparse matrix of type '<class 'numpy.float64'>'\n",
       "\twith 3477095 stored elements in Compressed Sparse Row format>"
      ]
     },
     "execution_count": 19,
     "metadata": {},
     "output_type": "execute_result"
    }
   ],
   "source": [
    "adata.layers['unspliced']"
   ]
  },
  {
   "cell_type": "code",
   "execution_count": 4,
   "id": "5704e652",
   "metadata": {},
   "outputs": [],
   "source": [
    "# adata.X = adata.layers['spliced'] + adata.layers['unspliced']\n",
    "\n",
    "adata.layers.total = adata.X.copy()"
   ]
  },
  {
   "cell_type": "markdown",
   "id": "5ea58a71",
   "metadata": {},
   "source": [
    "# get c57 and cast allele counts"
   ]
  },
  {
   "cell_type": "code",
   "execution_count": 5,
   "id": "b20c3c3f",
   "metadata": {},
   "outputs": [],
   "source": [
    "UMI_c57 = pd.read_csv('../data/arme/umiSplit_c57.qc.csv', index_col=0)\n",
    "UMI_cast = pd.read_csv('../data/arme/umiSplit_cast.qc.csv', index_col=0)"
   ]
  },
  {
   "cell_type": "markdown",
   "id": "957e0aeb",
   "metadata": {},
   "source": [
    "# get velo params dataframe for alleles (from arme)"
   ]
  },
  {
   "cell_type": "code",
   "execution_count": 6,
   "id": "1a7b3b4c",
   "metadata": {},
   "outputs": [],
   "source": [
    "c57_genes_with_params = pd.read_csv(\"../data/arme/umiSplit_c57.qc.maxl.ci.wfilt1.csv\", index_col=0)\n",
    "cast_genes_with_params = pd.read_csv(\"../data/arme/umiSplit_cast.qc.maxl.ci.wfilt1.csv\", index_col=0)"
   ]
  },
  {
   "cell_type": "markdown",
   "id": "3f57b353",
   "metadata": {},
   "source": [
    "# get common cells (682)"
   ]
  },
  {
   "cell_type": "code",
   "execution_count": 7,
   "id": "85356b92",
   "metadata": {},
   "outputs": [],
   "source": [
    "UMI_c57_cells = UMI_c57.columns\n",
    "UMI_cast_cells = UMI_cast.columns\n",
    "reprocessed_loom_file_cells = adata.obs.index\n",
    "\n",
    "common_cells = (UMI_c57_cells.intersection(UMI_cast_cells)).intersection(reprocessed_loom_file_cells)"
   ]
  },
  {
   "cell_type": "code",
   "execution_count": 8,
   "id": "a0216511",
   "metadata": {},
   "outputs": [],
   "source": [
    "adata._inplace_subset_obs(common_cells)"
   ]
  },
  {
   "cell_type": "markdown",
   "id": "0c7f5487",
   "metadata": {},
   "source": [
    "# get common genes (7439)"
   ]
  },
  {
   "cell_type": "code",
   "execution_count": 9,
   "id": "4c7525bb",
   "metadata": {},
   "outputs": [],
   "source": [
    "# induce from the genes list having param values (in arme)\n",
    "common_genes_with_param =  (cast_genes_with_params.index).intersection(c57_genes_with_params.index)\n",
    "common_genes = common_genes_with_param.intersection(adata.var['Accession'])\n",
    "common_genes_index_list = adata.var[adata.var['Accession'].isin(list(common_genes))]\n",
    "\n",
    "adata._inplace_subset_var(common_genes_index_list.index)"
   ]
  },
  {
   "cell_type": "code",
   "execution_count": 10,
   "id": "f8fc4039",
   "metadata": {},
   "outputs": [],
   "source": [
    "UMI_c57_with_common_genes = UMI_c57[UMI_c57.index.isin(list(common_genes))]\n",
    "UMI_cast_with_common_genes = UMI_cast[UMI_cast.index.isin(list(common_genes))]\n",
    "\n",
    "UMI_c57_T = UMI_c57_with_common_genes.transpose(copy=True)\n",
    "UMI_cast_T = UMI_cast_with_common_genes.transpose(copy=True)\n",
    "\n",
    "\n",
    "adata.layers['allele_c57'] = UMI_c57_T\n",
    "adata.layers['allele_cast'] = UMI_cast_T"
   ]
  },
  {
   "cell_type": "code",
   "execution_count": 11,
   "id": "7880a76a",
   "metadata": {},
   "outputs": [
    {
     "data": {
      "text/plain": [
       "AnnData object with n_obs × n_vars = 682 × 7439\n",
       "    obs: 'plate'\n",
       "    var: 'Accession', 'Chromosome', 'End', 'Start', 'Strand'\n",
       "    layers: 'matrix', 'ambiguous', 'spanning', 'spliced', 'unspliced', 'total', 'allele_c57', 'allele_cast'"
      ]
     },
     "execution_count": 11,
     "metadata": {},
     "output_type": "execute_result"
    }
   ],
   "source": [
    "adata"
   ]
  },
  {
   "cell_type": "code",
   "execution_count": 12,
   "id": "808fb32f",
   "metadata": {},
   "outputs": [],
   "source": [
    "adata.write('../data/processed/mus_musculus_682_cells_7439_genes.h5ad')"
   ]
  }
 ],
 "metadata": {
  "kernelspec": {
   "display_name": "Python 3 (ipykernel)",
   "language": "python",
   "name": "python3"
  },
  "language_info": {
   "codemirror_mode": {
    "name": "ipython",
    "version": 3
   },
   "file_extension": ".py",
   "mimetype": "text/x-python",
   "name": "python",
   "nbconvert_exporter": "python",
   "pygments_lexer": "ipython3",
   "version": "3.8.13"
  }
 },
 "nbformat": 4,
 "nbformat_minor": 5
}
