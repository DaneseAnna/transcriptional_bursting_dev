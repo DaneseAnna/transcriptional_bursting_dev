{
 "cells": [
  {
   "cell_type": "code",
   "execution_count": 1,
   "id": "042be193",
   "metadata": {},
   "outputs": [],
   "source": [
    "import numpy as np\n",
    "import anndata as ad\n",
    "import pandas as pd\n",
    "import scanpy as sc\n",
    "import scvelo as scv"
   ]
  },
  {
   "cell_type": "code",
   "execution_count": 2,
   "id": "9f9b9045",
   "metadata": {},
   "outputs": [],
   "source": [
    "cast_genes_with_params = pd.read_csv(\"data_arme/F1_ref/umiSplit_cast.qc.maxl.ci.wfilt1.csv\", index_col=0)"
   ]
  },
  {
   "cell_type": "code",
   "execution_count": 3,
   "id": "9f4e4fef",
   "metadata": {},
   "outputs": [
    {
     "data": {
      "text/plain": [
       "9069"
      ]
     },
     "execution_count": 3,
     "metadata": {},
     "output_type": "execute_result"
    }
   ],
   "source": [
    "len(cast_genes_with_params)"
   ]
  },
  {
   "cell_type": "code",
   "execution_count": 4,
   "id": "84c7c4b0",
   "metadata": {},
   "outputs": [],
   "source": [
    "c57_genes_with_params = pd.read_csv(\"data_arme/F1_ref/umiSplit_c57.qc.maxl.ci.wfilt1.csv\", index_col=0)"
   ]
  },
  {
   "cell_type": "code",
   "execution_count": 5,
   "id": "9dc3330f",
   "metadata": {},
   "outputs": [
    {
     "data": {
      "text/plain": [
       "9336"
      ]
     },
     "execution_count": 5,
     "metadata": {},
     "output_type": "execute_result"
    }
   ],
   "source": [
    "len(c57_genes_with_params)"
   ]
  },
  {
   "cell_type": "code",
   "execution_count": 6,
   "id": "3ee22e20",
   "metadata": {},
   "outputs": [],
   "source": [
    "common_genes_with_param =  (cast_genes_with_params.index).intersection(c57_genes_with_params.index)"
   ]
  },
  {
   "cell_type": "code",
   "execution_count": 7,
   "id": "15ac45ef",
   "metadata": {},
   "outputs": [
    {
     "data": {
      "text/plain": [
       "7605"
      ]
     },
     "execution_count": 7,
     "metadata": {},
     "output_type": "execute_result"
    }
   ],
   "source": [
    "len(common_genes_with_param)"
   ]
  },
  {
   "cell_type": "code",
   "execution_count": 10,
   "id": "053fc26d",
   "metadata": {},
   "outputs": [],
   "source": [
    "adata = ad.read('data/mouse_dynam_682.h5ad')"
   ]
  },
  {
   "cell_type": "code",
   "execution_count": 11,
   "id": "8368ea16",
   "metadata": {},
   "outputs": [
    {
     "data": {
      "text/plain": [
       "AnnData object with n_obs × n_vars = 682 × 14526\n",
       "    obs: 'plate', 'initial_size_spliced', 'initial_size_unspliced', 'initial_size', 'n_counts', 'velocity_self_transition', 'leiden', 'clusters'\n",
       "    var: 'Accession', 'Chromosome', 'End', 'Start', 'Strand', 'gene_count_corr', 'fit_r2', 'fit_alpha', 'fit_beta', 'fit_gamma', 'fit_t_', 'fit_scaling', 'fit_std_u', 'fit_std_s', 'fit_likelihood', 'fit_u0', 'fit_s0', 'fit_pval_steady', 'fit_steady_u', 'fit_steady_s', 'fit_variance', 'fit_alignment_scaling', 'velocity_genes'\n",
       "    uns: 'clusters_colors', 'leiden', 'neighbors', 'pca', 'plate_colors', 'recover_dynamics', 'umap', 'velocity_graph', 'velocity_graph_neg', 'velocity_params'\n",
       "    obsm: 'X_pca', 'X_umap', 'velocity_umap'\n",
       "    varm: 'PCs', 'loss'\n",
       "    layers: 'Ms', 'Mu', 'ambiguous', 'fit_t', 'fit_tau', 'fit_tau_', 'matrix', 'spanning', 'spliced', 'unspliced', 'velocity', 'velocity_u'\n",
       "    obsp: 'connectivities', 'distances'"
      ]
     },
     "execution_count": 11,
     "metadata": {},
     "output_type": "execute_result"
    }
   ],
   "source": [
    "adata"
   ]
  },
  {
   "cell_type": "code",
   "execution_count": null,
   "id": "9c4d1e9d",
   "metadata": {},
   "outputs": [],
   "source": []
  },
  {
   "cell_type": "code",
   "execution_count": 16,
   "id": "21e84c29",
   "metadata": {},
   "outputs": [],
   "source": [
    "common_genes = common_genes_with_param.intersection(adata.var['Accession'])"
   ]
  },
  {
   "cell_type": "code",
   "execution_count": 17,
   "id": "e059dc0a",
   "metadata": {},
   "outputs": [
    {
     "data": {
      "text/plain": [
       "7119"
      ]
     },
     "execution_count": 17,
     "metadata": {},
     "output_type": "execute_result"
    }
   ],
   "source": [
    "len(common_genes)"
   ]
  },
  {
   "cell_type": "code",
   "execution_count": 23,
   "id": "5f7fc6f4",
   "metadata": {},
   "outputs": [
    {
     "data": {
      "text/html": [
       "<div>\n",
       "<style scoped>\n",
       "    .dataframe tbody tr th:only-of-type {\n",
       "        vertical-align: middle;\n",
       "    }\n",
       "\n",
       "    .dataframe tbody tr th {\n",
       "        vertical-align: top;\n",
       "    }\n",
       "\n",
       "    .dataframe thead th {\n",
       "        text-align: right;\n",
       "    }\n",
       "</style>\n",
       "<table border=\"1\" class=\"dataframe\">\n",
       "  <thead>\n",
       "    <tr style=\"text-align: right;\">\n",
       "      <th></th>\n",
       "      <th>Accession</th>\n",
       "      <th>Chromosome</th>\n",
       "      <th>End</th>\n",
       "      <th>Start</th>\n",
       "      <th>Strand</th>\n",
       "      <th>gene_count_corr</th>\n",
       "      <th>fit_r2</th>\n",
       "      <th>fit_alpha</th>\n",
       "      <th>fit_beta</th>\n",
       "      <th>fit_gamma</th>\n",
       "      <th>...</th>\n",
       "      <th>fit_std_s</th>\n",
       "      <th>fit_likelihood</th>\n",
       "      <th>fit_u0</th>\n",
       "      <th>fit_s0</th>\n",
       "      <th>fit_pval_steady</th>\n",
       "      <th>fit_steady_u</th>\n",
       "      <th>fit_steady_s</th>\n",
       "      <th>fit_variance</th>\n",
       "      <th>fit_alignment_scaling</th>\n",
       "      <th>velocity_genes</th>\n",
       "    </tr>\n",
       "    <tr>\n",
       "      <th>Gene</th>\n",
       "      <th></th>\n",
       "      <th></th>\n",
       "      <th></th>\n",
       "      <th></th>\n",
       "      <th></th>\n",
       "      <th></th>\n",
       "      <th></th>\n",
       "      <th></th>\n",
       "      <th></th>\n",
       "      <th></th>\n",
       "      <th></th>\n",
       "      <th></th>\n",
       "      <th></th>\n",
       "      <th></th>\n",
       "      <th></th>\n",
       "      <th></th>\n",
       "      <th></th>\n",
       "      <th></th>\n",
       "      <th></th>\n",
       "      <th></th>\n",
       "      <th></th>\n",
       "    </tr>\n",
       "  </thead>\n",
       "  <tbody>\n",
       "    <tr>\n",
       "      <th>Mrpl15</th>\n",
       "      <td>ENSMUSG00000033845</td>\n",
       "      <td>1</td>\n",
       "      <td>4785739</td>\n",
       "      <td>4773206</td>\n",
       "      <td>-</td>\n",
       "      <td>NaN</td>\n",
       "      <td>0.245010</td>\n",
       "      <td>89.092629</td>\n",
       "      <td>8.433143</td>\n",
       "      <td>0.197737</td>\n",
       "      <td>...</td>\n",
       "      <td>60.721760</td>\n",
       "      <td>0.256305</td>\n",
       "      <td>0.0</td>\n",
       "      <td>0.0</td>\n",
       "      <td>0.499407</td>\n",
       "      <td>8.715617</td>\n",
       "      <td>347.667693</td>\n",
       "      <td>0.875351</td>\n",
       "      <td>2.299510</td>\n",
       "      <td>False</td>\n",
       "    </tr>\n",
       "    <tr>\n",
       "      <th>Cops5</th>\n",
       "      <td>ENSMUSG00000025917</td>\n",
       "      <td>1</td>\n",
       "      <td>10038127</td>\n",
       "      <td>10024602</td>\n",
       "      <td>-</td>\n",
       "      <td>NaN</td>\n",
       "      <td>0.029845</td>\n",
       "      <td>86.874730</td>\n",
       "      <td>6.490320</td>\n",
       "      <td>0.059127</td>\n",
       "      <td>...</td>\n",
       "      <td>93.114578</td>\n",
       "      <td>0.239730</td>\n",
       "      <td>0.0</td>\n",
       "      <td>0.0</td>\n",
       "      <td>0.499730</td>\n",
       "      <td>9.785717</td>\n",
       "      <td>1295.726725</td>\n",
       "      <td>1.006165</td>\n",
       "      <td>4.639577</td>\n",
       "      <td>False</td>\n",
       "    </tr>\n",
       "    <tr>\n",
       "      <th>Arfgef1</th>\n",
       "      <td>ENSMUSG00000067851</td>\n",
       "      <td>1</td>\n",
       "      <td>10232670</td>\n",
       "      <td>10137571</td>\n",
       "      <td>-</td>\n",
       "      <td>NaN</td>\n",
       "      <td>0.352237</td>\n",
       "      <td>47.545827</td>\n",
       "      <td>0.508188</td>\n",
       "      <td>0.175383</td>\n",
       "      <td>...</td>\n",
       "      <td>20.790575</td>\n",
       "      <td>0.229089</td>\n",
       "      <td>0.0</td>\n",
       "      <td>0.0</td>\n",
       "      <td>0.496747</td>\n",
       "      <td>77.401961</td>\n",
       "      <td>207.845293</td>\n",
       "      <td>1.114706</td>\n",
       "      <td>3.267649</td>\n",
       "      <td>True</td>\n",
       "    </tr>\n",
       "    <tr>\n",
       "      <th>Tram1</th>\n",
       "      <td>ENSMUSG00000025935</td>\n",
       "      <td>1</td>\n",
       "      <td>13589864</td>\n",
       "      <td>13564702</td>\n",
       "      <td>-</td>\n",
       "      <td>NaN</td>\n",
       "      <td>0.306486</td>\n",
       "      <td>65.999971</td>\n",
       "      <td>1.348508</td>\n",
       "      <td>0.165782</td>\n",
       "      <td>...</td>\n",
       "      <td>38.631401</td>\n",
       "      <td>0.223699</td>\n",
       "      <td>0.0</td>\n",
       "      <td>0.0</td>\n",
       "      <td>0.498622</td>\n",
       "      <td>40.189846</td>\n",
       "      <td>292.259402</td>\n",
       "      <td>1.215011</td>\n",
       "      <td>3.387452</td>\n",
       "      <td>True</td>\n",
       "    </tr>\n",
       "    <tr>\n",
       "      <th>Lactb2</th>\n",
       "      <td>ENSMUSG00000025937</td>\n",
       "      <td>1</td>\n",
       "      <td>13660546</td>\n",
       "      <td>13624845</td>\n",
       "      <td>-</td>\n",
       "      <td>NaN</td>\n",
       "      <td>-1.179060</td>\n",
       "      <td>NaN</td>\n",
       "      <td>NaN</td>\n",
       "      <td>NaN</td>\n",
       "      <td>...</td>\n",
       "      <td>NaN</td>\n",
       "      <td>NaN</td>\n",
       "      <td>NaN</td>\n",
       "      <td>NaN</td>\n",
       "      <td>NaN</td>\n",
       "      <td>NaN</td>\n",
       "      <td>NaN</td>\n",
       "      <td>NaN</td>\n",
       "      <td>NaN</td>\n",
       "      <td>False</td>\n",
       "    </tr>\n",
       "    <tr>\n",
       "      <th>...</th>\n",
       "      <td>...</td>\n",
       "      <td>...</td>\n",
       "      <td>...</td>\n",
       "      <td>...</td>\n",
       "      <td>...</td>\n",
       "      <td>...</td>\n",
       "      <td>...</td>\n",
       "      <td>...</td>\n",
       "      <td>...</td>\n",
       "      <td>...</td>\n",
       "      <td>...</td>\n",
       "      <td>...</td>\n",
       "      <td>...</td>\n",
       "      <td>...</td>\n",
       "      <td>...</td>\n",
       "      <td>...</td>\n",
       "      <td>...</td>\n",
       "      <td>...</td>\n",
       "      <td>...</td>\n",
       "      <td>...</td>\n",
       "      <td>...</td>\n",
       "    </tr>\n",
       "    <tr>\n",
       "      <th>Kif15</th>\n",
       "      <td>ENSMUSG00000036768</td>\n",
       "      <td>9</td>\n",
       "      <td>123018725</td>\n",
       "      <td>122951081</td>\n",
       "      <td>+</td>\n",
       "      <td>NaN</td>\n",
       "      <td>0.646532</td>\n",
       "      <td>47.727543</td>\n",
       "      <td>0.642637</td>\n",
       "      <td>0.481324</td>\n",
       "      <td>...</td>\n",
       "      <td>28.845345</td>\n",
       "      <td>0.512226</td>\n",
       "      <td>0.0</td>\n",
       "      <td>0.0</td>\n",
       "      <td>0.499698</td>\n",
       "      <td>64.557883</td>\n",
       "      <td>72.922605</td>\n",
       "      <td>0.182808</td>\n",
       "      <td>1.531682</td>\n",
       "      <td>True</td>\n",
       "    </tr>\n",
       "    <tr>\n",
       "      <th>Exosc7</th>\n",
       "      <td>ENSMUSG00000025785</td>\n",
       "      <td>9</td>\n",
       "      <td>123136129</td>\n",
       "      <td>123113215</td>\n",
       "      <td>+</td>\n",
       "      <td>NaN</td>\n",
       "      <td>0.180981</td>\n",
       "      <td>237.532262</td>\n",
       "      <td>12.889256</td>\n",
       "      <td>0.536921</td>\n",
       "      <td>...</td>\n",
       "      <td>91.478416</td>\n",
       "      <td>0.313584</td>\n",
       "      <td>0.0</td>\n",
       "      <td>0.0</td>\n",
       "      <td>0.499756</td>\n",
       "      <td>13.222747</td>\n",
       "      <td>438.417973</td>\n",
       "      <td>0.557635</td>\n",
       "      <td>1.764227</td>\n",
       "      <td>False</td>\n",
       "    </tr>\n",
       "    <tr>\n",
       "      <th>Lars2</th>\n",
       "      <td>ENSMUSG00000035202</td>\n",
       "      <td>9</td>\n",
       "      <td>123462664</td>\n",
       "      <td>123366940</td>\n",
       "      <td>+</td>\n",
       "      <td>NaN</td>\n",
       "      <td>-0.422694</td>\n",
       "      <td>NaN</td>\n",
       "      <td>NaN</td>\n",
       "      <td>NaN</td>\n",
       "      <td>...</td>\n",
       "      <td>NaN</td>\n",
       "      <td>NaN</td>\n",
       "      <td>NaN</td>\n",
       "      <td>NaN</td>\n",
       "      <td>NaN</td>\n",
       "      <td>NaN</td>\n",
       "      <td>NaN</td>\n",
       "      <td>NaN</td>\n",
       "      <td>NaN</td>\n",
       "      <td>False</td>\n",
       "    </tr>\n",
       "    <tr>\n",
       "      <th>Sacm1l</th>\n",
       "      <td>ENSMUSG00000025240</td>\n",
       "      <td>9</td>\n",
       "      <td>123592598</td>\n",
       "      <td>123529882</td>\n",
       "      <td>+</td>\n",
       "      <td>NaN</td>\n",
       "      <td>0.445650</td>\n",
       "      <td>65.768986</td>\n",
       "      <td>1.148907</td>\n",
       "      <td>0.184513</td>\n",
       "      <td>...</td>\n",
       "      <td>33.649559</td>\n",
       "      <td>0.256397</td>\n",
       "      <td>0.0</td>\n",
       "      <td>0.0</td>\n",
       "      <td>0.498267</td>\n",
       "      <td>44.197535</td>\n",
       "      <td>234.798383</td>\n",
       "      <td>0.876948</td>\n",
       "      <td>3.787071</td>\n",
       "      <td>True</td>\n",
       "    </tr>\n",
       "    <tr>\n",
       "      <th>Mid1</th>\n",
       "      <td>ENSMUSG00000035299</td>\n",
       "      <td>X</td>\n",
       "      <td>170005736</td>\n",
       "      <td>169685199</td>\n",
       "      <td>+</td>\n",
       "      <td>NaN</td>\n",
       "      <td>0.936955</td>\n",
       "      <td>21.905070</td>\n",
       "      <td>0.012414</td>\n",
       "      <td>0.231560</td>\n",
       "      <td>...</td>\n",
       "      <td>20.686947</td>\n",
       "      <td>0.427777</td>\n",
       "      <td>0.0</td>\n",
       "      <td>0.0</td>\n",
       "      <td>0.498503</td>\n",
       "      <td>1509.371645</td>\n",
       "      <td>63.642309</td>\n",
       "      <td>0.295439</td>\n",
       "      <td>3.449858</td>\n",
       "      <td>False</td>\n",
       "    </tr>\n",
       "  </tbody>\n",
       "</table>\n",
       "<p>7119 rows × 23 columns</p>\n",
       "</div>"
      ],
      "text/plain": [
       "                  Accession Chromosome        End      Start Strand  \\\n",
       "Gene                                                                  \n",
       "Mrpl15   ENSMUSG00000033845          1    4785739    4773206      -   \n",
       "Cops5    ENSMUSG00000025917          1   10038127   10024602      -   \n",
       "Arfgef1  ENSMUSG00000067851          1   10232670   10137571      -   \n",
       "Tram1    ENSMUSG00000025935          1   13589864   13564702      -   \n",
       "Lactb2   ENSMUSG00000025937          1   13660546   13624845      -   \n",
       "...                     ...        ...        ...        ...    ...   \n",
       "Kif15    ENSMUSG00000036768          9  123018725  122951081      +   \n",
       "Exosc7   ENSMUSG00000025785          9  123136129  123113215      +   \n",
       "Lars2    ENSMUSG00000035202          9  123462664  123366940      +   \n",
       "Sacm1l   ENSMUSG00000025240          9  123592598  123529882      +   \n",
       "Mid1     ENSMUSG00000035299          X  170005736  169685199      +   \n",
       "\n",
       "         gene_count_corr    fit_r2   fit_alpha   fit_beta  fit_gamma  ...  \\\n",
       "Gene                                                                  ...   \n",
       "Mrpl15               NaN  0.245010   89.092629   8.433143   0.197737  ...   \n",
       "Cops5                NaN  0.029845   86.874730   6.490320   0.059127  ...   \n",
       "Arfgef1              NaN  0.352237   47.545827   0.508188   0.175383  ...   \n",
       "Tram1                NaN  0.306486   65.999971   1.348508   0.165782  ...   \n",
       "Lactb2               NaN -1.179060         NaN        NaN        NaN  ...   \n",
       "...                  ...       ...         ...        ...        ...  ...   \n",
       "Kif15                NaN  0.646532   47.727543   0.642637   0.481324  ...   \n",
       "Exosc7               NaN  0.180981  237.532262  12.889256   0.536921  ...   \n",
       "Lars2                NaN -0.422694         NaN        NaN        NaN  ...   \n",
       "Sacm1l               NaN  0.445650   65.768986   1.148907   0.184513  ...   \n",
       "Mid1                 NaN  0.936955   21.905070   0.012414   0.231560  ...   \n",
       "\n",
       "         fit_std_s  fit_likelihood  fit_u0  fit_s0  fit_pval_steady  \\\n",
       "Gene                                                                  \n",
       "Mrpl15   60.721760        0.256305     0.0     0.0         0.499407   \n",
       "Cops5    93.114578        0.239730     0.0     0.0         0.499730   \n",
       "Arfgef1  20.790575        0.229089     0.0     0.0         0.496747   \n",
       "Tram1    38.631401        0.223699     0.0     0.0         0.498622   \n",
       "Lactb2         NaN             NaN     NaN     NaN              NaN   \n",
       "...            ...             ...     ...     ...              ...   \n",
       "Kif15    28.845345        0.512226     0.0     0.0         0.499698   \n",
       "Exosc7   91.478416        0.313584     0.0     0.0         0.499756   \n",
       "Lars2          NaN             NaN     NaN     NaN              NaN   \n",
       "Sacm1l   33.649559        0.256397     0.0     0.0         0.498267   \n",
       "Mid1     20.686947        0.427777     0.0     0.0         0.498503   \n",
       "\n",
       "         fit_steady_u  fit_steady_s  fit_variance  fit_alignment_scaling  \\\n",
       "Gene                                                                       \n",
       "Mrpl15       8.715617    347.667693      0.875351               2.299510   \n",
       "Cops5        9.785717   1295.726725      1.006165               4.639577   \n",
       "Arfgef1     77.401961    207.845293      1.114706               3.267649   \n",
       "Tram1       40.189846    292.259402      1.215011               3.387452   \n",
       "Lactb2            NaN           NaN           NaN                    NaN   \n",
       "...               ...           ...           ...                    ...   \n",
       "Kif15       64.557883     72.922605      0.182808               1.531682   \n",
       "Exosc7      13.222747    438.417973      0.557635               1.764227   \n",
       "Lars2             NaN           NaN           NaN                    NaN   \n",
       "Sacm1l      44.197535    234.798383      0.876948               3.787071   \n",
       "Mid1      1509.371645     63.642309      0.295439               3.449858   \n",
       "\n",
       "         velocity_genes  \n",
       "Gene                     \n",
       "Mrpl15            False  \n",
       "Cops5             False  \n",
       "Arfgef1            True  \n",
       "Tram1              True  \n",
       "Lactb2            False  \n",
       "...                 ...  \n",
       "Kif15              True  \n",
       "Exosc7            False  \n",
       "Lars2             False  \n",
       "Sacm1l             True  \n",
       "Mid1              False  \n",
       "\n",
       "[7119 rows x 23 columns]"
      ]
     },
     "execution_count": 23,
     "metadata": {},
     "output_type": "execute_result"
    }
   ],
   "source": [
    "common_genes_index_list = adata.var[adata.var['Accession'].isin(list(common_genes))]\n",
    "common_genes_index_list"
   ]
  },
  {
   "cell_type": "code",
   "execution_count": 24,
   "id": "1b4dc017",
   "metadata": {},
   "outputs": [],
   "source": [
    "adata._inplace_subset_var(common_genes_index_list.index)"
   ]
  },
  {
   "cell_type": "code",
   "execution_count": 25,
   "id": "d867e5e9",
   "metadata": {},
   "outputs": [
    {
     "data": {
      "text/plain": [
       "AnnData object with n_obs × n_vars = 682 × 7119\n",
       "    obs: 'plate', 'initial_size_spliced', 'initial_size_unspliced', 'initial_size', 'n_counts', 'velocity_self_transition', 'leiden', 'clusters'\n",
       "    var: 'Accession', 'Chromosome', 'End', 'Start', 'Strand', 'gene_count_corr', 'fit_r2', 'fit_alpha', 'fit_beta', 'fit_gamma', 'fit_t_', 'fit_scaling', 'fit_std_u', 'fit_std_s', 'fit_likelihood', 'fit_u0', 'fit_s0', 'fit_pval_steady', 'fit_steady_u', 'fit_steady_s', 'fit_variance', 'fit_alignment_scaling', 'velocity_genes'\n",
       "    uns: 'clusters_colors', 'leiden', 'neighbors', 'pca', 'plate_colors', 'recover_dynamics', 'umap', 'velocity_graph', 'velocity_graph_neg', 'velocity_params'\n",
       "    obsm: 'X_pca', 'X_umap', 'velocity_umap'\n",
       "    varm: 'PCs', 'loss'\n",
       "    layers: 'Ms', 'Mu', 'ambiguous', 'fit_t', 'fit_tau', 'fit_tau_', 'matrix', 'spanning', 'spliced', 'unspliced', 'velocity', 'velocity_u'\n",
       "    obsp: 'connectivities', 'distances'"
      ]
     },
     "execution_count": 25,
     "metadata": {},
     "output_type": "execute_result"
    }
   ],
   "source": [
    "adata"
   ]
  },
  {
   "cell_type": "code",
   "execution_count": 26,
   "id": "0e9635d1",
   "metadata": {},
   "outputs": [],
   "source": [
    "adata.write('data/mouse_dynam_682_cells_7119_genes.h5ad')"
   ]
  },
  {
   "cell_type": "code",
   "execution_count": 27,
   "id": "93fba418",
   "metadata": {},
   "outputs": [
    {
     "data": {
      "text/plain": [
       "False"
      ]
     },
     "execution_count": 27,
     "metadata": {},
     "output_type": "execute_result"
    }
   ],
   "source": [
    "'ENSMUSG00000000171' in common_genes"
   ]
  },
  {
   "cell_type": "code",
   "execution_count": 28,
   "id": "21a09de0",
   "metadata": {},
   "outputs": [
    {
     "data": {
      "text/plain": [
       "False"
      ]
     },
     "execution_count": 28,
     "metadata": {},
     "output_type": "execute_result"
    }
   ],
   "source": [
    "'ENSMUSG00000000171' in cast_genes_with_params.index"
   ]
  },
  {
   "cell_type": "code",
   "execution_count": 29,
   "id": "7880e87b",
   "metadata": {},
   "outputs": [
    {
     "data": {
      "text/plain": [
       "False"
      ]
     },
     "execution_count": 29,
     "metadata": {},
     "output_type": "execute_result"
    }
   ],
   "source": [
    "'ENSMUSG00000000171' in c57_genes_with_params.index"
   ]
  },
  {
   "cell_type": "code",
   "execution_count": null,
   "id": "a9639db8",
   "metadata": {},
   "outputs": [],
   "source": []
  }
 ],
 "metadata": {
  "kernelspec": {
   "display_name": "Python 3 (ipykernel)",
   "language": "python",
   "name": "python3"
  },
  "language_info": {
   "codemirror_mode": {
    "name": "ipython",
    "version": 3
   },
   "file_extension": ".py",
   "mimetype": "text/x-python",
   "name": "python",
   "nbconvert_exporter": "python",
   "pygments_lexer": "ipython3",
   "version": "3.8.13"
  }
 },
 "nbformat": 4,
 "nbformat_minor": 5
}
