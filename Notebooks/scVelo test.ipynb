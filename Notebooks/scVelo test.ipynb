{
 "cells": [
  {
   "cell_type": "code",
   "execution_count": 1,
   "id": "d9eb1288",
   "metadata": {},
   "outputs": [],
   "source": [
    "import scanpy as sc\n",
    "import pandas as pd\n",
    "import numpy as np\n",
    "import anndata as ad\n",
    "import scipy as sp\n",
    "\n",
    "from test import utils,scv"
   ]
  },
  {
   "cell_type": "code",
   "execution_count": 2,
   "id": "6a540865",
   "metadata": {},
   "outputs": [],
   "source": [
    "# read UMI counts and params for c57 and cast viariants\n",
    "# UMI_c57 = pd.read_csv('data_arme/F1_ref/umiSplit_c57.qc.csv', index_col=0)\n",
    "# UMI_cast = pd.read_csv('data_arme/F1_ref/umiSplit_cast.qc.csv', index_col=0)\n",
    "\n",
    "# UMI = UMI_c57 + UMI_cast\n",
    "\n",
    "# # transpose to ge n_cells x n_genes shape\n",
    "# UMI_c57_T = UMI_c57.transpose(copy=True)\n",
    "# UMI_cast_T = UMI_cast.transpose(copy=True)\n",
    "# UMI_T = UMI.transpose(copy=True)\n",
    "\n",
    "# adata = ad.AnnData(UMI_T)\n",
    "# adata.layers['spliced'] = UMI_c57_T\n",
    "# adata.layers['unspliced'] = UMI_cast_T\n",
    "\n",
    "# gtf = pd.read_csv(\"data/Mus_musculus.GRCm38.102.chr.gtf\", sep='\\t', skiprows=5, header=None)\n",
    "# gtf.columns = ['chr', 'database', 'type', 'start', 'end', '.', 'strand', '.', 'other']\n",
    "# gtf = gtf[gtf['type'] == \"gene\"]\n",
    "# gtf = gtf.reset_index()\n",
    "\n",
    "# dic_gene_names = {}\n",
    "# index = 0\n",
    "# for line in gtf['other'].tolist():\n",
    "#     line = line.split(';')\n",
    "#     dic_gene_names[line[0][9:-1]]= [gtf['chr'][index], line[2][12:-1]]\n",
    "#     index += 1\n",
    "    \n",
    "# adata.var['gene_name'] = [dic_gene_names[x][1] if x in dic_gene_names.keys() else 'NA' for x in adata.var.index]\n",
    "# adata.var['chromosome'] = [dic_gene_names[x][0] if x in dic_gene_names.keys() else 'NA' for x in adata.var.index]\n",
    "\n",
    "\n",
    "# label = []\n",
    "# for chrom in adata.var['chromosome']:\n",
    "#     if chrom == \"X\":\n",
    "#         label.append('X')\n",
    "#     elif chrom == \"Y\":\n",
    "#         label.append('Y')\n",
    "#     else:\n",
    "#         label.append('autosome')\n",
    "# adata.var['autosomes'] = label\n",
    "\n",
    "# label = []\n",
    "# for chrom in adata.var['chromosome']:\n",
    "#     if chrom == \"MT\":\n",
    "#         label.append('MT')\n",
    "#     else:\n",
    "#         label.append('nuclear')\n",
    "# adata.var['nuclear'] = label\n",
    "\n",
    "# label = []\n",
    "# for genes in adata.var['gene_name']:\n",
    "#     if genes[:2]=='Rp':\n",
    "#         label.append('Ribosomal protein')\n",
    "#     else:\n",
    "#         label.append('other protein')\n",
    "# adata.var['Ribosomal_prot'] = label\n",
    "\n",
    "# utils.remove_na(adata)\n",
    "# utils.find_ratios_sum(adata)\n",
    "# utils.find_ratios_std(adata)\n",
    "# utils.get_p_values(adata)"
   ]
  },
  {
   "cell_type": "code",
   "execution_count": 3,
   "id": "bfb3ee3f",
   "metadata": {
    "scrolled": false
   },
   "outputs": [],
   "source": [
    "# method set to gauss as there is problem with numpy and numba version\n",
    "# sc.pp.neighbors(adata, n_neighbors=8, n_pcs=31, use_rep='X',method='gauss')\n",
    "# sc.tl.umap(adata)\n",
    "# sc.tl.leiden(adata)\n",
    "# adata.obs['clusters'] = adata.obs['leiden'].copy()"
   ]
  },
  {
   "cell_type": "code",
   "execution_count": 4,
   "id": "1c617257",
   "metadata": {},
   "outputs": [],
   "source": [
    "# adata.var['chromosome'] = adata.var['chromosome'].astype('str') \n",
    "# adata.var['chromosome']"
   ]
  },
  {
   "cell_type": "code",
   "execution_count": 5,
   "id": "0b32d1a4",
   "metadata": {},
   "outputs": [],
   "source": [
    "# adata.write('data/test_scv.h5ad')"
   ]
  },
  {
   "cell_type": "code",
   "execution_count": 6,
   "id": "cdecf548",
   "metadata": {},
   "outputs": [],
   "source": [
    "adata = sc.read_h5ad('data/test_scv.h5ad')"
   ]
  },
  {
   "cell_type": "code",
   "execution_count": 7,
   "id": "2c12b93d",
   "metadata": {},
   "outputs": [
    {
     "data": {
      "text/plain": [
       "AnnData object with n_obs × n_vars = 682 × 3134\n",
       "    obs: 'leiden', 'clusters'\n",
       "    var: 'gene_name', 'chromosome', 'autosomes', 'nuclear', 'Ribosomal_prot', 'sum_allele_1', 'sum_allele_2', 'ratio_allele_1', 'ratio_allele_2', 'ratio_sum_allele_1', 'ratio_sum_allele_2', 'ratio_mean_allele_1', 'ratio_mean_allele_2', 'ratio_std_allele_1', 'ratio_std_allele_2', 'p_value'\n",
       "    uns: 'leiden', 'neighbors', 'umap'\n",
       "    obsm: 'X_umap'\n",
       "    layers: 'ratio_allele_1', 'ratio_allele_2', 'spliced', 'unspliced'\n",
       "    obsp: 'connectivities', 'distances'"
      ]
     },
     "execution_count": 7,
     "metadata": {},
     "output_type": "execute_result"
    }
   ],
   "source": [
    "adata"
   ]
  },
  {
   "cell_type": "code",
   "execution_count": 8,
   "id": "e29655cf",
   "metadata": {},
   "outputs": [
    {
     "name": "stdout",
     "output_type": "stream",
     "text": [
      "Filtered out 1286 genes that are detected 10 counts (shared).\n",
      "Normalized count data: X, spliced, unspliced.\n",
      "Skip filtering by dispersion since number of variables are less than `n_top_genes`.\n",
      "WARNING: Did not modify X as it looks preprocessed already.\n",
      "computing neighbors\n",
      "    finished (0:00:00) --> added \n",
      "    'distances' and 'connectivities', weighted adjacency matrices (adata.obsp)\n",
      "computing moments based on connectivities\n",
      "    finished (0:00:00) --> added \n",
      "    'Ms' and 'Mu', moments of un/spliced abundances (adata.layers)\n"
     ]
    },
    {
     "data": {
      "image/png": "[encoded data removed]",
      "text/plain": [
       "<Figure size 1000x200 with 2 Axes>"
      ]
     },
     "metadata": {
      "needs_background": "light"
     },
     "output_type": "display_data"
    }
   ],
   "source": [
    "test = scv.ScVelo(adata)"
   ]
  },
  {
   "cell_type": "code",
   "execution_count": 10,
   "id": "971a9249",
   "metadata": {},
   "outputs": [
    {
     "ename": "KeyError",
     "evalue": "'ENSMUSG00000006050'",
     "output_type": "error",
     "traceback": [
      "\u001b[1;31m---------------------------------------------------------------------------\u001b[0m",
      "\u001b[1;31mKeyError\u001b[0m                                  Traceback (most recent call last)",
      "File \u001b[1;32m~\\Miniconda3\\envs\\scvelo3\\lib\\site-packages\\pandas\\core\\indexes\\base.py:3621\u001b[0m, in \u001b[0;36mIndex.get_loc\u001b[1;34m(self, key, method, tolerance)\u001b[0m\n\u001b[0;32m   3620\u001b[0m \u001b[38;5;28;01mtry\u001b[39;00m:\n\u001b[1;32m-> 3621\u001b[0m     \u001b[38;5;28;01mreturn\u001b[39;00m \u001b[38;5;28;43mself\u001b[39;49m\u001b[38;5;241;43m.\u001b[39;49m\u001b[43m_engine\u001b[49m\u001b[38;5;241;43m.\u001b[39;49m\u001b[43mget_loc\u001b[49m\u001b[43m(\u001b[49m\u001b[43mcasted_key\u001b[49m\u001b[43m)\u001b[49m\n\u001b[0;32m   3622\u001b[0m \u001b[38;5;28;01mexcept\u001b[39;00m \u001b[38;5;167;01mKeyError\u001b[39;00m \u001b[38;5;28;01mas\u001b[39;00m err:\n",
      "File \u001b[1;32m~\\Miniconda3\\envs\\scvelo3\\lib\\site-packages\\pandas\\_libs\\index.pyx:136\u001b[0m, in \u001b[0;36mpandas._libs.index.IndexEngine.get_loc\u001b[1;34m()\u001b[0m\n",
      "File \u001b[1;32m~\\Miniconda3\\envs\\scvelo3\\lib\\site-packages\\pandas\\_libs\\index.pyx:163\u001b[0m, in \u001b[0;36mpandas._libs.index.IndexEngine.get_loc\u001b[1;34m()\u001b[0m\n",
      "File \u001b[1;32mpandas\\_libs\\hashtable_class_helper.pxi:5198\u001b[0m, in \u001b[0;36mpandas._libs.hashtable.PyObjectHashTable.get_item\u001b[1;34m()\u001b[0m\n",
      "File \u001b[1;32mpandas\\_libs\\hashtable_class_helper.pxi:5206\u001b[0m, in \u001b[0;36mpandas._libs.hashtable.PyObjectHashTable.get_item\u001b[1;34m()\u001b[0m\n",
      "\u001b[1;31mKeyError\u001b[0m: 'ENSMUSG00000006050'",
      "\nThe above exception was the direct cause of the following exception:\n",
      "\u001b[1;31mKeyError\u001b[0m                                  Traceback (most recent call last)",
      "Input \u001b[1;32mIn [10]\u001b[0m, in \u001b[0;36m<cell line: 1>\u001b[1;34m()\u001b[0m\n\u001b[1;32m----> 1\u001b[0m \u001b[43madata\u001b[49m\u001b[38;5;241;43m.\u001b[39;49m\u001b[43mvar\u001b[49m\u001b[43m[\u001b[49m\u001b[38;5;124;43m'\u001b[39;49m\u001b[38;5;124;43mENSMUSG00000006050\u001b[39;49m\u001b[38;5;124;43m'\u001b[39;49m\u001b[43m]\u001b[49m\n",
      "File \u001b[1;32m~\\Miniconda3\\envs\\scvelo3\\lib\\site-packages\\pandas\\core\\frame.py:3505\u001b[0m, in \u001b[0;36mDataFrame.__getitem__\u001b[1;34m(self, key)\u001b[0m\n\u001b[0;32m   3503\u001b[0m \u001b[38;5;28;01mif\u001b[39;00m \u001b[38;5;28mself\u001b[39m\u001b[38;5;241m.\u001b[39mcolumns\u001b[38;5;241m.\u001b[39mnlevels \u001b[38;5;241m>\u001b[39m \u001b[38;5;241m1\u001b[39m:\n\u001b[0;32m   3504\u001b[0m     \u001b[38;5;28;01mreturn\u001b[39;00m \u001b[38;5;28mself\u001b[39m\u001b[38;5;241m.\u001b[39m_getitem_multilevel(key)\n\u001b[1;32m-> 3505\u001b[0m indexer \u001b[38;5;241m=\u001b[39m \u001b[38;5;28;43mself\u001b[39;49m\u001b[38;5;241;43m.\u001b[39;49m\u001b[43mcolumns\u001b[49m\u001b[38;5;241;43m.\u001b[39;49m\u001b[43mget_loc\u001b[49m\u001b[43m(\u001b[49m\u001b[43mkey\u001b[49m\u001b[43m)\u001b[49m\n\u001b[0;32m   3506\u001b[0m \u001b[38;5;28;01mif\u001b[39;00m is_integer(indexer):\n\u001b[0;32m   3507\u001b[0m     indexer \u001b[38;5;241m=\u001b[39m [indexer]\n",
      "File \u001b[1;32m~\\Miniconda3\\envs\\scvelo3\\lib\\site-packages\\pandas\\core\\indexes\\base.py:3623\u001b[0m, in \u001b[0;36mIndex.get_loc\u001b[1;34m(self, key, method, tolerance)\u001b[0m\n\u001b[0;32m   3621\u001b[0m     \u001b[38;5;28;01mreturn\u001b[39;00m \u001b[38;5;28mself\u001b[39m\u001b[38;5;241m.\u001b[39m_engine\u001b[38;5;241m.\u001b[39mget_loc(casted_key)\n\u001b[0;32m   3622\u001b[0m \u001b[38;5;28;01mexcept\u001b[39;00m \u001b[38;5;167;01mKeyError\u001b[39;00m \u001b[38;5;28;01mas\u001b[39;00m err:\n\u001b[1;32m-> 3623\u001b[0m     \u001b[38;5;28;01mraise\u001b[39;00m \u001b[38;5;167;01mKeyError\u001b[39;00m(key) \u001b[38;5;28;01mfrom\u001b[39;00m \u001b[38;5;21;01merr\u001b[39;00m\n\u001b[0;32m   3624\u001b[0m \u001b[38;5;28;01mexcept\u001b[39;00m \u001b[38;5;167;01mTypeError\u001b[39;00m:\n\u001b[0;32m   3625\u001b[0m     \u001b[38;5;66;03m# If we have a listlike key, _check_indexing_error will raise\u001b[39;00m\n\u001b[0;32m   3626\u001b[0m     \u001b[38;5;66;03m#  InvalidIndexError. Otherwise we fall through and re-raise\u001b[39;00m\n\u001b[0;32m   3627\u001b[0m     \u001b[38;5;66;03m#  the TypeError.\u001b[39;00m\n\u001b[0;32m   3628\u001b[0m     \u001b[38;5;28mself\u001b[39m\u001b[38;5;241m.\u001b[39m_check_indexing_error(key)\n",
      "\u001b[1;31mKeyError\u001b[0m: 'ENSMUSG00000006050'"
     ]
    }
   ],
   "source": [
    "adata.var['ENSMUSG00000006057']"
   ]
  },
  {
   "cell_type": "code",
   "execution_count": null,
   "id": "4393e818",
   "metadata": {},
   "outputs": [],
   "source": []
  }
 ],
 "metadata": {
  "kernelspec": {
   "display_name": "Python 3 (ipykernel)",
   "language": "python",
   "name": "python3"
  },
  "language_info": {
   "codemirror_mode": {
    "name": "ipython",
    "version": 3
   },
   "file_extension": ".py",
   "mimetype": "text/x-python",
   "name": "python",
   "nbconvert_exporter": "python",
   "pygments_lexer": "ipython3",
   "version": "3.8.13"
  }
 },
 "nbformat": 4,
 "nbformat_minor": 5
}
