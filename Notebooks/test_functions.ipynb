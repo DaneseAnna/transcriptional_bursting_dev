{
 "cells": [
  {
   "cell_type": "code",
   "execution_count": 85,
   "id": "a4c19881",
   "metadata": {},
   "outputs": [],
   "source": [
    "import statisUtils as utils\n",
    "import pandas as pd\n",
    "import numpy as np\n",
    "from scipy.special import gamma, binom"
   ]
  },
  {
   "cell_type": "code",
   "execution_count": 2,
   "id": "dd5d119d",
   "metadata": {},
   "outputs": [
    {
     "data": {
      "text/html": [
       "<div>\n",
       "<style scoped>\n",
       "    .dataframe tbody tr th:only-of-type {\n",
       "        vertical-align: middle;\n",
       "    }\n",
       "\n",
       "    .dataframe tbody tr th {\n",
       "        vertical-align: top;\n",
       "    }\n",
       "\n",
       "    .dataframe thead th {\n",
       "        text-align: right;\n",
       "    }\n",
       "</style>\n",
       "<table border=\"1\" class=\"dataframe\">\n",
       "  <thead>\n",
       "    <tr style=\"text-align: right;\">\n",
       "      <th></th>\n",
       "      <th>0</th>\n",
       "      <th>1</th>\n",
       "      <th>2</th>\n",
       "      <th>3</th>\n",
       "      <th>4</th>\n",
       "      <th>5</th>\n",
       "      <th>6</th>\n",
       "      <th>7</th>\n",
       "      <th>8</th>\n",
       "      <th>9</th>\n",
       "      <th>...</th>\n",
       "      <th>2151</th>\n",
       "      <th>2152</th>\n",
       "      <th>2153</th>\n",
       "      <th>2154</th>\n",
       "      <th>2155</th>\n",
       "      <th>2156</th>\n",
       "      <th>2157</th>\n",
       "      <th>2158</th>\n",
       "      <th>2159</th>\n",
       "      <th>2160</th>\n",
       "    </tr>\n",
       "  </thead>\n",
       "  <tbody>\n",
       "    <tr>\n",
       "      <th>0</th>\n",
       "      <td>10</td>\n",
       "      <td>17</td>\n",
       "      <td>1</td>\n",
       "      <td>0</td>\n",
       "      <td>1</td>\n",
       "      <td>5</td>\n",
       "      <td>-1</td>\n",
       "      <td>0</td>\n",
       "      <td>3</td>\n",
       "      <td>7</td>\n",
       "      <td>...</td>\n",
       "      <td>2</td>\n",
       "      <td>0</td>\n",
       "      <td>4</td>\n",
       "      <td>0</td>\n",
       "      <td>1</td>\n",
       "      <td>0</td>\n",
       "      <td>10</td>\n",
       "      <td>1</td>\n",
       "      <td>6</td>\n",
       "      <td>0</td>\n",
       "    </tr>\n",
       "    <tr>\n",
       "      <th>2</th>\n",
       "      <td>4</td>\n",
       "      <td>18</td>\n",
       "      <td>0</td>\n",
       "      <td>0</td>\n",
       "      <td>8</td>\n",
       "      <td>1</td>\n",
       "      <td>-1</td>\n",
       "      <td>0</td>\n",
       "      <td>4</td>\n",
       "      <td>8</td>\n",
       "      <td>...</td>\n",
       "      <td>8</td>\n",
       "      <td>0</td>\n",
       "      <td>1</td>\n",
       "      <td>3</td>\n",
       "      <td>0</td>\n",
       "      <td>9</td>\n",
       "      <td>-1</td>\n",
       "      <td>2</td>\n",
       "      <td>24</td>\n",
       "      <td>12</td>\n",
       "    </tr>\n",
       "    <tr>\n",
       "      <th>2.1</th>\n",
       "      <td>-1</td>\n",
       "      <td>9</td>\n",
       "      <td>4</td>\n",
       "      <td>4</td>\n",
       "      <td>2</td>\n",
       "      <td>0</td>\n",
       "      <td>-1</td>\n",
       "      <td>0</td>\n",
       "      <td>10</td>\n",
       "      <td>11</td>\n",
       "      <td>...</td>\n",
       "      <td>4</td>\n",
       "      <td>5</td>\n",
       "      <td>5</td>\n",
       "      <td>3</td>\n",
       "      <td>4</td>\n",
       "      <td>3</td>\n",
       "      <td>3</td>\n",
       "      <td>4</td>\n",
       "      <td>21</td>\n",
       "      <td>2</td>\n",
       "    </tr>\n",
       "    <tr>\n",
       "      <th>2.2</th>\n",
       "      <td>-1</td>\n",
       "      <td>14</td>\n",
       "      <td>9</td>\n",
       "      <td>0</td>\n",
       "      <td>5</td>\n",
       "      <td>9</td>\n",
       "      <td>0</td>\n",
       "      <td>2</td>\n",
       "      <td>6</td>\n",
       "      <td>5</td>\n",
       "      <td>...</td>\n",
       "      <td>6</td>\n",
       "      <td>1</td>\n",
       "      <td>4</td>\n",
       "      <td>2</td>\n",
       "      <td>-1</td>\n",
       "      <td>4</td>\n",
       "      <td>-1</td>\n",
       "      <td>7</td>\n",
       "      <td>17</td>\n",
       "      <td>6</td>\n",
       "    </tr>\n",
       "    <tr>\n",
       "      <th>1</th>\n",
       "      <td>0</td>\n",
       "      <td>0</td>\n",
       "      <td>0</td>\n",
       "      <td>2</td>\n",
       "      <td>10</td>\n",
       "      <td>5</td>\n",
       "      <td>10</td>\n",
       "      <td>0</td>\n",
       "      <td>3</td>\n",
       "      <td>0</td>\n",
       "      <td>...</td>\n",
       "      <td>1</td>\n",
       "      <td>6</td>\n",
       "      <td>4</td>\n",
       "      <td>2</td>\n",
       "      <td>5</td>\n",
       "      <td>0</td>\n",
       "      <td>0</td>\n",
       "      <td>2</td>\n",
       "      <td>20</td>\n",
       "      <td>5</td>\n",
       "    </tr>\n",
       "  </tbody>\n",
       "</table>\n",
       "<p>5 rows × 2161 columns</p>\n",
       "</div>"
      ],
      "text/plain": [
       "     0     1     2     3     4     5     6     7     8     9     ...  2151  \\\n",
       "0      10    17     1     0     1     5    -1     0     3     7  ...     2   \n",
       "2       4    18     0     0     8     1    -1     0     4     8  ...     8   \n",
       "2.1    -1     9     4     4     2     0    -1     0    10    11  ...     4   \n",
       "2.2    -1    14     9     0     5     9     0     2     6     5  ...     6   \n",
       "1       0     0     0     2    10     5    10     0     3     0  ...     1   \n",
       "\n",
       "     2152  2153  2154  2155  2156  2157  2158  2159  2160  \n",
       "0       0     4     0     1     0    10     1     6     0  \n",
       "2       0     1     3     0     9    -1     2    24    12  \n",
       "2.1     5     5     3     4     3     3     4    21     2  \n",
       "2.2     1     4     2    -1     4    -1     7    17     6  \n",
       "1       6     4     2     5     0     0     2    20     5  \n",
       "\n",
       "[5 rows x 2161 columns]"
      ]
     },
     "execution_count": 2,
     "metadata": {},
     "output_type": "execute_result"
    }
   ],
   "source": [
    "df = pd.read_csv('data/MEF_QC_all.csv').transpose()\n",
    "df.head()"
   ]
  },
  {
   "cell_type": "code",
   "execution_count": 7,
   "id": "434c0611",
   "metadata": {},
   "outputs": [
    {
     "data": {
      "text/plain": [
       "array([[10, 17,  1, ...,  1,  6,  0],\n",
       "       [ 4, 18,  0, ...,  2, 24, 12],\n",
       "       [-1,  9,  4, ...,  4, 21,  2],\n",
       "       ...,\n",
       "       [ 0, 22,  3, ...,  0, 13,  2],\n",
       "       [ 0,  2,  0, ...,  4,  7,  2],\n",
       "       [ 6, 12,  3, ...,  9,  1,  0]], dtype=int64)"
      ]
     },
     "execution_count": 7,
     "metadata": {},
     "output_type": "execute_result"
    }
   ],
   "source": [
    "data = np.array(df)\n",
    "data"
   ]
  },
  {
   "cell_type": "code",
   "execution_count": 77,
   "id": "4564f6ac",
   "metadata": {},
   "outputs": [],
   "source": [
    "ron = 5.0\n",
    "kon = 2\n",
    "koff=3\n",
    "roff=6\n",
    "mu=4\n",
    "delta=0.5\n",
    "k=4\n",
    "Laplace_s = np.array(range(0,k+1))"
   ]
  },
  {
   "cell_type": "code",
   "execution_count": 71,
   "id": "60eb4773",
   "metadata": {},
   "outputs": [],
   "source": [
    "Lfon = (ron/(Laplace_s + ron))**kon\n",
    "Lfoff = (roff/(Laplace_s + roff))**koff"
   ]
  },
  {
   "cell_type": "code",
   "execution_count": 72,
   "id": "6cc1f865",
   "metadata": {},
   "outputs": [],
   "source": [
    "mean_tau_off = kon/ron\n",
    "mean_tau_on = koff/roff"
   ]
  },
  {
   "cell_type": "code",
   "execution_count": 73,
   "id": "d06f3342",
   "metadata": {},
   "outputs": [],
   "source": [
    "c = 1/(mean_tau_off + mean_tau_on)"
   ]
  },
  {
   "cell_type": "code",
   "execution_count": 74,
   "id": "9ee9dcf6",
   "metadata": {},
   "outputs": [],
   "source": [
    "LFon = np.insert((1-Lfon[1:])/Laplace_s[1:], 0, mean_tau_off)\n",
    "LFoff = np.insert((1-Lfoff[1:])/Laplace_s[1:], 0, mean_tau_on)"
   ]
  },
  {
   "cell_type": "code",
   "execution_count": 75,
   "id": "41390923",
   "metadata": {},
   "outputs": [],
   "source": [
    "Ck = np.zeros(k)\n",
    "Ck[0] = (1 - Lfoff[1])/(mean_tau_off + mean_tau_on)"
   ]
  },
  {
   "cell_type": "code",
   "execution_count": 94,
   "id": "a66bcb72",
   "metadata": {},
   "outputs": [
    {
     "data": {
      "text/plain": [
       "numpy.float64"
      ]
     },
     "execution_count": 94,
     "metadata": {},
     "output_type": "execute_result"
    }
   ],
   "source": []
  },
  {
   "cell_type": "code",
   "execution_count": 138,
   "id": "0fd526de",
   "metadata": {},
   "outputs": [
    {
     "name": "stdout",
     "output_type": "stream",
     "text": [
      "[0.41140266 0.78304908 0.82733613 0.62995267]\n"
     ]
    }
   ],
   "source": [
    "for iter in range(2,k+1):\n",
    "    i = np.array(range(1, iter+1))\n",
    "    Ck_coef = np.array(\n",
    "        (mu**i[0:-1])\n",
    "        * Lfon[iter-i[0:-1]]\n",
    "        * Ck[iter-1-i[0:-1]]\n",
    "        / ((1-Lfoff[iter-i[0:-1]]*Lfon[iter-i[0:-1]])*gamma(i[0:-1]+1)))\n",
    "    Ck_coef_last_element = c*mu**(iter-1)/gamma(iter+1)\n",
    "    Ck_coef=np.append(Ck_coef,Ck_coef_last_element)\n",
    "    \n",
    "    Ck_sum = np.zeros(iter)\n",
    "    for iter_i in range(1, iter+1):\n",
    "        for iter_j in range(0, iter_i+1):\n",
    "            Ck_sum[iter_i-1] = Ck_sum[iter_i-1] + binom(iter_i,iter_j) * (-1)**(iter_i-iter_j)*Lfoff[iter-iter_j]\n",
    "    Ck[iter-1] = np.sum(Ck_coef*Ck_sum)\n",
    "    \n",
    "print(Ck)    "
   ]
  },
  {
   "cell_type": "code",
   "execution_count": 141,
   "id": "210a7a38",
   "metadata": {},
   "outputs": [
    {
     "name": "stdout",
     "output_type": "stream",
     "text": [
      "[2.22222222 2.65719951 2.23965393 1.47945764]\n"
     ]
    }
   ],
   "source": [
    "bk = np.zeros(k);\n",
    "for iter in range(1,k+1):\n",
    "    i = np.array(range(1, iter+1))\n",
    "    bk_coef_first_element = c*mu**(iter)/gamma(iter+1)\n",
    "    bk_coef = np.array(\n",
    "        (mu / iter)\n",
    "        * (mu**(iter-i[0:-1]))\n",
    "        * Lfon[i[0:-1]] \n",
    "        * Ck[i[0:-1]-1]\n",
    "        / (gamma(iter-i[0:-1])*(1-Lfon[i[0:-1]]*Lfoff[i[0:-1]]))\n",
    "    )\n",
    "    bk_coef = np.insert(bk_coef, 0, bk_coef_first_element)\n",
    "    bk_sum = np.zeros(iter)\n",
    "    for iter_i in range(0,iter):\n",
    "        for iter_j in range(0, iter - iter_i):\n",
    "            bk_sum[iter_i] = bk_sum[iter_i] + binom(iter-iter_i-1,iter_j) * (-1)**(iter-iter_i-iter_j-1) * LFoff[iter-iter_j-1]\n",
    "    bk[iter-1] = np.sum(bk_coef*bk_sum)    \n",
    "print(bk)   "
   ]
  },
  {
   "cell_type": "code",
   "execution_count": 154,
   "id": "79ae08a5",
   "metadata": {},
   "outputs": [
    {
     "data": {
      "text/plain": [
       "[2.2222222222222223,\n",
       " 0.5261658031088082,\n",
       " 1.169257340241796,\n",
       " 1.7895827587038013,\n",
       " 3.6713240553647024,\n",
       " 0.44219494339380394]"
      ]
     },
     "execution_count": 154,
     "metadata": {},
     "output_type": "execute_result"
    }
   ],
   "source": [
    "b=bk\n",
    "m = b[0]\n",
    "v = 2*b[1]+b[0]-b[0]**2\n",
    "cv2 = v/(m**2)\n",
    "fano = v/m\n",
    "sk = (6*b[2]+6*b[1]+b[0]-3*b[0]*(2*b[1]+b[0])+2*b[0]**3)/(2*b[1]+b[0]-b[0]**2)**1.5 + 1\n",
    "kt = (24*b[3]+36*b[2]+14*b[1]+b[0]-4*b[0]*(6*b[2]+6*b[1]+b[0])\n",
    "      + 6*b[0]**2*(2*b[1]+b[0])-3*b[0]**4)/(2*b[1]+b[0]-b[0]**2)**2\n",
    "bc = ((sk - 1)**2 + 1)/kt\n",
    "bc\n",
    "statis = [m,cv2,fano,sk,kt,bc]\n",
    "statis"
   ]
  },
  {
   "cell_type": "code",
   "execution_count": null,
   "id": "7a4799c1",
   "metadata": {},
   "outputs": [],
   "source": []
  }
 ],
 "metadata": {
  "kernelspec": {
   "display_name": "Python 3 (ipykernel)",
   "language": "python",
   "name": "python3"
  },
  "language_info": {
   "codemirror_mode": {
    "name": "ipython",
    "version": 3
   },
   "file_extension": ".py",
   "mimetype": "text/x-python",
   "name": "python",
   "nbconvert_exporter": "python",
   "pygments_lexer": "ipython3",
   "version": "3.8.13"
  }
 },
 "nbformat": 4,
 "nbformat_minor": 5
}
